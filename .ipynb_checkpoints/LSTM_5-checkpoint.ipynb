{
 "cells": [
  {
   "cell_type": "markdown",
   "id": "opened-albany",
   "metadata": {},
   "source": [
    "# description: running a LSTM model for classification of 4 targets in B1 "
   ]
  },
  {
   "cell_type": "code",
   "execution_count": 1,
   "id": "paperback-investigator",
   "metadata": {},
   "outputs": [],
   "source": [
    "# loading the library\n",
    "import numpy as np\n",
    "import os\n",
    "import os.path\n",
    "import scipy.io\n",
    "from scipy.io import loadmat\n",
    "import hdf5storage as hdf5s\n",
    "import h5py\n"
   ]
  },
  {
   "cell_type": "code",
   "execution_count": 720,
   "id": "coastal-harmony",
   "metadata": {},
   "outputs": [
    {
     "name": "stdout",
     "output_type": "stream",
     "text": [
      "Session:145058\n",
      "Trial: 1\n",
      "Trial: 2\n"
     ]
    },
    {
     "name": "stderr",
     "output_type": "stream",
     "text": [
      "/home/reza/anaconda3/envs/ECoGControl_RNN/lib/python3.7/site-packages/ipykernel_launcher.py:195: H5pyDeprecationWarning: The default file mode will change to 'r' (read-only) in h5py 3.0. To suppress this warning, pass the mode you need to h5py.File(), or set the global default h5.get_config().default_file_mode, or set the environment variable H5PY_DEFAULT_READONLY=1. Available modes are: 'r', 'r+', 'w', 'w-'/'x', 'a'. See the docs for details.\n"
     ]
    },
    {
     "name": "stdout",
     "output_type": "stream",
     "text": [
      "Trial: 3\n",
      "Trial: 4\n",
      "Trial: 5\n",
      "Trial: 6\n",
      "Trial: 7\n",
      "Trial: 8\n",
      "Trial: 9\n",
      "Trial: 10\n",
      "Session:145910\n",
      "Trial: 1\n",
      "Trial: 2\n",
      "Trial: 3\n",
      "Trial: 4\n",
      "Trial: 5\n",
      "Trial: 6\n",
      "Trial: 7\n",
      "Trial: 8\n",
      "Trial: 9\n",
      "Trial: 10\n",
      "Trial: 11\n",
      "Trial: 12\n",
      "Trial: 13\n",
      "Trial: 14\n",
      "Trial: 15\n",
      "Trial: 16\n",
      "Trial: 17\n",
      "Trial: 18\n",
      "Trial: 19\n",
      "Trial: 20\n",
      "Trial: 21\n",
      "Trial: 22\n",
      "Trial: 23\n",
      "Trial: 24\n",
      "Trial: 25\n",
      "Trial: 26\n",
      "Trial: 27\n",
      "Trial: 28\n",
      "Trial: 29\n",
      "Trial: 30\n",
      "Session:150443\n",
      "Trial: 1\n",
      "Trial: 2\n",
      "Trial: 3\n",
      "Trial: 4\n",
      "Trial: 5\n",
      "Trial: 6\n",
      "Trial: 7\n",
      "Trial: 8\n",
      "Trial: 9\n",
      "Trial: 10\n",
      "Trial: 11\n",
      "Trial: 12\n",
      "Trial: 13\n",
      "Trial: 14\n",
      "Trial: 15\n",
      "Trial: 16\n",
      "Trial: 17\n",
      "Trial: 18\n",
      "Trial: 19\n",
      "Trial: 20\n",
      "Trial: 21\n",
      "Trial: 22\n",
      "Trial: 23\n",
      "Trial: 24\n",
      "Trial: 25\n",
      "Trial: 26\n",
      "Trial: 27\n",
      "Trial: 28\n",
      "Trial: 29\n",
      "Trial: 30\n",
      "Session:151528\n",
      "Trial: 1\n",
      "Trial: 2\n",
      "Trial: 3\n",
      "Trial: 4\n",
      "Trial: 5\n",
      "Trial: 6\n",
      "Trial: 7\n",
      "Trial: 8\n",
      "Trial: 9\n",
      "Trial: 10\n",
      "Trial: 11\n",
      "Trial: 12\n",
      "Trial: 13\n",
      "Trial: 14\n",
      "Trial: 15\n",
      "Trial: 16\n",
      "Trial: 17\n",
      "Trial: 18\n",
      "Trial: 19\n",
      "Trial: 20\n",
      "Trial: 21\n",
      "Trial: 22\n",
      "Trial: 23\n",
      "Trial: 24\n",
      "Trial: 25\n",
      "Trial: 26\n",
      "Trial: 27\n",
      "Trial: 28\n",
      "Trial: 29\n",
      "Trial: 30\n",
      "Session:152108\n",
      "Trial: 1\n",
      "Trial: 2\n",
      "Trial: 3\n",
      "Trial: 4\n",
      "Trial: 5\n",
      "Trial: 6\n",
      "Trial: 7\n",
      "Trial: 8\n",
      "Trial: 9\n",
      "Trial: 10\n",
      "Trial: 11\n",
      "Trial: 12\n",
      "Trial: 13\n",
      "Trial: 14\n",
      "Trial: 15\n",
      "Trial: 16\n",
      "Trial: 17\n",
      "Trial: 18\n",
      "Trial: 19\n",
      "Trial: 20\n",
      "Trial: 21\n",
      "Trial: 22\n",
      "Trial: 23\n",
      "Trial: 24\n",
      "Trial: 25\n",
      "Trial: 26\n",
      "Trial: 27\n",
      "Trial: 28\n",
      "Trial: 29\n",
      "Trial: 30\n",
      "Session:134342\n",
      "Trial: 1\n",
      "Trial: 2\n",
      "Trial: 3\n",
      "Trial: 4\n",
      "Trial: 5\n",
      "Trial: 6\n",
      "Trial: 7\n",
      "Trial: 8\n",
      "Session:134836\n",
      "Trial: 1\n",
      "Trial: 2\n",
      "Trial: 3\n",
      "Trial: 4\n",
      "Trial: 5\n",
      "Trial: 6\n",
      "Trial: 7\n",
      "Trial: 8\n",
      "Trial: 9\n",
      "Trial: 10\n",
      "Trial: 11\n",
      "Trial: 12\n",
      "Trial: 13\n",
      "Trial: 14\n",
      "Trial: 15\n",
      "Trial: 16\n",
      "Trial: 17\n",
      "Trial: 18\n",
      "Trial: 19\n",
      "Trial: 20\n",
      "Trial: 21\n",
      "Trial: 22\n",
      "Trial: 23\n",
      "Trial: 24\n",
      "Trial: 25\n",
      "Trial: 26\n",
      "Trial: 27\n",
      "Trial: 28\n",
      "Trial: 29\n",
      "Trial: 30\n",
      "Session:135450\n",
      "Trial: 1\n",
      "Trial: 2\n",
      "Trial: 3\n",
      "Trial: 4\n",
      "Trial: 5\n",
      "Trial: 6\n",
      "Trial: 7\n",
      "Trial: 8\n",
      "Trial: 9\n",
      "Trial: 10\n",
      "Trial: 11\n",
      "Trial: 12\n",
      "Trial: 13\n",
      "Trial: 14\n",
      "Trial: 15\n",
      "Trial: 16\n",
      "Trial: 17\n",
      "Trial: 18\n",
      "Trial: 19\n",
      "Trial: 20\n",
      "Trial: 21\n",
      "Trial: 22\n",
      "Trial: 23\n",
      "Trial: 24\n",
      "Trial: 25\n",
      "Trial: 26\n",
      "Trial: 27\n",
      "Trial: 28\n",
      "Trial: 29\n",
      "Trial: 30\n",
      "Session:135947\n",
      "Trial: 1\n",
      "Trial: 2\n",
      "Trial: 3\n",
      "Trial: 4\n",
      "Trial: 5\n",
      "Trial: 6\n",
      "Trial: 7\n",
      "Trial: 8\n",
      "Trial: 9\n",
      "Trial: 10\n",
      "Trial: 11\n",
      "Trial: 12\n",
      "Trial: 13\n",
      "Trial: 14\n",
      "Trial: 15\n",
      "Trial: 16\n",
      "Trial: 17\n",
      "Trial: 18\n",
      "Trial: 19\n",
      "Trial: 20\n",
      "Trial: 21\n",
      "Trial: 22\n",
      "Trial: 23\n",
      "Trial: 24\n",
      "Trial: 25\n",
      "Trial: 26\n",
      "Trial: 27\n",
      "Trial: 28\n",
      "Trial: 29\n",
      "Trial: 30\n",
      "Session:142924\n",
      "Trial: 1\n",
      "Trial: 2\n",
      "Trial: 3\n",
      "Trial: 4\n",
      "Trial: 5\n",
      "Trial: 6\n",
      "Trial: 7\n",
      "Trial: 8\n",
      "Trial: 9\n",
      "Trial: 10\n",
      "Trial: 11\n",
      "Trial: 12\n",
      "Trial: 13\n",
      "Trial: 14\n",
      "Trial: 15\n",
      "Trial: 16\n",
      "Trial: 17\n",
      "Trial: 18\n",
      "Trial: 19\n",
      "Trial: 20\n",
      "Trial: 21\n",
      "Trial: 22\n",
      "Trial: 23\n",
      "Trial: 24\n",
      "Trial: 25\n",
      "Trial: 26\n",
      "Trial: 27\n",
      "Trial: 28\n",
      "Trial: 29\n",
      "Trial: 30\n",
      "Session:144138\n",
      "Trial: 1\n",
      "Trial: 2\n",
      "Trial: 3\n",
      "Trial: 4\n",
      "Trial: 5\n",
      "Trial: 6\n",
      "Trial: 7\n",
      "Trial: 8\n",
      "Trial: 9\n",
      "Trial: 10\n",
      "Trial: 11\n",
      "Trial: 12\n",
      "Trial: 13\n",
      "Trial: 14\n",
      "Trial: 15\n",
      "Trial: 16\n",
      "Trial: 17\n",
      "Trial: 18\n",
      "Trial: 19\n",
      "Trial: 20\n",
      "Trial: 21\n",
      "Trial: 22\n",
      "Trial: 23\n",
      "Trial: 24\n",
      "Trial: 25\n",
      "Trial: 26\n",
      "Trial: 27\n",
      "Trial: 28\n",
      "Trial: 29\n",
      "Trial: 30\n",
      "Session:144924\n",
      "Trial: 1\n",
      "Trial: 2\n",
      "Trial: 3\n",
      "Trial: 4\n",
      "Trial: 5\n",
      "Trial: 6\n",
      "Trial: 7\n",
      "Trial: 8\n",
      "Trial: 9\n",
      "Trial: 10\n",
      "Trial: 11\n",
      "Trial: 12\n",
      "Trial: 13\n",
      "Trial: 14\n",
      "Trial: 15\n",
      "Trial: 16\n",
      "Trial: 17\n",
      "Trial: 18\n",
      "Trial: 19\n",
      "Trial: 20\n",
      "Trial: 21\n",
      "Trial: 22\n",
      "Trial: 23\n",
      "Trial: 24\n",
      "Trial: 25\n",
      "Trial: 26\n",
      "Trial: 27\n",
      "Trial: 28\n",
      "Trial: 29\n",
      "Trial: 30\n",
      "Session:133902\n",
      "Trial: 1\n",
      "Trial: 2\n",
      "Trial: 3\n",
      "Trial: 4\n",
      "Trial: 5\n",
      "Trial: 6\n",
      "Trial: 7\n",
      "Trial: 8\n",
      "Trial: 9\n",
      "Trial: 10\n",
      "Trial: 11\n",
      "Trial: 12\n",
      "Trial: 13\n",
      "Trial: 14\n",
      "Trial: 15\n",
      "Trial: 16\n",
      "Session:134541\n",
      "Trial: 1\n",
      "Trial: 2\n",
      "Trial: 3\n",
      "Trial: 4\n",
      "Trial: 5\n",
      "Trial: 6\n",
      "Trial: 7\n",
      "Trial: 8\n",
      "Trial: 9\n",
      "Trial: 10\n",
      "Trial: 11\n",
      "Trial: 12\n",
      "Trial: 13\n",
      "Trial: 14\n",
      "Trial: 15\n",
      "Trial: 16\n",
      "Session:134838\n",
      "Trial: 1\n",
      "Trial: 2\n",
      "Trial: 3\n",
      "Trial: 4\n",
      "Trial: 5\n",
      "Trial: 6\n",
      "Trial: 7\n",
      "Trial: 8\n",
      "Trial: 9\n",
      "Trial: 10\n",
      "Trial: 11\n",
      "Trial: 12\n",
      "Trial: 13\n",
      "Trial: 14\n",
      "Trial: 15\n",
      "Trial: 16\n",
      "Trial: 17\n",
      "Trial: 18\n",
      "Trial: 19\n",
      "Trial: 20\n",
      "Trial: 21\n",
      "Trial: 22\n",
      "Trial: 23\n",
      "Trial: 24\n",
      "Trial: 25\n",
      "Trial: 26\n",
      "Trial: 27\n",
      "Trial: 28\n",
      "Trial: 29\n",
      "Trial: 30\n",
      "Trial: 31\n",
      "Trial: 32\n",
      "Trial: 33\n",
      "Trial: 34\n",
      "Trial: 35\n",
      "Trial: 36\n",
      "Trial: 37\n",
      "Trial: 38\n",
      "Trial: 39\n",
      "Trial: 40\n",
      "Trial: 41\n",
      "Trial: 42\n",
      "Trial: 43\n",
      "Trial: 44\n",
      "Trial: 45\n",
      "Trial: 46\n",
      "Trial: 47\n",
      "Trial: 48\n",
      "Session:141625\n",
      "Trial: 1\n",
      "Trial: 2\n",
      "Trial: 3\n",
      "Trial: 4\n",
      "Trial: 5\n",
      "Trial: 6\n",
      "Trial: 7\n",
      "Trial: 8\n",
      "Trial: 9\n",
      "Trial: 10\n",
      "Trial: 11\n",
      "Trial: 12\n",
      "Trial: 13\n",
      "Trial: 14\n",
      "Trial: 15\n",
      "Trial: 16\n",
      "Trial: 17\n",
      "Trial: 18\n",
      "Trial: 19\n",
      "Trial: 20\n",
      "Trial: 21\n",
      "Trial: 22\n",
      "Trial: 23\n",
      "Trial: 24\n",
      "Trial: 25\n",
      "Trial: 26\n",
      "Trial: 27\n",
      "Trial: 28\n",
      "Trial: 29\n",
      "Trial: 30\n",
      "Trial: 31\n",
      "Trial: 32\n",
      "Session:142426\n",
      "Trial: 1\n",
      "Trial: 2\n",
      "Trial: 3\n",
      "Trial: 4\n",
      "Trial: 5\n",
      "Trial: 6\n",
      "Trial: 7\n",
      "Trial: 8\n",
      "Trial: 9\n",
      "Trial: 10\n",
      "Trial: 11\n",
      "Trial: 12\n",
      "Trial: 13\n",
      "Trial: 14\n",
      "Trial: 15\n",
      "Trial: 16\n",
      "Trial: 17\n",
      "Trial: 18\n",
      "Trial: 19\n",
      "Trial: 20\n",
      "Trial: 21\n",
      "Trial: 22\n",
      "Trial: 23\n",
      "Trial: 24\n",
      "Trial: 25\n",
      "Trial: 26\n",
      "Trial: 27\n",
      "Trial: 28\n",
      "Trial: 29\n",
      "Trial: 30\n",
      "Trial: 31\n",
      "Trial: 32\n",
      "Session:134350\n",
      "Trial: 1\n",
      "Trial: 2\n",
      "Trial: 3\n",
      "Trial: 4\n",
      "Trial: 5\n",
      "Trial: 6\n",
      "Trial: 7\n",
      "Trial: 8\n",
      "Trial: 9\n",
      "Trial: 10\n",
      "Trial: 11\n",
      "Trial: 12\n",
      "Trial: 13\n",
      "Trial: 14\n",
      "Trial: 15\n",
      "Trial: 16\n",
      "Trial: 17\n",
      "Trial: 18\n",
      "Trial: 19\n",
      "Trial: 20\n",
      "Trial: 21\n",
      "Trial: 22\n",
      "Trial: 23\n",
      "Trial: 24\n",
      "Trial: 25\n",
      "Trial: 26\n",
      "Trial: 27\n",
      "Trial: 28\n",
      "Trial: 29\n",
      "Trial: 30\n",
      "Trial: 31\n",
      "Trial: 32\n",
      "Session:135330\n",
      "Trial: 1\n",
      "Trial: 2\n",
      "Trial: 3\n",
      "Trial: 4\n",
      "Trial: 5\n",
      "Trial: 6\n",
      "Trial: 7\n",
      "Trial: 8\n",
      "Trial: 9\n",
      "Trial: 10\n",
      "Trial: 11\n",
      "Trial: 12\n",
      "Trial: 13\n",
      "Trial: 14\n",
      "Trial: 15\n",
      "Trial: 16\n",
      "Trial: 17\n",
      "Trial: 18\n",
      "Trial: 19\n",
      "Trial: 20\n",
      "Trial: 21\n",
      "Trial: 22\n",
      "Trial: 23\n",
      "Trial: 24\n",
      "Trial: 25\n",
      "Trial: 26\n",
      "Trial: 27\n",
      "Trial: 28\n",
      "Trial: 29\n",
      "Trial: 30\n",
      "Trial: 31\n",
      "Trial: 32\n",
      "Session:135938\n",
      "Trial: 1\n",
      "Trial: 2\n",
      "Trial: 3\n",
      "Trial: 4\n",
      "Trial: 5\n",
      "Trial: 6\n",
      "Trial: 7\n",
      "Trial: 8\n",
      "Trial: 9\n",
      "Trial: 10\n",
      "Trial: 11\n",
      "Trial: 12\n",
      "Trial: 13\n",
      "Trial: 14\n",
      "Trial: 15\n",
      "Trial: 16\n",
      "Trial: 17\n",
      "Trial: 18\n",
      "Trial: 19\n",
      "Trial: 20\n",
      "Trial: 21\n",
      "Trial: 22\n",
      "Trial: 23\n",
      "Trial: 24\n",
      "Trial: 25\n",
      "Trial: 26\n",
      "Trial: 27\n",
      "Trial: 28\n",
      "Trial: 29\n",
      "Trial: 30\n",
      "Trial: 31\n",
      "Trial: 32\n",
      "Session:140554\n",
      "Trial: 1\n",
      "Trial: 2\n",
      "Trial: 3\n",
      "Trial: 4\n",
      "Trial: 5\n",
      "Trial: 6\n",
      "Trial: 7\n",
      "Trial: 8\n",
      "Trial: 9\n",
      "Trial: 10\n",
      "Trial: 11\n",
      "Trial: 12\n",
      "Trial: 13\n",
      "Trial: 14\n",
      "Trial: 15\n",
      "Trial: 16\n",
      "Trial: 17\n",
      "Trial: 18\n",
      "Trial: 19\n",
      "Trial: 20\n",
      "Trial: 21\n",
      "Trial: 22\n",
      "Trial: 23\n",
      "Trial: 24\n",
      "Trial: 25\n",
      "Trial: 26\n",
      "Trial: 27\n",
      "Trial: 28\n",
      "Trial: 29\n",
      "Trial: 30\n",
      "Trial: 31\n",
      "Trial: 32\n",
      "Session:111747\n",
      "Trial: 1\n",
      "Trial: 2\n",
      "Trial: 3\n",
      "Trial: 4\n",
      "Trial: 5\n",
      "Trial: 6\n",
      "Trial: 7\n",
      "Trial: 8\n",
      "Trial: 9\n",
      "Trial: 10\n",
      "Trial: 11\n",
      "Trial: 12\n",
      "Trial: 13\n",
      "Trial: 14\n",
      "Trial: 15\n",
      "Trial: 16\n",
      "Trial: 17\n",
      "Trial: 18\n",
      "Trial: 19\n",
      "Trial: 20\n",
      "Trial: 21\n",
      "Trial: 22\n",
      "Trial: 23\n",
      "Trial: 24\n",
      "Trial: 25\n",
      "Trial: 26\n",
      "Trial: 27\n",
      "Trial: 28\n",
      "Trial: 29\n",
      "Trial: 30\n",
      "Trial: 31\n",
      "Trial: 32\n",
      "Session:112508\n",
      "Trial: 1\n",
      "Trial: 2\n",
      "Trial: 3\n",
      "Trial: 4\n",
      "Trial: 5\n",
      "Trial: 6\n",
      "Trial: 7\n",
      "Trial: 8\n",
      "Trial: 9\n",
      "Trial: 10\n",
      "Trial: 11\n",
      "Trial: 12\n",
      "Trial: 13\n",
      "Trial: 14\n",
      "Trial: 15\n",
      "Trial: 16\n",
      "Trial: 17\n",
      "Trial: 18\n",
      "Trial: 19\n",
      "Trial: 20\n",
      "Trial: 21\n",
      "Trial: 22\n",
      "Trial: 23\n",
      "Trial: 24\n",
      "Trial: 25\n",
      "Trial: 26\n",
      "Trial: 27\n",
      "Trial: 28\n",
      "Trial: 29\n",
      "Trial: 30\n",
      "Trial: 31\n",
      "Trial: 32\n",
      "Session:113040\n",
      "Trial: 1\n",
      "Trial: 2\n",
      "Trial: 3\n",
      "Trial: 4\n",
      "Trial: 5\n",
      "Trial: 6\n",
      "Trial: 7\n",
      "Trial: 8\n",
      "Trial: 9\n",
      "Trial: 10\n",
      "Trial: 11\n",
      "Trial: 12\n",
      "Trial: 13\n",
      "Trial: 14\n",
      "Trial: 15\n",
      "Trial: 16\n",
      "Trial: 17\n",
      "Trial: 18\n",
      "Trial: 19\n",
      "Trial: 20\n",
      "Trial: 21\n",
      "Trial: 22\n",
      "Trial: 23\n",
      "Trial: 24\n",
      "Trial: 25\n",
      "Trial: 26\n",
      "Trial: 27\n",
      "Trial: 28\n",
      "Trial: 29\n",
      "Trial: 30\n",
      "Trial: 31\n",
      "Trial: 32\n",
      "Session:141009\n",
      "Trial: 1\n",
      "Trial: 2\n",
      "Trial: 3\n",
      "Trial: 4\n",
      "Trial: 5\n",
      "Trial: 6\n",
      "Trial: 7\n",
      "Trial: 8\n",
      "Trial: 9\n",
      "Trial: 10\n",
      "Trial: 11\n",
      "Trial: 12\n",
      "Trial: 13\n",
      "Trial: 14\n",
      "Trial: 15\n",
      "Trial: 16\n",
      "Trial: 17\n",
      "Trial: 18\n",
      "Trial: 19\n",
      "Trial: 20\n",
      "Trial: 21\n",
      "Trial: 22\n",
      "Trial: 23\n",
      "Trial: 24\n",
      "Trial: 25\n",
      "Trial: 26\n",
      "Trial: 27\n",
      "Trial: 28\n",
      "Trial: 29\n",
      "Trial: 30\n",
      "Trial: 31\n",
      "Trial: 32\n",
      "Session:140255\n",
      "Trial: 1\n",
      "Trial: 2\n",
      "Trial: 3\n",
      "Trial: 4\n",
      "Trial: 5\n",
      "Trial: 6\n",
      "Trial: 7\n",
      "Trial: 8\n",
      "Trial: 9\n",
      "Trial: 10\n",
      "Session:140540\n",
      "Trial: 1\n",
      "Trial: 2\n",
      "Trial: 3\n",
      "Trial: 4\n",
      "Trial: 5\n",
      "Trial: 6\n",
      "Trial: 7\n",
      "Trial: 8\n",
      "Trial: 9\n",
      "Trial: 10\n",
      "Trial: 11\n",
      "Trial: 12\n",
      "Trial: 13\n",
      "Trial: 14\n",
      "Trial: 15\n",
      "Trial: 16\n",
      "Trial: 17\n",
      "Trial: 18\n",
      "Trial: 19\n",
      "Trial: 20\n",
      "Trial: 21\n",
      "Trial: 22\n",
      "Trial: 23\n",
      "Trial: 24\n",
      "Trial: 25\n",
      "Trial: 26\n",
      "Trial: 27\n",
      "Trial: 28\n",
      "Trial: 29\n",
      "Trial: 30\n",
      "Trial: 31\n",
      "Trial: 32\n",
      "Session:114458\n",
      "Trial: 1\n",
      "Trial: 2\n",
      "Trial: 3\n",
      "Trial: 4\n",
      "Trial: 5\n",
      "Trial: 6\n",
      "Trial: 7\n",
      "Trial: 8\n",
      "Trial: 9\n",
      "Trial: 10\n",
      "Trial: 11\n",
      "Trial: 12\n",
      "Trial: 13\n",
      "Trial: 14\n",
      "Trial: 15\n",
      "Trial: 16\n",
      "Session:114725\n",
      "Trial: 1\n",
      "Trial: 2\n",
      "Trial: 3\n",
      "Trial: 4\n",
      "Trial: 5\n",
      "Trial: 6\n",
      "Trial: 7\n",
      "Trial: 8\n",
      "Trial: 9\n",
      "Trial: 10\n",
      "Trial: 11\n",
      "Trial: 12\n",
      "Trial: 13\n",
      "Trial: 14\n",
      "Trial: 15\n",
      "Trial: 16\n",
      "Session:104954\n",
      "Trial: 1\n",
      "Trial: 2\n",
      "Trial: 3\n",
      "Trial: 4\n",
      "Trial: 5\n",
      "Trial: 6\n",
      "Trial: 7\n",
      "Trial: 8\n",
      "Trial: 9\n",
      "Trial: 10\n",
      "Trial: 11\n",
      "Trial: 12\n",
      "Trial: 13\n"
     ]
    },
    {
     "name": "stdout",
     "output_type": "stream",
     "text": [
      "Trial: 14\n",
      "Trial: 15\n",
      "Trial: 16\n",
      "Trial: 17\n",
      "Trial: 18\n",
      "Trial: 19\n",
      "Trial: 20\n",
      "Trial: 21\n",
      "Trial: 22\n",
      "Trial: 23\n",
      "Trial: 24\n",
      "Trial: 25\n",
      "Trial: 26\n",
      "Trial: 27\n",
      "Trial: 28\n",
      "Trial: 29\n",
      "Trial: 30\n",
      "Trial: 31\n",
      "Trial: 32\n",
      "Session:105847\n",
      "Trial: 1\n",
      "Trial: 2\n",
      "Trial: 3\n",
      "Trial: 4\n",
      "Trial: 5\n",
      "Trial: 6\n",
      "Trial: 7\n",
      "Trial: 8\n",
      "Trial: 9\n",
      "Trial: 10\n",
      "Trial: 11\n",
      "Trial: 12\n",
      "Trial: 13\n",
      "Trial: 14\n",
      "Trial: 15\n",
      "Trial: 16\n",
      "Trial: 17\n",
      "Trial: 18\n",
      "Trial: 19\n",
      "Trial: 20\n",
      "Trial: 21\n",
      "Trial: 22\n",
      "Trial: 23\n",
      "Trial: 24\n",
      "Trial: 25\n",
      "Trial: 26\n",
      "Trial: 27\n",
      "Trial: 28\n",
      "Trial: 29\n",
      "Trial: 30\n",
      "Trial: 31\n",
      "End of Running Section\n"
     ]
    }
   ],
   "source": [
    "\n",
    "# Experiment info \n",
    "# loading the imagined data\n",
    "\n",
    "# initilize the values\n",
    "class structtype():\n",
    "    pass\n",
    "\n",
    "ExptDays = list(['20201002','20201009','20201016','20201030','20201113','20201117','20201118','20201125','20201211','20201218'])\n",
    "NumDay = len(ExptDays);\n",
    "SessionDay = [ structtype() for i in range(NumDay)]\n",
    "SessionDay[0].hhmmss = list(['145058','145910','150443','151528','152108'])\n",
    "SessionDay[1].hhmmss = list(['134342','134836','135450','135947'])\n",
    "SessionDay[2].hhmmss = list(['142924','144138','144924'])\n",
    "SessionDay[3].hhmmss = list(['133902','134541','134838','141625','142426'])\n",
    "SessionDay[4].hhmmss = list(['134350','135330','135938','140554'])\n",
    "SessionDay[5].hhmmss = list(['111747','112508','113040','141009'])\n",
    "SessionDay[6].hhmmss = list(['140255','140540'])\n",
    "SessionDay[7].hhmmss = list(['105228','111217','112507','112711','113526','114108','143218','143824'])\n",
    "SessionDay[8].hhmmss = list(['114458','114725'])\n",
    "SessionDay[9].hhmmss = list(['104954','105847'])\n",
    "\n",
    "# for reading mat file from matlab\n",
    "# it is easier to use class for further extracting necessary params or data\n",
    "class MatFileAnalyzer():\n",
    "    \n",
    "    # first mandatory method; constructor\n",
    "    def __init__(self,Mat_data):\n",
    "        self.Fs = Mat_data['TrialData']['Params']['Fs'][0][0]\n",
    "        self.UpdateRate = Mat_data['TrialData']['Params']['UpdateRate'][0][0]\n",
    "        self.TargetID = Mat_data['TrialData']['TargetID'][0][0]\n",
    "        self.SelectedTargetID = Mat_data['TrialData']['SelectedTargetID'][0][0]\n",
    "        self.MaxReachTime = Mat_data['TrialData']['Params']['MaxReachTime'][0][0]\n",
    "        self.Click_BinNum = Mat_data['TrialData']['Params']['ClickCounter'][0][0]\n",
    "        \n",
    "    def ECoG_Raw(self):\n",
    "\n",
    "        Signals = Mat_data['TrialData']['BroadbandData']\n",
    "        BinNum = Signals.shape[0]\n",
    "        ECoGData = np.empty((0,128), dtype=float)\n",
    "        for i in range(BinNum):\n",
    "            Bin = Mat_data['TrialData']['BroadbandData'][i][0]\n",
    "            BinName = h5py.h5r.get_name(Bin, Mat_data.id)\n",
    "            BinInfo = Mat_data[BinName] \n",
    "            BinData = BinInfo[:,:]\n",
    "            ECoGData = np.concatenate((ECoGData, BinData.T), axis=0)\n",
    "\n",
    "        return ECoGData\n",
    "    \n",
    "    \n",
    "    def ECoG_Raw_Trial(self):\n",
    "        \n",
    "        Signals = Mat_data['TrialData']['BroadbandData']\n",
    "        BinNum = Signals.shape[0]\n",
    "        ECoGData_Trial = np.empty((0,128), dtype=float)\n",
    "        \n",
    "        if ExptDays[Day] == '20201002':\n",
    "        \n",
    "            for i in range(BinNum-int(self.Click_BinNum),BinNum,1):\n",
    "                Bin = Mat_data['TrialData']['BroadbandData'][i][0]\n",
    "                BinName = h5py.h5r.get_name(Bin, Mat_data.id)\n",
    "                BinInfo = Mat_data[BinName] \n",
    "                BinData = BinInfo[:,:]\n",
    "                ECoGData_Trial = np.concatenate((ECoGData_Trial, BinData.T), axis=0)\n",
    "\n",
    "            return ECoGData_Trial\n",
    "        \n",
    "        else:\n",
    "                        \n",
    "            BinControl = [] \n",
    "            for i in range(BinNum):\n",
    "                if Mat_data['TrialData']['TaskState'][i][0] == 3:\n",
    "                    BinControl.append(i)\n",
    "             \n",
    "            for j in BinControl[-int(TrialData.Click_BinNum):]:\n",
    "                if ExptDays[Day] == '20201009':\n",
    "                    j=j-1\n",
    "                    \n",
    "                Bin = Mat_data['TrialData']['BroadbandData'][j][0]\n",
    "                BinName = h5py.h5r.get_name(Bin, Mat_data.id)\n",
    "                BinInfo = Mat_data[BinName] \n",
    "                BinData = BinInfo[:,:]\n",
    "                ECoGData_Trial = np.concatenate((ECoGData_Trial, BinData.T), axis=0)\n",
    "                \n",
    "            return ECoGData_Trial\n",
    "        \n",
    "    \n",
    "    def Features_All(self):\n",
    "        \n",
    "        Features = Mat_data['TrialData']['NeuralFeatures']\n",
    "        BinNum = Features.shape[0]\n",
    "        NeuralFeatures = np.empty((0,896), dtype=float)\n",
    "        \n",
    "        if ExptDays[Day] == '20201002':\n",
    "            \n",
    "            for i in range(BinNum-int(self.Click_BinNum),BinNum,1):\n",
    "                Bin = Mat_data['TrialData']['NeuralFeatures'][i][0]\n",
    "                BinName = h5py.h5r.get_name(Bin, Mat_data.id)\n",
    "                BinInfo = Mat_data[BinName] \n",
    "                BinData = BinInfo[:,:]\n",
    "                NeuralFeatures = np.concatenate((NeuralFeatures, BinData), axis=0)\n",
    "                \n",
    "            return NeuralFeatures\n",
    "        \n",
    "        else:\n",
    "                        \n",
    "            BinControl = [] \n",
    "            for i in range(BinNum):\n",
    "                if Mat_data['TrialData']['TaskState'][i][0] == 3:\n",
    "                    BinControl.append(i)\n",
    "             \n",
    "            for j in BinControl[-int(TrialData.Click_BinNum):]:\n",
    "                if ExptDays[Day] == '20201009':\n",
    "                    j=j-1\n",
    "                    \n",
    "                Bin = Mat_data['TrialData']['NeuralFeatures'][j][0]\n",
    "                BinName = h5py.h5r.get_name(Bin, Mat_data.id)\n",
    "                BinInfo = Mat_data[BinName] \n",
    "                BinData = BinInfo[:,:]\n",
    "                NeuralFeatures = np.concatenate((NeuralFeatures, BinData), axis=0)\n",
    "                \n",
    "            return NeuralFeatures\n",
    "        \n",
    "    def SmoothedFeatures_All(self):\n",
    "        \n",
    "        Features = Mat_data['TrialData']['SmoothedNeuralFeatures']\n",
    "        BinNum = Features.shape[0]\n",
    "        SmoothedNeuralFeatures = np.empty((0,896), dtype=float)\n",
    "                  \n",
    "        BinControl = [] \n",
    "        for i in range(BinNum):\n",
    "            if Mat_data['TrialData']['TaskState'][i][0] == 3:\n",
    "                BinControl.append(i)\n",
    "\n",
    "        for j in BinControl[-int(TrialData.Click_BinNum):]:\n",
    "            if ExptDays[Day] == '20201009':\n",
    "                j=j-1\n",
    "\n",
    "            Bin = Mat_data['TrialData']['SmoothedNeuralFeatures'][j][0]\n",
    "            BinName = h5py.h5r.get_name(Bin, Mat_data.id)\n",
    "            BinInfo = Mat_data[BinName] \n",
    "            BinData = BinInfo[:,:]\n",
    "            SmoothedNeuralFeatures = np.concatenate((SmoothedNeuralFeatures, BinData), axis=0)\n",
    "\n",
    "        return SmoothedNeuralFeatures   \n",
    "\n",
    "\n",
    "Trials_T1 = np.empty((0,896), dtype=float)\n",
    "Trials_T2 = np.empty((0,896), dtype=float)\n",
    "Trials_T3 = np.empty((0,896), dtype=float)\n",
    "Trials_T4 = np.empty((0,896), dtype=float)\n",
    "\n",
    "Trials_Raw_T1 = np.empty((0,128), dtype=float)\n",
    "Trials_Raw_T2 = np.empty((0,128), dtype=float)\n",
    "Trials_Raw_T3 = np.empty((0,128), dtype=float)\n",
    "Trials_Raw_T4 = np.empty((0,128), dtype=float)\n",
    "\n",
    "\n",
    "# numnber of censequative bins for making correct selections\n",
    "Click_BinNum_T1 = []\n",
    "Click_BinNum_T2 = []\n",
    "Click_BinNum_T3 = []\n",
    "Click_BinNum_T4 = []\n",
    "\n",
    "Day_NumTrial_T1 = []\n",
    "Day_NumTrial_T2 = []\n",
    "Day_NumTrial_T3 = []\n",
    "Day_NumTrial_T4 = []\n",
    "\n",
    "\n",
    "# loading the day/block/session data from the location\n",
    "# day 0 does not have SmoothedNeuralFeatures\n",
    "# day 6 the performance was not good\n",
    "for Day in [ 0, 1, 2, 3, 4, 5, 6, 8, 9]:\n",
    "    ID1 = 0;\n",
    "    ID2 = 0;\n",
    "    ID3 = 0;\n",
    "    ID4 = 0;\n",
    "\n",
    "    for Se in range (len(SessionDay[Day].hhmmss)):\n",
    "\n",
    "        print('Session:'+ SessionDay[Day].hhmmss[Se])\n",
    "        # in windows\n",
    "        if ExptDays[Day] in ['20201002','20201009']:\n",
    "            DataPath =os.path.join('/media/reza/WindowsDrive/BRAVO1','CursorPlatform','Data',ExptDays[Day],'GangulyServer',ExptDays[Day],'RadialTask',SessionDay[Day].hhmmss[Se],'BCI_Fixed')\n",
    "        \n",
    "        else:\n",
    "            DataPath =os.path.join('/media/reza/WindowsDrive/BRAVO1','CursorPlatform','Data',ExptDays[Day],'GangulyServer',ExptDays[Day],'DiscreteArrow',SessionDay[Day].hhmmss[Se],'BCI_Fixed')\n",
    "        \n",
    "        datadir = os.listdir(DataPath)\n",
    "\n",
    "        # loading the trials\n",
    "        for k in range(len(datadir)):\n",
    "\n",
    "            print('Trial:',k+1)\n",
    "            Mat_data = h5py.File(DataPath+'/'+datadir[k])\n",
    "            TrialData = MatFileAnalyzer(Mat_data)\n",
    "            ECoG1 = TrialData.ECoG_Raw()\n",
    "            Fs = TrialData.Fs\n",
    "            LenSignal = ECoG1.shape[0]\n",
    "            MaxReachTime = TrialData.MaxReachTime\n",
    "\n",
    "            # to find successful trials\n",
    "            if ExptDays[Day] == '20201002' and ((LenSignal/Fs) < (MaxReachTime)):\n",
    "                #print(True)\n",
    "                NeuralFeatures = TrialData.Features_All()\n",
    "                ECoGData_Trial = TrialData.ECoG_Raw_Trial()\n",
    "\n",
    "                if TrialData.TargetID == 1:\n",
    "                    ID1 = ID1+1                   \n",
    "                    Trials_T1 = np.append(Trials_T1, NeuralFeatures, axis=0)\n",
    "                    Trials_Raw_T1 = np.append(Trials_Raw_T1, ECoGData_Trial, axis=0) \n",
    "\n",
    "                elif TrialData.TargetID == 2:\n",
    "                    ID2 = ID2+1\n",
    "                    Trials_T2 = np.append(Trials_T2,NeuralFeatures, axis=0)\n",
    "                    Trials_Raw_T2 = np.append(Trials_Raw_T2, ECoGData_Trial, axis=0) \n",
    "\n",
    "                elif TrialData.TargetID == 3:\n",
    "                    ID3 = ID3+1\n",
    "                    Trials_T3 = np.append(Trials_T3, NeuralFeatures, axis=0)\n",
    "                    Trials_Raw_T3 = np.append(Trials_Raw_T3, ECoGData_Trial, axis=0) \n",
    "\n",
    "                elif TrialData.TargetID == 4:\n",
    "                    ID4 = ID4+1\n",
    "                    Trials_T4 = np.append(Trials_T4, NeuralFeatures, axis=0)\n",
    "                    Trials_Raw_T4 = np.append(Trials_Raw_T4, ECoGData_Trial, axis=0) \n",
    "\n",
    "            elif ExptDays[Day] != '20201002' and TrialData.SelectedTargetID == TrialData.TargetID:\n",
    "                #print(True)\n",
    "                NeuralFeatures = TrialData.Features_All()\n",
    "                SmoothedNeuralFeatures = TrialData.SmoothedFeatures_All()\n",
    "                ECoGData_Trial = TrialData.ECoG_Raw_Trial()\n",
    "                \n",
    "                if TrialData.TargetID == 1:\n",
    "                    ID1 = ID1+1                   \n",
    "                    Trials_T1 = np.append(Trials_T1, SmoothedNeuralFeatures, axis=0)\n",
    "                    Click_BinNum_T1.append(TrialData.Click_BinNum)\n",
    "                    Trials_Raw_T1 = np.append(Trials_Raw_T1, ECoGData_Trial, axis=0) \n",
    "\n",
    "                elif TrialData.TargetID == 2:\n",
    "                    ID2 = ID2+1\n",
    "                    Trials_T2 = np.append(Trials_T2, SmoothedNeuralFeatures, axis=0)\n",
    "                    Click_BinNum_T2.append(TrialData.Click_BinNum)\n",
    "                    Trials_Raw_T2 = np.append(Trials_Raw_T2, ECoGData_Trial, axis=0) \n",
    "\n",
    "                elif TrialData.TargetID == 3:\n",
    "                    ID3 = ID3+1\n",
    "                    Trials_T3 = np.append(Trials_T3, SmoothedNeuralFeatures, axis=0)\n",
    "                    Click_BinNum_T3.append(TrialData.Click_BinNum)\n",
    "                    Trials_Raw_T3 = np.append(Trials_Raw_T3, ECoGData_Trial, axis=0) \n",
    "\n",
    "                elif TrialData.TargetID == 4:\n",
    "                    ID4 = ID4+1\n",
    "                    Trials_T4 = np.append(Trials_T4, SmoothedNeuralFeatures, axis=0)\n",
    "                    Click_BinNum_T4.append(TrialData.Click_BinNum)\n",
    "                    Trials_Raw_T4 = np.append(Trials_Raw_T4, ECoGData_Trial, axis=0) \n",
    "                    \n",
    "    Day_NumTrial_T1.append(ID1)\n",
    "    Day_NumTrial_T2.append(ID2)\n",
    "    Day_NumTrial_T3.append(ID3)\n",
    "    Day_NumTrial_T4.append(ID4)\n",
    "    \n",
    "\n",
    "print('End of Running Section')  \n",
    "\n",
    "             "
   ]
  },
  {
   "cell_type": "code",
   "execution_count": 721,
   "id": "caroline-grounds",
   "metadata": {},
   "outputs": [
    {
     "name": "stdout",
     "output_type": "stream",
     "text": [
      "Session:105228\n",
      "Trial: 1\n",
      "Trial: 2\n"
     ]
    },
    {
     "name": "stderr",
     "output_type": "stream",
     "text": [
      "/home/reza/anaconda3/envs/ECoGControl_RNN/lib/python3.7/site-packages/ipykernel_launcher.py:55: H5pyDeprecationWarning: The default file mode will change to 'r' (read-only) in h5py 3.0. To suppress this warning, pass the mode you need to h5py.File(), or set the global default h5.get_config().default_file_mode, or set the environment variable H5PY_DEFAULT_READONLY=1. Available modes are: 'r', 'r+', 'w', 'w-'/'x', 'a'. See the docs for details.\n"
     ]
    },
    {
     "name": "stdout",
     "output_type": "stream",
     "text": [
      "Trial: 3\n",
      "Trial: 4\n",
      "Trial: 5\n",
      "Trial: 6\n",
      "Trial: 7\n",
      "Trial: 8\n",
      "Trial: 9\n",
      "Trial: 10\n",
      "Trial: 11\n",
      "Trial: 12\n",
      "Trial: 13\n",
      "Trial: 14\n",
      "Trial: 15\n",
      "Trial: 16\n",
      "Trial: 17\n",
      "Trial: 18\n",
      "Trial: 19\n",
      "Trial: 20\n",
      "Trial: 21\n",
      "Trial: 22\n",
      "Trial: 23\n",
      "Trial: 24\n",
      "Trial: 25\n",
      "Trial: 26\n",
      "Trial: 27\n",
      "Trial: 28\n",
      "Trial: 29\n",
      "Trial: 30\n",
      "Trial: 31\n",
      "Trial: 32\n",
      "Session:111217\n",
      "Trial: 1\n",
      "Trial: 2\n",
      "Trial: 3\n",
      "Trial: 4\n",
      "Trial: 5\n",
      "Trial: 6\n",
      "Trial: 7\n",
      "Trial: 8\n",
      "Trial: 9\n",
      "Trial: 10\n",
      "Trial: 11\n",
      "Trial: 12\n",
      "Trial: 13\n",
      "Trial: 14\n",
      "Trial: 15\n",
      "Trial: 16\n",
      "Trial: 17\n",
      "Trial: 18\n",
      "Trial: 19\n",
      "Trial: 20\n",
      "Trial: 21\n",
      "Trial: 22\n",
      "Trial: 23\n",
      "Trial: 24\n",
      "Trial: 25\n",
      "Trial: 26\n",
      "Trial: 27\n",
      "Trial: 28\n",
      "Trial: 29\n",
      "Trial: 30\n",
      "Trial: 31\n",
      "Trial: 32\n",
      "Session:112507\n",
      "Trial: 1\n",
      "Trial: 2\n",
      "Trial: 3\n",
      "Trial: 4\n",
      "Trial: 5\n",
      "Trial: 6\n",
      "Trial: 7\n",
      "Trial: 8\n",
      "Trial: 9\n",
      "Trial: 10\n",
      "Trial: 11\n",
      "Trial: 12\n",
      "Trial: 13\n",
      "Trial: 14\n",
      "Trial: 15\n",
      "Trial: 16\n",
      "Session:112711\n",
      "Trial: 1\n",
      "Trial: 2\n",
      "Trial: 3\n",
      "Trial: 4\n",
      "Trial: 5\n",
      "Trial: 6\n",
      "Trial: 7\n",
      "Trial: 8\n",
      "Trial: 9\n",
      "Trial: 10\n",
      "Trial: 11\n",
      "Trial: 12\n",
      "Trial: 13\n",
      "Trial: 14\n",
      "Trial: 15\n",
      "Trial: 16\n",
      "Session:113526\n",
      "Trial: 1\n",
      "Trial: 2\n",
      "Trial: 3\n",
      "Trial: 4\n",
      "Trial: 5\n",
      "Trial: 6\n",
      "Trial: 7\n",
      "Trial: 8\n",
      "Trial: 9\n",
      "Trial: 10\n",
      "Trial: 11\n",
      "Trial: 12\n",
      "Trial: 13\n",
      "Trial: 14\n",
      "Trial: 15\n",
      "Trial: 16\n",
      "Session:114108\n",
      "Trial: 1\n",
      "Trial: 2\n",
      "Trial: 3\n",
      "Trial: 4\n",
      "Trial: 5\n",
      "Trial: 6\n",
      "Trial: 7\n",
      "Trial: 8\n",
      "Trial: 9\n",
      "Trial: 10\n",
      "Trial: 11\n",
      "Trial: 12\n",
      "Trial: 13\n",
      "Trial: 14\n",
      "Trial: 15\n",
      "Trial: 16\n",
      "Session:143218\n",
      "Trial: 1\n",
      "Trial: 2\n",
      "Trial: 3\n",
      "Trial: 4\n",
      "Trial: 5\n",
      "Trial: 6\n",
      "Trial: 7\n",
      "Trial: 8\n",
      "Trial: 9\n",
      "Trial: 10\n",
      "Trial: 11\n",
      "Trial: 12\n",
      "Trial: 13\n",
      "Trial: 14\n",
      "Trial: 15\n",
      "Trial: 16\n",
      "Trial: 17\n",
      "Trial: 18\n",
      "Trial: 19\n",
      "Trial: 20\n",
      "Trial: 21\n",
      "Trial: 22\n",
      "Trial: 23\n",
      "Trial: 24\n",
      "Trial: 25\n",
      "Trial: 26\n",
      "Trial: 27\n",
      "Trial: 28\n",
      "Trial: 29\n",
      "Trial: 30\n",
      "Trial: 31\n",
      "Trial: 32\n",
      "Session:143824\n",
      "Trial: 1\n",
      "Trial: 2\n",
      "Trial: 3\n",
      "Trial: 4\n",
      "Trial: 5\n",
      "Trial: 6\n",
      "Trial: 7\n",
      "Trial: 8\n",
      "Trial: 9\n",
      "Trial: 10\n",
      "Trial: 11\n",
      "Trial: 12\n",
      "Trial: 13\n",
      "Trial: 14\n",
      "Trial: 15\n",
      "Trial: 16\n",
      "Trial: 17\n",
      "Trial: 18\n",
      "Trial: 19\n",
      "Trial: 20\n",
      "Trial: 21\n",
      "Trial: 22\n",
      "Trial: 23\n",
      "Trial: 24\n",
      "Trial: 25\n",
      "Trial: 26\n",
      "Trial: 27\n",
      "Trial: 28\n",
      "Trial: 29\n",
      "Trial: 30\n",
      "Trial: 31\n",
      "Trial: 32\n",
      "End of Running Section\n"
     ]
    }
   ],
   "source": [
    "# extract hold-out data for one day for test laters\n",
    "Trials_T1_HoldOut = np.empty((0,896), dtype=float)\n",
    "Trials_T2_HoldOut = np.empty((0,896), dtype=float)\n",
    "Trials_T3_HoldOut = np.empty((0,896), dtype=float)\n",
    "Trials_T4_HoldOut = np.empty((0,896), dtype=float)\n",
    "\n",
    "Trials_Raw_T1_HoldOut = np.empty((0,128), dtype=float)\n",
    "Trials_Raw_T2_HoldOut = np.empty((0,128), dtype=float)\n",
    "Trials_Raw_T3_HoldOut = np.empty((0,128), dtype=float)\n",
    "Trials_Raw_T4_HoldOut = np.empty((0,128), dtype=float)\n",
    "\n",
    "Trials_Size_T1_HoldOut = [];\n",
    "Trials_Size_T2_HoldOut = [];\n",
    "Trials_Size_T3_HoldOut = [];\n",
    "Trials_Size_T4_HoldOut = [];\n",
    "\n",
    "\n",
    "# numnber of censequative bins for making correct selections\n",
    "Click_BinNum_T1_HoldOut = []\n",
    "Click_BinNum_T2_HoldOut = []\n",
    "Click_BinNum_T3_HoldOut = []\n",
    "Click_BinNum_T4_HoldOut = []\n",
    "\n",
    "Day_NumTrial_T1_HoldOut = []\n",
    "Day_NumTrial_T2_HoldOut = []\n",
    "Day_NumTrial_T3_HoldOut = []\n",
    "Day_NumTrial_T4_HoldOut = []\n",
    "\n",
    "\n",
    "# loading the day/block/session data from the location\n",
    "# day 0 does not have SmoothedNeuralFeatures\n",
    "# day 6 the performance was not good\n",
    "for Day in [7]:\n",
    "    ID1 = 0;\n",
    "    ID2 = 0;\n",
    "    ID3 = 0;\n",
    "    ID4 = 0;\n",
    "\n",
    "    for Se in range (len(SessionDay[Day].hhmmss)):\n",
    "\n",
    "        print('Session:'+ SessionDay[Day].hhmmss[Se])\n",
    "        # in windows\n",
    "        if ExptDays[Day] in ['20201002','20201009']:\n",
    "            DataPath =os.path.join('/media/reza/WindowsDrive/BRAVO1','CursorPlatform','Data',ExptDays[Day],'GangulyServer',ExptDays[Day],'RadialTask',SessionDay[Day].hhmmss[Se],'BCI_Fixed')\n",
    "        \n",
    "        else:\n",
    "            DataPath =os.path.join('/media/reza/WindowsDrive/BRAVO1','CursorPlatform','Data',ExptDays[Day],'GangulyServer',ExptDays[Day],'DiscreteArrow',SessionDay[Day].hhmmss[Se],'BCI_Fixed')\n",
    "        \n",
    "        datadir = os.listdir(DataPath)\n",
    "\n",
    "        # loading the trials\n",
    "        for k in range(len(datadir)):\n",
    "\n",
    "            print('Trial:',k+1)\n",
    "            Mat_data = h5py.File(DataPath+'/'+datadir[k])\n",
    "            TrialData = MatFileAnalyzer(Mat_data)\n",
    "            ECoG1 = TrialData.ECoG_Raw()\n",
    "            Fs = TrialData.Fs\n",
    "            LenSignal = ECoG1.shape[0]\n",
    "            MaxReachTime = TrialData.MaxReachTime\n",
    "\n",
    "            # to find successful trials\n",
    "            if ExptDays[Day] == '20201002' and ((LenSignal/Fs) < (MaxReachTime)):\n",
    "                #print(True)\n",
    "                NeuralFeatures = TrialData.Features_All()\n",
    "                ECoGData_Trial = TrialData.ECoG_Raw_Trial()\n",
    "                Trial_Size = ECoGData_Trial.shape[0]\n",
    "\n",
    "                if TrialData.TargetID == 1:\n",
    "                    ID1 = ID1+1                   \n",
    "                    Trials_T1_HoldOut = np.append(Trials_T1_HoldOut, NeuralFeatures, axis=0)\n",
    "                    Trials_Raw_T1_HoldOut = np.append(Trials_Raw_T1_HoldOut, ECoGData_Trial, axis=0)\n",
    "                    Trials_Size_T1_HoldOut = np.append(Trials_Size_T1_HoldOut, Trial_Size)\n",
    "\n",
    "                elif TrialData.TargetID == 2:\n",
    "                    ID2 = ID2+1\n",
    "                    Trials_T2_HoldOut = np.append(Trials_T2_HoldOut,NeuralFeatures, axis=0)\n",
    "                    Trials_Raw_T2_HoldOut = np.append(Trials_Raw_T2_HoldOut, ECoGData_Trial, axis=0) \n",
    "                    Trials_Size_T2_HoldOut = np.append(Trials_Size_T2_HoldOut, Trial_Size)\n",
    "\n",
    "                elif TrialData.TargetID == 3:\n",
    "                    ID3 = ID3+1\n",
    "                    Trials_T3_HoldOut = np.append(Trials_T3_HoldOut, NeuralFeatures, axis=0)\n",
    "                    Trials_Raw_T3_HoldOut = np.append(Trials_Raw_T3_HoldOut, ECoGData_Trial, axis=0)\n",
    "                    Trials_Size_T3_HoldOut = np.append(Trials_Size_T3_HoldOut, Trial_Size)\n",
    "\n",
    "                elif TrialData.TargetID == 4:\n",
    "                    ID4 = ID4+1\n",
    "                    Trials_T4_HoldOut = np.append(Trials_T4_HoldOut, NeuralFeatures, axis=0)\n",
    "                    Trials_Raw_T4_HoldOut = np.append(Trials_Raw_T4_HoldOut, ECoGData_Trial, axis=0)\n",
    "                    Trials_Size_T4_HoldOut = np.append(Trials_Size_T4_HoldOut, Trial_Size)\n",
    "\n",
    "            elif ExptDays[Day] != '20201002' and TrialData.SelectedTargetID == TrialData.TargetID:\n",
    "                #print(True)\n",
    "                NeuralFeatures = TrialData.Features_All()\n",
    "                SmoothedNeuralFeatures = TrialData.SmoothedFeatures_All()\n",
    "                ECoGData_Trial = TrialData.ECoG_Raw_Trial()\n",
    "                Trial_Size = ECoGData_Trial.shape[0]\n",
    "                \n",
    "                if TrialData.TargetID == 1:\n",
    "                    ID1 = ID1+1                   \n",
    "                    Trials_T1_HoldOut = np.append(Trials_T1_HoldOut, SmoothedNeuralFeatures, axis=0)\n",
    "                    Click_BinNum_T1_HoldOut.append(TrialData.Click_BinNum)\n",
    "                    Trials_Raw_T1_HoldOut = np.append(Trials_Raw_T1_HoldOut, ECoGData_Trial, axis=0) \n",
    "                    Trials_Size_T1_HoldOut = np.append(Trials_Size_T1_HoldOut, Trial_Size)\n",
    "\n",
    "                elif TrialData.TargetID == 2:\n",
    "                    ID2 = ID2+1\n",
    "                    Trials_T2_HoldOut = np.append(Trials_T2_HoldOut, SmoothedNeuralFeatures, axis=0)\n",
    "                    Click_BinNum_T2_HoldOut.append(TrialData.Click_BinNum)\n",
    "                    Trials_Raw_T2_HoldOut = np.append(Trials_Raw_T2_HoldOut, ECoGData_Trial, axis=0) \n",
    "                    Trials_Size_T2_HoldOut = np.append(Trials_Size_T2_HoldOut, Trial_Size)\n",
    "\n",
    "                elif TrialData.TargetID == 3:\n",
    "                    ID3 = ID3+1\n",
    "                    Trials_T3_HoldOut = np.append(Trials_T3_HoldOut, SmoothedNeuralFeatures, axis=0)\n",
    "                    Click_BinNum_T3_HoldOut.append(TrialData.Click_BinNum)\n",
    "                    Trials_Raw_T3_HoldOut = np.append(Trials_Raw_T3_HoldOut, ECoGData_Trial, axis=0) \n",
    "                    Trials_Size_T3_HoldOut = np.append(Trials_Size_T3_HoldOut, Trial_Size)\n",
    "\n",
    "                elif TrialData.TargetID == 4:\n",
    "                    ID4 = ID4+1\n",
    "                    Trials_T4_HoldOut = np.append(Trials_T4_HoldOut, SmoothedNeuralFeatures, axis=0)\n",
    "                    Click_BinNum_T4_HoldOut.append(TrialData.Click_BinNum)\n",
    "                    Trials_Raw_T4_HoldOut = np.append(Trials_Raw_T4_HoldOut, ECoGData_Trial, axis=0)\n",
    "                    Trials_Size_T4_HoldOut = np.append(Trials_Size_T4_HoldOut, Trial_Size)\n",
    "                    \n",
    "    Day_NumTrial_T1_HoldOut.append(ID1)\n",
    "    Day_NumTrial_T2_HoldOut.append(ID2)\n",
    "    Day_NumTrial_T3_HoldOut.append(ID3)\n",
    "    Day_NumTrial_T4_HoldOut.append(ID4)\n",
    "    \n",
    "\n",
    "print('End of Running Section')  \n"
   ]
  },
  {
   "cell_type": "code",
   "execution_count": 656,
   "id": "completed-problem",
   "metadata": {},
   "outputs": [
    {
     "data": {
      "text/plain": [
       "[5.0, 5.0, 5.0, 5.0, 5.0, 5.0, 5.0, 5.0, 5.0, 5.0, 5.0, 5.0, 5.0]"
      ]
     },
     "execution_count": 656,
     "metadata": {},
     "output_type": "execute_result"
    }
   ],
   "source": [
    "Click_BinNum_T1_HoldOut"
   ]
  },
  {
   "cell_type": "code",
   "execution_count": 7,
   "id": "banner-appearance",
   "metadata": {},
   "outputs": [
    {
     "data": {
      "text/plain": [
       "10050.0"
      ]
     },
     "execution_count": 7,
     "metadata": {},
     "output_type": "execute_result"
    }
   ],
   "source": [
    "sum(Trials_Size_T4_HoldOut)"
   ]
  },
  {
   "cell_type": "code",
   "execution_count": 8,
   "id": "conditional-transaction",
   "metadata": {},
   "outputs": [
    {
     "data": {
      "text/plain": [
       "(10050, 128)"
      ]
     },
     "execution_count": 8,
     "metadata": {},
     "output_type": "execute_result"
    }
   ],
   "source": [
    "Trials_Raw_T4_HoldOut.shape"
   ]
  },
  {
   "cell_type": "code",
   "execution_count": 156,
   "id": "played-factory",
   "metadata": {},
   "outputs": [
    {
     "data": {
      "text/plain": [
       "(8141, 128)"
      ]
     },
     "execution_count": 156,
     "metadata": {},
     "output_type": "execute_result"
    }
   ],
   "source": [
    "Trials_Raw_T1_HoldOut.shape"
   ]
  },
  {
   "cell_type": "code",
   "execution_count": 157,
   "id": "educational-finish",
   "metadata": {},
   "outputs": [],
   "source": [
    "import torch"
   ]
  },
  {
   "cell_type": "code",
   "execution_count": 158,
   "id": "departmental-johns",
   "metadata": {},
   "outputs": [
    {
     "data": {
      "text/plain": [
       "True"
      ]
     },
     "execution_count": 158,
     "metadata": {},
     "output_type": "execute_result"
    }
   ],
   "source": [
    "torch.cuda.is_available()"
   ]
  },
  {
   "cell_type": "code",
   "execution_count": 159,
   "id": "established-sampling",
   "metadata": {},
   "outputs": [
    {
     "data": {
      "text/plain": [
       "'GeForce GTX 1080'"
      ]
     },
     "execution_count": 159,
     "metadata": {},
     "output_type": "execute_result"
    }
   ],
   "source": [
    "torch.cuda.get_device_name(0)"
   ]
  },
  {
   "cell_type": "code",
   "execution_count": 160,
   "id": "south-calgary",
   "metadata": {},
   "outputs": [
    {
     "data": {
      "text/plain": [
       "1"
      ]
     },
     "execution_count": 160,
     "metadata": {},
     "output_type": "execute_result"
    }
   ],
   "source": [
    "torch.cuda.device_count()"
   ]
  },
  {
   "cell_type": "markdown",
   "id": "employed-nightmare",
   "metadata": {},
   "source": [
    "# extracting the HG-LFO for each data point in each trial as feature for later analysis"
   ]
  },
  {
   "cell_type": "code",
   "execution_count": 12,
   "id": "marine-ecology",
   "metadata": {},
   "outputs": [
    {
     "data": {
      "text/plain": [
       "[<matplotlib.lines.Line2D at 0x7f31faf4be48>]"
      ]
     },
     "execution_count": 12,
     "metadata": {},
     "output_type": "execute_result"
    },
    {
     "data": {
      "image/png": "[encoded data removed]",
      "text/plain": [
       "<Figure size 864x288 with 1 Axes>"
      ]
     },
     "metadata": {
      "needs_background": "light"
     },
     "output_type": "display_data"
    }
   ],
   "source": [
    "# plot an example of broadband ECoG\n",
    "import matplotlib.pyplot as plt\n",
    "%matplotlib inline\n",
    "t = np.arange(1,500+1,1)\n",
    "fig = plt.figure(figsize=(12,4))\n",
    "ax = fig.add_axes([0,0,1,1])\n",
    "ax.plot(t,Trials_Raw_T4[0:500,0],'b')\n"
   ]
  },
  {
   "cell_type": "markdown",
   "id": "authentic-childhood",
   "metadata": {},
   "source": [
    "# Filtering the signal"
   ]
  },
  {
   "cell_type": "code",
   "execution_count": 571,
   "id": "organized-yugoslavia",
   "metadata": {},
   "outputs": [
    {
     "name": "stdout",
     "output_type": "stream",
     "text": [
      "Target: 0\n",
      "Target: 1\n",
      "Target: 2\n",
      "Target: 3\n",
      "End of Running Section\n"
     ]
    }
   ],
   "source": [
    "from scipy.signal import butter, filtfilt, hilbert\n",
    "import matplotlib.pyplot as plt\n",
    "\n",
    "All_Signal = [Trials_Raw_T1, Trials_Raw_T2, Trials_Raw_T3, Trials_Raw_T4];\n",
    "\n",
    "# initilize the values\n",
    "class structtype():\n",
    "    pass\n",
    "\n",
    "HilbertTarget = [ structtype() for i in range(4)]\n",
    "HilbertTarget[0].feature = [ structtype() for i in range(6)]\n",
    "HilbertTarget[1].feature = [ structtype() for i in range(6)]\n",
    "HilbertTarget[2].feature = [ structtype() for i in range(6)]\n",
    "HilbertTarget[3].feature = [ structtype() for i in range(6)]\n",
    "\n",
    "for target in range(4):\n",
    "    print('Target:',target)\n",
    "    Raw_Signals = All_Signal[target]\n",
    "    \n",
    "    # for delta band\n",
    "    nyq = 0.5 * Fs\n",
    "    low = 0.5/nyq\n",
    "    high = 4/nyq\n",
    "    b, a = butter(3, [low, high], btype='band')\n",
    "    Filtered = filtfilt(b,a,Raw_Signals,axis=0)\n",
    "    Hil = np.abs(hilbert(Filtered,axis=0))\n",
    "    HilbertTarget[target].feature[0] = Hil\n",
    "    \n",
    "    # for theta band\n",
    "    nyq = 0.5 * Fs\n",
    "    low = 4/nyq\n",
    "    high = 8/nyq\n",
    "    b, a = butter(3, [low, high], btype='band')\n",
    "    Filtered = filtfilt(b,a,Raw_Signals,axis=0)\n",
    "    Hil = np.abs(hilbert(Filtered,axis=0))\n",
    "    HilbertTarget[target].feature[1] = Hil\n",
    "    \n",
    "    # for alpha band\n",
    "    nyq = 0.5 * Fs\n",
    "    low = 8/nyq\n",
    "    high = 13/nyq\n",
    "    b, a = butter(3, [low, high], btype='band')\n",
    "    Filtered = filtfilt(b,a,Raw_Signals,axis=0)\n",
    "    Hil = np.abs(hilbert(Filtered,axis=0))\n",
    "    HilbertTarget[target].feature[2] = Hil\n",
    "    \n",
    "    # for beta band\n",
    "    nyq = 0.5 * Fs\n",
    "    low = 13/nyq\n",
    "    high = 30/nyq\n",
    "    b, a = butter(3, [low, high], btype='band')\n",
    "    Filtered = filtfilt(b,a,Raw_Signals,axis=0)\n",
    "    Hil = np.abs(hilbert(Filtered,axis=0))\n",
    "    HilbertTarget[target].feature[3] = Hil\n",
    "    \n",
    "    # for gamma1 band\n",
    "    nyq = 0.5 * Fs\n",
    "    low = 30/nyq\n",
    "    high = 50/nyq\n",
    "    b, a = butter(3, [low, high], btype='band')\n",
    "    Filtered = filtfilt(b,a,Raw_Signals,axis=0)\n",
    "    Hil = np.abs(hilbert(Filtered,axis=0))\n",
    "    HilbertTarget[target].feature[4] = Hil\n",
    "    \n",
    "    # for hg-lfo band\n",
    "    nyq = 0.5 * Fs\n",
    "    low = 70/nyq\n",
    "    high = 150/nyq\n",
    "    b, a = butter(3, [low, high], btype='band')\n",
    "    Filtered = filtfilt(b,a,Raw_Signals,axis=0)\n",
    "    Hil1 = np.abs(hilbert(Filtered,axis=0))\n",
    "    nyq = 0.5 * Fs\n",
    "    low = 0.5/nyq\n",
    "    high = 4/nyq\n",
    "    b, a = butter(3, [low, high], btype='band')\n",
    "    Filtered2 = filtfilt(b,a,Hil1,axis=0)\n",
    "    Hil2 = Filtered2 + Hil1.mean(0)\n",
    "    HilbertTarget[target].feature[5] = Hil2\n",
    "    \n",
    "print('End of Running Section')  \n"
   ]
  },
  {
   "cell_type": "code",
   "execution_count": 14,
   "id": "indirect-complaint",
   "metadata": {},
   "outputs": [
    {
     "data": {
      "text/plain": [
       "(149412, 128)"
      ]
     },
     "execution_count": 14,
     "metadata": {},
     "output_type": "execute_result"
    },
    {
     "data": {
      "image/png": "[encoded data removed]",
      "text/plain": [
       "<Figure size 864x288 with 1 Axes>"
      ]
     },
     "metadata": {
      "needs_background": "light"
     },
     "output_type": "display_data"
    }
   ],
   "source": [
    "# test the process of filtering signal for hg-lfo\n",
    "#a, b = Raw_Signals.shape\n",
    "#t = np.arange(1,a+1,1)\n",
    "t = np.arange(1,500+1,1)\n",
    "fig = plt.figure(figsize=(12,4))\n",
    "ax = fig.add_axes([0,0,1,1])\n",
    "ax.plot(t,Raw_Signals[0:500,0],'b')\n",
    "ax.plot(t,Filtered[0:500,0],'r')\n",
    "ax.plot(t,Hil1[0:500,0],'k')\n",
    "Forplot = HilbertTarget[3].feature[5]\n",
    "ax.plot(t,Forplot[0:500,0],'g')\n",
    "ax.set_xlim([0,500])\n",
    "#ax.set_ylim([0,2])\n",
    "Raw_Signals.shape"
   ]
  },
  {
   "cell_type": "code",
   "execution_count": 572,
   "id": "painful-enhancement",
   "metadata": {},
   "outputs": [
    {
     "name": "stdout",
     "output_type": "stream",
     "text": [
      "Target: 0\n",
      "Target: 1\n",
      "Target: 2\n",
      "Target: 3\n",
      "End of Running Section\n"
     ]
    }
   ],
   "source": [
    "# filtering the holdout data\n",
    "\n",
    "from scipy.signal import butter, filtfilt, hilbert\n",
    "import matplotlib.pyplot as plt\n",
    "\n",
    "All_Signal_HoldOut = [Trials_Raw_T1_HoldOut, Trials_Raw_T2_HoldOut, Trials_Raw_T3_HoldOut, Trials_Raw_T4_HoldOut];\n",
    "\n",
    "# initilize the values\n",
    "class structtype():\n",
    "    pass\n",
    "\n",
    "HilbertTarget_HoldOut = [ structtype() for i in range(4)]\n",
    "HilbertTarget_HoldOut[0].feature = [ structtype() for i in range(6)]\n",
    "HilbertTarget_HoldOut[1].feature = [ structtype() for i in range(6)]\n",
    "HilbertTarget_HoldOut[2].feature = [ structtype() for i in range(6)]\n",
    "HilbertTarget_HoldOut[3].feature = [ structtype() for i in range(6)]\n",
    "\n",
    "for target in range(4):\n",
    "    print('Target:',target)\n",
    "    Raw_Signals = All_Signal_HoldOut[target]\n",
    "    \n",
    "    # for delta band\n",
    "    nyq = 0.5 * Fs\n",
    "    low = 0.5/nyq\n",
    "    high = 4/nyq\n",
    "    b, a = butter(3, [low, high], btype='band')\n",
    "    Filtered = filtfilt(b,a,Raw_Signals,axis=0)\n",
    "    Hil = np.abs(hilbert(Filtered,axis=0))\n",
    "    HilbertTarget_HoldOut[target].feature[0] = Hil\n",
    "    \n",
    "    # for theta band\n",
    "    nyq = 0.5 * Fs\n",
    "    low = 4/nyq\n",
    "    high = 8/nyq\n",
    "    b, a = butter(3, [low, high], btype='band')\n",
    "    Filtered = filtfilt(b,a,Raw_Signals,axis=0)\n",
    "    Hil = np.abs(hilbert(Filtered,axis=0))\n",
    "    HilbertTarget_HoldOut[target].feature[1] = Hil\n",
    "    \n",
    "    # for alpha band\n",
    "    nyq = 0.5 * Fs\n",
    "    low = 8/nyq\n",
    "    high = 13/nyq\n",
    "    b, a = butter(3, [low, high], btype='band')\n",
    "    Filtered = filtfilt(b,a,Raw_Signals,axis=0)\n",
    "    Hil = np.abs(hilbert(Filtered,axis=0))\n",
    "    HilbertTarget_HoldOut[target].feature[2] = Hil\n",
    "    \n",
    "    # for beta band\n",
    "    nyq = 0.5 * Fs\n",
    "    low = 13/nyq\n",
    "    high = 30/nyq\n",
    "    b, a = butter(3, [low, high], btype='band')\n",
    "    Filtered = filtfilt(b,a,Raw_Signals,axis=0)\n",
    "    Hil = np.abs(hilbert(Filtered,axis=0))\n",
    "    HilbertTarget_HoldOut[target].feature[3] = Hil\n",
    "    \n",
    "    # for gamma1 band\n",
    "    nyq = 0.5 * Fs\n",
    "    low = 30/nyq\n",
    "    high = 50/nyq\n",
    "    b, a = butter(3, [low, high], btype='band')\n",
    "    Filtered = filtfilt(b,a,Raw_Signals,axis=0)\n",
    "    Hil = np.abs(hilbert(Filtered,axis=0))\n",
    "    HilbertTarget_HoldOut[target].feature[4] = Hil\n",
    "    \n",
    "    # for hg-lfo band\n",
    "    nyq = 0.5 * Fs\n",
    "    low = 70/nyq\n",
    "    high = 150/nyq\n",
    "    b, a = butter(3, [low, high], btype='band')\n",
    "    Filtered = filtfilt(b,a,Raw_Signals,axis=0)\n",
    "    Hil1 = np.abs(hilbert(Filtered,axis=0))\n",
    "    nyq = 0.5 * Fs\n",
    "    low = 0.5/nyq\n",
    "    high = 4/nyq\n",
    "    b, a = butter(3, [low, high], btype='band')\n",
    "    Filtered2 = filtfilt(b,a,Hil1,axis=0)\n",
    "    Hil2 = Filtered2 + Hil1.mean(0)\n",
    "    HilbertTarget_HoldOut[target].feature[5] = Hil2\n",
    "    \n",
    "print('End of Running Section')  \n"
   ]
  },
  {
   "cell_type": "markdown",
   "id": "younger-remove",
   "metadata": {},
   "source": [
    "# decide the inputs to LSTM"
   ]
  },
  {
   "cell_type": "code",
   "execution_count": 171,
   "id": "delayed-franchise",
   "metadata": {},
   "outputs": [],
   "source": [
    "# choosing the broadband ECoG for trials\n",
    "'''\n",
    "Data_T1 = Trials_Raw_T1\n",
    "Data_T2 = Trials_Raw_T2\n",
    "Data_T3 = Trials_Raw_T3\n",
    "Data_T4 = Trials_Raw_T4\n",
    "\n",
    "Data_T1_HoldOut = Trials_Raw_T1_HoldOut\n",
    "Data_T2_HoldOut = Trials_Raw_T2_HoldOut\n",
    "Data_T3_HoldOut = Trials_Raw_T3_HoldOut\n",
    "Data_T4_HoldOut = Trials_Raw_T4_HoldOut\n",
    "\n",
    "\n",
    "# or choose the feature hg-lfo\n",
    "\n",
    "Data_T1 = HilbertTarget[0].feature[5]\n",
    "Data_T2 = HilbertTarget[1].feature[5]\n",
    "Data_T3 = HilbertTarget[2].feature[5]\n",
    "Data_T4 = HilbertTarget[3].feature[5]\n",
    "\n",
    "Data_T1_HoldOut = HilbertTarget_HoldOut[0].feature[5]\n",
    "Data_T2_HoldOut = HilbertTarget_HoldOut[1].feature[5]\n",
    "Data_T3_HoldOut = HilbertTarget_HoldOut[2].feature[5]\n",
    "Data_T4_HoldOut = HilbertTarget_HoldOut[3].feature[5]\n",
    "\n",
    "\n",
    "'''\n",
    "# choose three features delta; beta; hg...\n",
    "\n",
    "Data_T1 = np.concatenate((HilbertTarget[0].feature[0], HilbertTarget[0].feature[3], HilbertTarget[0].feature[5]),axis=1)\n",
    "Data_T2 = np.concatenate((HilbertTarget[1].feature[0], HilbertTarget[1].feature[3], HilbertTarget[1].feature[5]),axis=1)\n",
    "Data_T3 = np.concatenate((HilbertTarget[2].feature[0], HilbertTarget[2].feature[3], HilbertTarget[2].feature[5]),axis=1)\n",
    "Data_T4 = np.concatenate((HilbertTarget[3].feature[0], HilbertTarget[3].feature[3], HilbertTarget[3].feature[5]),axis=1)\n",
    "\n",
    "Data_T1_HoldOut = np.concatenate((HilbertTarget_HoldOut[0].feature[0], HilbertTarget_HoldOut[0].feature[3], HilbertTarget_HoldOut[0].feature[5]),axis=1)\n",
    "Data_T2_HoldOut = np.concatenate((HilbertTarget_HoldOut[1].feature[0], HilbertTarget_HoldOut[1].feature[3], HilbertTarget_HoldOut[1].feature[5]),axis=1)\n",
    "Data_T3_HoldOut = np.concatenate((HilbertTarget_HoldOut[2].feature[0], HilbertTarget_HoldOut[2].feature[3], HilbertTarget_HoldOut[2].feature[5]),axis=1)\n",
    "Data_T4_HoldOut = np.concatenate((HilbertTarget_HoldOut[3].feature[0], HilbertTarget_HoldOut[3].feature[3], HilbertTarget_HoldOut[3].feature[5]),axis=1)\n",
    "\n",
    "\n",
    "# choose the original bins for hg..\n",
    "\n",
    "Data_T1 = Trials_T1[:,6*128:]\n",
    "Data_T2 = Trials_T2[:,6*128:]\n",
    "Data_T3 = Trials_T3[:,6*128:]\n",
    "Data_T4 = Trials_T4[:,6*128:]\n",
    "\n",
    "Data_T1_HoldOut = Trials_T1_HoldOut[:,6*128:]\n",
    "Data_T2_HoldOut = Trials_T2_HoldOut[:,6*128:]\n",
    "Data_T3_HoldOut = Trials_T3_HoldOut[:,6*128:]\n",
    "Data_T4_HoldOut = Trials_T4_HoldOut[:,6*128:]\n",
    "\n",
    "# choose the original bins for delta, beta, hg..\n",
    "\n",
    "Data_T1 = np.concatenate((Trials_T1[:,0:128], Trials_T1[:,4*128:5*128], Trials_T1[:,6*128:]),axis = 1) \n",
    "Data_T2 = np.concatenate((Trials_T2[:,0:128], Trials_T2[:,4*128:5*128], Trials_T2[:,6*128:]),axis = 1) \n",
    "Data_T3 = np.concatenate((Trials_T3[:,0:128], Trials_T3[:,4*128:5*128], Trials_T3[:,6*128:]),axis = 1) \n",
    "Data_T4 = np.concatenate((Trials_T4[:,0:128], Trials_T4[:,4*128:5*128], Trials_T4[:,6*128:]),axis = 1) \n",
    "\n",
    "Data_T1_HoldOut = np.concatenate((Trials_T1_HoldOut[:,0:128], Trials_T1_HoldOut[:,4*128:5*128], Trials_T1_HoldOut[:,6*128:]),axis = 1) \n",
    "Data_T2_HoldOut = np.concatenate((Trials_T2_HoldOut[:,0:128], Trials_T2_HoldOut[:,4*128:5*128], Trials_T2_HoldOut[:,6*128:]),axis = 1) \n",
    "Data_T3_HoldOut = np.concatenate((Trials_T3_HoldOut[:,0:128], Trials_T3_HoldOut[:,4*128:5*128], Trials_T3_HoldOut[:,6*128:]),axis = 1) \n",
    "Data_T4_HoldOut = np.concatenate((Trials_T4_HoldOut[:,0:128], Trials_T4_HoldOut[:,4*128:5*128], Trials_T4_HoldOut[:,6*128:]),axis = 1) \n",
    "\n",
    "\n",
    "\n",
    "\n"
   ]
  },
  {
   "cell_type": "code",
   "execution_count": 612,
   "id": "subject-bubble",
   "metadata": {},
   "outputs": [
    {
     "data": {
      "text/plain": [
       "(1107, 896)"
      ]
     },
     "execution_count": 612,
     "metadata": {},
     "output_type": "execute_result"
    }
   ],
   "source": [
    "Trials_T1.shape"
   ]
  },
  {
   "cell_type": "code",
   "execution_count": 801,
   "id": "seventh-shelter",
   "metadata": {},
   "outputs": [],
   "source": [
    "\n",
    "Data_T1 = Trials_T1[:,6*128:]\n",
    "Data_T2 = Trials_T2[:,6*128:]\n",
    "Data_T3 = Trials_T3[:,6*128:]\n",
    "Data_T4 = Trials_T4[:,6*128:]\n",
    "\n",
    "Data_T1_HoldOut = Trials_T1_HoldOut[:,6*128:]\n",
    "Data_T2_HoldOut = Trials_T2_HoldOut[:,6*128:]\n",
    "Data_T3_HoldOut = Trials_T3_HoldOut[:,6*128:]\n",
    "Data_T4_HoldOut = Trials_T4_HoldOut[:,6*128:]"
   ]
  },
  {
   "cell_type": "code",
   "execution_count": null,
   "id": "close-faith",
   "metadata": {},
   "outputs": [],
   "source": []
  },
  {
   "cell_type": "markdown",
   "id": "beautiful-folder",
   "metadata": {},
   "source": [
    "# Bring the data to torch space / peform LSTM"
   ]
  },
  {
   "cell_type": "code",
   "execution_count": 802,
   "id": "olive-synthesis",
   "metadata": {},
   "outputs": [],
   "source": [
    "import torch\n",
    "import torch.nn as nn\n",
    "import pandas as pd \n",
    "import matplotlib.pyplot as plt\n",
    "%matplotlib inline\n",
    "from torch.utils.data import DataLoader"
   ]
  },
  {
   "cell_type": "code",
   "execution_count": 803,
   "id": "technical-officer",
   "metadata": {},
   "outputs": [],
   "source": [
    "# Hyper parameters\n",
    "learning_rate = 0.001\n",
    "sequence_length = 3\n",
    "hidden_size = 50\n",
    "num_classes = 4\n",
    "batch_size = 16\n",
    "input_size = 128\n",
    "num_layers = 1\n",
    "num_epochs = 8\n"
   ]
  },
  {
   "cell_type": "code",
   "execution_count": null,
   "id": "limited-vitamin",
   "metadata": {},
   "outputs": [],
   "source": []
  },
  {
   "cell_type": "code",
   "execution_count": 804,
   "id": "improving-wings",
   "metadata": {},
   "outputs": [],
   "source": [
    "# generate the train_data for LSTM\n",
    "# use neural feature as input or the broad band\n",
    "\n",
    "Data_T1_torch = torch.from_numpy(Data_T1)\n",
    "Data_T2_torch = torch.from_numpy(Data_T2)\n",
    "Data_T3_torch = torch.from_numpy(Data_T3)\n",
    "Data_T4_torch = torch.from_numpy(Data_T4)\n",
    "\n",
    "\n",
    "Data_T1_HoldOut_torch = torch.from_numpy(Data_T1_HoldOut)\n",
    "Data_T2_HoldOut_torch = torch.from_numpy(Data_T2_HoldOut)\n",
    "Data_T3_HoldOut_torch = torch.from_numpy(Data_T3_HoldOut)\n",
    "Data_T4_HoldOut_torch = torch.from_numpy(Data_T4_HoldOut)\n",
    "\n"
   ]
  },
  {
   "cell_type": "code",
   "execution_count": 805,
   "id": "polyphonic-birth",
   "metadata": {},
   "outputs": [
    {
     "data": {
      "text/plain": [
       "942"
      ]
     },
     "execution_count": 805,
     "metadata": {},
     "output_type": "execute_result"
    }
   ],
   "source": [
    "Data_T1_torch.shape[0]"
   ]
  },
  {
   "cell_type": "code",
   "execution_count": 806,
   "id": "systematic-balance",
   "metadata": {},
   "outputs": [
    {
     "name": "stdout",
     "output_type": "stream",
     "text": [
      "Shape of tensor: torch.Size([942, 128])\n",
      "Datatype of tensor: torch.float64\n",
      "Device tensor is stored on: cpu\n"
     ]
    }
   ],
   "source": [
    "print(f\"Shape of tensor: {Data_T1_torch.shape}\")\n",
    "print(f\"Datatype of tensor: {Data_T1_torch.dtype}\")\n",
    "print(f\"Device tensor is stored on: {Data_T1_torch.device}\")"
   ]
  },
  {
   "cell_type": "code",
   "execution_count": null,
   "id": "suited-wrapping",
   "metadata": {},
   "outputs": [],
   "source": []
  },
  {
   "cell_type": "code",
   "execution_count": 807,
   "id": "unauthorized-muslim",
   "metadata": {},
   "outputs": [
    {
     "data": {
      "text/plain": [
       "[<matplotlib.lines.Line2D at 0x7f5732d81d68>]"
      ]
     },
     "execution_count": 807,
     "metadata": {},
     "output_type": "execute_result"
    },
    {
     "data": {
      "image/png": "[encoded data removed]",
      "text/plain": [
       "<Figure size 864x288 with 1 Axes>"
      ]
     },
     "metadata": {
      "needs_background": "light"
     },
     "output_type": "display_data"
    }
   ],
   "source": [
    "# ploting the first sample data for T1\n",
    "DataPlot = Data_T1_torch.numpy()\n",
    "plt.figure(figsize=(12,4))\n",
    "plt.plot(np.arange(128), DataPlot[0][:])"
   ]
  },
  {
   "cell_type": "code",
   "execution_count": null,
   "id": "finite-sellers",
   "metadata": {},
   "outputs": [],
   "source": []
  },
  {
   "cell_type": "code",
   "execution_count": null,
   "id": "sound-compatibility",
   "metadata": {},
   "outputs": [],
   "source": []
  },
  {
   "cell_type": "code",
   "execution_count": null,
   "id": "overhead-publicity",
   "metadata": {},
   "outputs": [],
   "source": []
  },
  {
   "cell_type": "code",
   "execution_count": 535,
   "id": "after-shadow",
   "metadata": {},
   "outputs": [],
   "source": [
    "def get_default_device():\n",
    "    \"\"\"Pick GPU if available, else CPU\"\"\"\n",
    "    if torch.cuda.is_available():\n",
    "        return torch.device('cuda')\n",
    "    else:\n",
    "        return torch.device('cpu')\n",
    "    \n",
    "def to_device(data, device):\n",
    "    \"\"\"Move tensor(s) to chosen device\"\"\"\n",
    "    if isinstance(data, (list,tuple)):\n",
    "        return [to_device(x, device) for x in data]\n",
    "    return data.to(device, non_blocking=True)\n",
    "\n",
    "class DeviceDataLoader():\n",
    "    \"\"\"Wrap a dataloader to move data to a device\"\"\"\n",
    "    def __init__(self, dl, device):\n",
    "        self.dl = dl\n",
    "        self.device = device\n",
    "        \n",
    "    def __iter__(self):\n",
    "        \"\"\"Yield a batch of data after moving it to device\"\"\"\n",
    "        for b in self.dl: \n",
    "            yield to_device(b, self.device)\n",
    "            \n",
    "def __len__(self):\n",
    "    \"\"\"Number of batches\"\"\"\n",
    "    return len(self.dl)"
   ]
  },
  {
   "cell_type": "code",
   "execution_count": 536,
   "id": "returning-campaign",
   "metadata": {},
   "outputs": [
    {
     "data": {
      "text/plain": [
       "device(type='cuda')"
      ]
     },
     "execution_count": 536,
     "metadata": {},
     "output_type": "execute_result"
    }
   ],
   "source": [
    "device = get_default_device()\n",
    "device"
   ]
  },
  {
   "cell_type": "code",
   "execution_count": 810,
   "id": "mighty-biography",
   "metadata": {},
   "outputs": [],
   "source": [
    "# preparing a batch \n",
    "from scipy import stats\n",
    "from numba import jit, cuda\n",
    "from numba import guvectorize\n",
    "from numba import vectorize\n",
    "\n",
    "#@vectorize([\"float64(float64, float64, float64, float64)\"], target='cuda')\n",
    "#@guvectorize([\"float64(float64, float64, float64, float64)\"], target='cuda')\n",
    "def input_data(data, label, sequence_length, AllData_Set):\n",
    "    \n",
    "   # creat this batch\n",
    "    L = data.shape[0]\n",
    "    \n",
    "    for i in range(L-sequence_length):\n",
    "        window = data[i:i+sequence_length,:]\n",
    "        # performing zscore for each channel\n",
    "        #window2 = stats.zscore(window1, axis=0)\n",
    "        # performing zscore for all 2D input\n",
    "        #window2 = stats.zscore(window1, axis=None)\n",
    "        \n",
    "        AllData_Set.append((window, label))\n",
    "\n",
    "    return AllData_Set\n",
    "    \n",
    "    "
   ]
  },
  {
   "cell_type": "code",
   "execution_count": 811,
   "id": "certain-package",
   "metadata": {},
   "outputs": [],
   "source": [
    "# labeling should start with 0\n",
    "# by considering batch creation\n",
    "# determining the temporal dynamics of ECoG \n",
    "# feed the data for creating the batches\n",
    "# append all the targets\n",
    "AllData_Set = []    \n",
    "Train_batch_1 = input_data(Data_T1_torch,torch.tensor(0), sequence_length, AllData_Set)\n",
    "Train_batch_2 = input_data(Data_T2_torch,torch.tensor(1), sequence_length, Train_batch_1)\n",
    "Train_batch_3 = input_data(Data_T3_torch,torch.tensor(2), sequence_length, Train_batch_2)\n",
    "Train_batch_4 = input_data(Data_T4_torch,torch.tensor(3), sequence_length, Train_batch_3)"
   ]
  },
  {
   "cell_type": "code",
   "execution_count": 812,
   "id": "impressive-reggae",
   "metadata": {},
   "outputs": [],
   "source": [
    "AllData_Set = Train_batch_4"
   ]
  },
  {
   "cell_type": "code",
   "execution_count": 813,
   "id": "different-death",
   "metadata": {},
   "outputs": [
    {
     "data": {
      "text/plain": [
       "3681"
      ]
     },
     "execution_count": 813,
     "metadata": {},
     "output_type": "execute_result"
    }
   ],
   "source": [
    "len(AllData_Set)"
   ]
  },
  {
   "cell_type": "code",
   "execution_count": 814,
   "id": "stuffed-certification",
   "metadata": {},
   "outputs": [
    {
     "data": {
      "text/plain": [
       "1104"
      ]
     },
     "execution_count": 814,
     "metadata": {},
     "output_type": "execute_result"
    }
   ],
   "source": [
    "round (0.3*len(AllData_Set))"
   ]
  },
  {
   "cell_type": "code",
   "execution_count": 815,
   "id": "efficient-coach",
   "metadata": {},
   "outputs": [
    {
     "data": {
      "text/plain": [
       "(array([[ 0.31269982, -0.6024691 , -1.25846876, -0.06445649, -1.36519766,\n",
       "         -1.09812086,  1.39906984, -0.99917835, -0.92487352,  0.00918887,\n",
       "         -1.07325679, -1.05562949, -1.30246472, -1.22706851, -1.15836975,\n",
       "         -0.67984796,  1.36904488, -1.35315393, -1.41338171, -1.41191732,\n",
       "         -0.00495288,  0.42325453, -1.31146326, -1.40086394, -1.15771416,\n",
       "         -0.97268955, -0.96175763, -0.51328964, -0.94913867, -1.12858074,\n",
       "         -0.87317666, -1.13250782, -0.29100846, -1.19995785, -0.69705314,\n",
       "         -1.20349419, -1.34949039,  0.92502014, -1.41386552, -0.91599978,\n",
       "         -1.34955242, -1.31916287,  1.41304589, -0.29169477, -1.41418018,\n",
       "         -1.11428068, -1.29703006, -1.09205567, -1.08950714,  1.19769229,\n",
       "         -0.98965274, -0.3013003 , -1.41296129, -1.41420067, -0.17711889,\n",
       "         -0.37899623,  0.9739671 , -1.36780774, -0.67500509, -1.0825625 ,\n",
       "         -1.0010772 , -1.41366139,  0.16201803, -1.40577848,  0.53707472,\n",
       "         -1.10509352, -1.22669878,  1.07010211,  0.54324101,  1.28720599,\n",
       "         -0.77393239, -0.38939194, -1.14761545, -0.94268482,  0.96011071,\n",
       "          0.58162797,  0.25190113, -1.36957925, -1.357435  , -1.19984621,\n",
       "          0.74669005,  0.89543912,  0.90504203,  1.3743328 , -1.04589202,\n",
       "         -1.32467801, -0.33257874, -1.23374715, -1.18276738, -1.14327582,\n",
       "         -1.15685014, -1.35821722, -1.28424323, -1.202725  , -0.95081587,\n",
       "         -0.10493683, -1.35588989, -1.2053461 , -1.34688815, -1.27895341,\n",
       "          0.23485405, -1.41401994, -1.08580526, -0.97371484, -1.36806772,\n",
       "         -1.15651122, -1.11406245, -0.84996734, -0.86435858, -0.74295101,\n",
       "          0.20294672, -0.88501764, -1.29514258, -1.14418172, -1.0653255 ,\n",
       "         -1.11886598, -1.14923363, -0.92695977, -1.38620637, -1.39206975,\n",
       "          1.38088732, -1.4115758 , -1.03316793, -1.41187235, -1.03084573,\n",
       "         -1.25197841, -0.55038994, -1.25661897],\n",
       "        [-1.35078037, -0.80681474,  0.07049269,  1.25570036,  1.00224943,\n",
       "         -0.22268948, -0.87828804, -0.36714722, -0.46409265, -1.22931345,\n",
       "         -0.26092405, -0.28719125,  0.17406442,  0.00466058, -0.1234065 ,\n",
       "          1.41386768, -0.37746043,  0.32058423,  0.74869211,  0.63619394,\n",
       "          1.2272138 , -1.380234  ,  0.19742158,  0.53254757, -0.12454426,\n",
       "         -0.40270319, -0.41704473, -0.88458273, -0.4333689 , -0.1737673 ,\n",
       "         -0.52682845, -0.16727831, -1.05303052, -0.04815367, -0.717113  ,\n",
       "         -0.04144906,  0.30847101, -1.38892969,  0.67976272, -0.47511763,\n",
       "          0.30867349,  0.21815535, -0.75628212, -1.05256223,  0.69867437,\n",
       "         -0.19703731,  0.16037081, -0.23215005,  1.32560608, -1.25011405,\n",
       "         -0.38006824,  1.34727607,  0.7580101 ,  0.71233054,  1.30366095,\n",
       "          1.36944362,  0.4010148 ,  0.99507343, -0.73872981,  1.32934459,\n",
       "         -0.36455291,  0.67260929, -1.29769   ,  0.56932224,  0.86445119,\n",
       "         -0.21170204,  0.00391722, -1.33577642,  0.85916104, -0.13633032,\n",
       "         -0.63810526,  1.37210008, -0.14189758,  1.38430955, -1.3792998 ,\n",
       "         -1.40718385,  1.07920891,  0.37952006,  0.33516594, -0.0483645 ,\n",
       "          0.66677058,  0.50024752,  0.48858163, -0.39836369,  1.3473139 ,\n",
       "          0.23347873,  1.35668575,  1.21553958, -0.08002975, -0.14925758,\n",
       "         -0.12604162,  1.0203336 ,  0.12924786,  1.24563685, -0.4312132 ,\n",
       "          1.27383699,  0.32984731, -0.03791698,  0.30005523,  0.11678308,\n",
       "          1.09031164,  0.7272757 , -0.24180764, -0.40134839,  0.99434504,\n",
       "         -0.12662832, -0.19738819, -0.5538762 , -0.53718297, -0.67064629,\n",
       "          1.1105949 , -0.51277011,  1.13945976, -0.14772588, -0.27282541,\n",
       "         -0.1896359 , -0.13913843, -0.46148454,  0.93563961,  0.91191992,\n",
       "         -0.9547591 ,  0.78055639, -0.31973118,  0.77638008, -0.32303871,\n",
       "          1.19556146,  1.40338076,  0.066454  ],\n",
       "        [ 1.03808055,  1.40928384,  1.18797607, -1.19124387,  0.36294823,\n",
       "          1.32081034, -0.5207818 ,  1.36632556,  1.38896616,  1.22012458,\n",
       "          1.33418084,  1.34282075,  1.1284003 ,  1.22240793,  1.28177625,\n",
       "         -0.73401972, -0.99158445,  1.0325697 ,  0.66468961,  0.77572337,\n",
       "         -1.22226092,  0.95697947,  1.11404167,  0.86831636,  1.28225842,\n",
       "          1.37539274,  1.37880236,  1.39787236,  1.38250757,  1.30234804,\n",
       "          1.40000511,  1.29978613,  1.34403899,  1.24811152,  1.41416614,\n",
       "          1.24494325,  1.04101937,  0.46390954,  0.7341028 ,  1.39111741,\n",
       "          1.04087893,  1.10100752, -0.65676377,  1.34425701,  0.7155058 ,\n",
       "          1.31131799,  1.13665924,  1.32420571, -0.23609894,  0.05242175,\n",
       "          1.36972099, -1.04597577,  0.65495119,  0.70187013, -1.12654206,\n",
       "         -0.99044739, -1.3749819 ,  0.37273431,  1.41373491, -0.24678209,\n",
       "          1.36563011,  0.7410521 ,  1.13567197,  0.83645625, -1.40152591,\n",
       "          1.31679556,  1.22278156,  0.26567431, -1.40240205, -1.15087566,\n",
       "          1.41203765, -0.98270814,  1.28951303, -0.44162473,  0.41918908,\n",
       "          0.82555589, -1.33111004,  0.99005919,  1.02226906,  1.2482107 ,\n",
       "         -1.41346063, -1.39568664, -1.39362366, -0.97596912, -0.30142188,\n",
       "          1.09119928, -1.02410701,  0.01820757,  1.26279712,  1.2925334 ,\n",
       "          1.28289176,  0.33788362,  1.15499537, -0.04291185,  1.38202907,\n",
       "         -1.16890016,  1.02604258,  1.24326308,  1.04683292,  1.16217033,\n",
       "         -1.32516569,  0.68674424,  1.3276129 ,  1.37506323,  0.37372268,\n",
       "          1.28313954,  1.31145063,  1.40384354,  1.40154155,  1.41359731,\n",
       "         -1.31354162,  1.39778775,  0.15568282,  1.2919076 ,  1.33815091,\n",
       "          1.30850187,  1.28837206,  1.38844431,  0.45056676,  0.48014984,\n",
       "         -0.42612822,  0.63101941,  1.35289911,  0.63549227,  1.35388444,\n",
       "          0.05641695, -0.85299083,  1.19016496]]),\n",
       " tensor(0))"
      ]
     },
     "execution_count": 815,
     "metadata": {},
     "output_type": "execute_result"
    }
   ],
   "source": [
    "AllData_Set[0]"
   ]
  },
  {
   "cell_type": "code",
   "execution_count": 838,
   "id": "narrow-transfer",
   "metadata": {},
   "outputs": [],
   "source": [
    "# for holdout data\n",
    "HoldOutData_Set = []    \n",
    "Train_batch_1 = input_data(Data_T1_HoldOut_torch,torch.tensor(0), sequence_length, HoldOutData_Set)\n",
    "Train_batch_2 = input_data(Data_T2_HoldOut_torch,torch.tensor(1), sequence_length, Train_batch_1)\n",
    "Train_batch_3 = input_data(Data_T3_HoldOut_torch,torch.tensor(2), sequence_length, Train_batch_2)\n",
    "Train_batch_4 = input_data(Data_T4_HoldOut_torch,torch.tensor(3), sequence_length, Train_batch_3)\n",
    "HoldOutData_Set = Train_batch_4"
   ]
  },
  {
   "cell_type": "code",
   "execution_count": 839,
   "id": "biblical-cookie",
   "metadata": {},
   "outputs": [
    {
     "data": {
      "text/plain": [
       "13.484375"
      ]
     },
     "execution_count": 839,
     "metadata": {},
     "output_type": "execute_result"
    }
   ],
   "source": [
    "len(HoldOutData_Set)/64"
   ]
  },
  {
   "cell_type": "code",
   "execution_count": 840,
   "id": "specific-release",
   "metadata": {},
   "outputs": [],
   "source": [
    "# spliting the data to 70% train and 30% test \n",
    "torch.manual_seed(101)\n",
    "train_set, test_set = torch.utils.data.random_split(AllData_Set, [round(0.7*len(AllData_Set)),len(AllData_Set)-round(0.7*len(AllData_Set))])\n"
   ]
  },
  {
   "cell_type": "code",
   "execution_count": 841,
   "id": "monthly-green",
   "metadata": {},
   "outputs": [
    {
     "data": {
      "text/plain": [
       "2577"
      ]
     },
     "execution_count": 841,
     "metadata": {},
     "output_type": "execute_result"
    }
   ],
   "source": [
    "len(train_set)"
   ]
  },
  {
   "cell_type": "code",
   "execution_count": 842,
   "id": "intellectual-shield",
   "metadata": {},
   "outputs": [],
   "source": [
    "# batching the data\n",
    "torch.manual_seed(101)\n",
    "train_loader = DataLoader(train_set, batch_size, shuffle=True)\n",
    "test_loader = DataLoader(test_set, batch_size, shuffle=False)\n",
    "holdout_loader = DataLoader(HoldOutData_Set, batch_size, shuffle=False)\n"
   ]
  },
  {
   "cell_type": "code",
   "execution_count": null,
   "id": "destroyed-elite",
   "metadata": {},
   "outputs": [],
   "source": []
  },
  {
   "cell_type": "code",
   "execution_count": null,
   "id": "fundamental-worthy",
   "metadata": {},
   "outputs": [],
   "source": []
  },
  {
   "cell_type": "code",
   "execution_count": null,
   "id": "limiting-mexican",
   "metadata": {},
   "outputs": [],
   "source": []
  },
  {
   "cell_type": "code",
   "execution_count": null,
   "id": "instructional-automation",
   "metadata": {},
   "outputs": [],
   "source": []
  },
  {
   "cell_type": "code",
   "execution_count": 821,
   "id": "maritime-syndication",
   "metadata": {},
   "outputs": [],
   "source": [
    "# create the LSTM model\n",
    "class LSTMModel(nn.Module):\n",
    "    def __init__(self, input_size, hidden_size, num_layers, num_classes):\n",
    "        super(LSTMModel, self).__init__()\n",
    "        self.hidden_size = hidden_size\n",
    "        self.num_layers = num_layers\n",
    "        self.lstm = nn.LSTM(input_size, hidden_size, num_layers, batch_first=True)\n",
    "        self.fc = nn.Linear(hidden_size, num_classes)\n",
    "        \n",
    "        # additional layer for classification problem\n",
    "        #self.SoftAct = nn.Softmax()\n",
    "        # for batch normalization\n",
    "        # self.bn1 = nn.BatchNorm1d(sequence_length)\n",
    "        \n",
    "    \n",
    "    def forward(self, x):\n",
    "        h = torch.zeros(self.num_layers, x.size(0), self.hidden_size).to(device) \n",
    "        c = torch.zeros(self.num_layers, x.size(0), self.hidden_size).to(device)\n",
    "        \n",
    "        # for batch normalization\n",
    "        # x = self.bn1(x)\n",
    "        \n",
    "        out, _ = self.lstm(x, (h, c))  \n",
    "        \n",
    "        out = self.fc(out[:, -1, :])\n",
    "        \n",
    "        # additional layer for classification problem\n",
    "        # out = self.SoftAct(out)\n",
    "        \n",
    "        return out\n",
    "    "
   ]
  },
  {
   "cell_type": "code",
   "execution_count": 549,
   "id": "relative-george",
   "metadata": {},
   "outputs": [],
   "source": [
    "test1 = nn.LSTM(input_size, hidden_size, num_layers, batch_first=True)\n",
    "h = torch.zeros(num_layers, images.size(0), hidden_size)\n",
    "c = torch.zeros(num_layers, images.size(0), hidden_size)"
   ]
  },
  {
   "cell_type": "code",
   "execution_count": 99,
   "id": "governmental-davis",
   "metadata": {},
   "outputs": [],
   "source": [
    "out1, out2 = test1(images.cpu(), (h, c))"
   ]
  },
  {
   "cell_type": "code",
   "execution_count": 101,
   "id": "virtual-mentor",
   "metadata": {},
   "outputs": [
    {
     "data": {
      "text/plain": [
       "torch.Size([48, 200, 50])"
      ]
     },
     "execution_count": 101,
     "metadata": {},
     "output_type": "execute_result"
    }
   ],
   "source": [
    "out1.shape"
   ]
  },
  {
   "cell_type": "code",
   "execution_count": 130,
   "id": "floppy-diana",
   "metadata": {},
   "outputs": [
    {
     "data": {
      "text/plain": [
       "torch.Size([34, 200, 384])"
      ]
     },
     "execution_count": 130,
     "metadata": {},
     "output_type": "execute_result"
    }
   ],
   "source": [
    "images.shape"
   ]
  },
  {
   "cell_type": "code",
   "execution_count": 112,
   "id": "computational-weapon",
   "metadata": {},
   "outputs": [
    {
     "data": {
      "text/plain": [
       "torch.Size([1, 48, 50])"
      ]
     },
     "execution_count": 112,
     "metadata": {},
     "output_type": "execute_result"
    }
   ],
   "source": [
    "q1 = out2[1]\n",
    "q1.shape"
   ]
  },
  {
   "cell_type": "code",
   "execution_count": 113,
   "id": "wound-natural",
   "metadata": {},
   "outputs": [],
   "source": [
    "test2 = nn.Linear(hidden_size, num_classes) "
   ]
  },
  {
   "cell_type": "code",
   "execution_count": 115,
   "id": "persistent-messaging",
   "metadata": {},
   "outputs": [
    {
     "data": {
      "text/plain": [
       "torch.Size([48, 50])"
      ]
     },
     "execution_count": 115,
     "metadata": {},
     "output_type": "execute_result"
    }
   ],
   "source": [
    "q1 = out1[:, -1, :]\n",
    "q1.shape"
   ]
  },
  {
   "cell_type": "code",
   "execution_count": 117,
   "id": "superior-hunter",
   "metadata": {},
   "outputs": [
    {
     "data": {
      "text/plain": [
       "torch.Size([48, 4])"
      ]
     },
     "execution_count": 117,
     "metadata": {},
     "output_type": "execute_result"
    }
   ],
   "source": [
    "test2(q1).shape"
   ]
  },
  {
   "cell_type": "code",
   "execution_count": 822,
   "id": "empty-shareware",
   "metadata": {},
   "outputs": [
    {
     "data": {
      "text/plain": [
       "LSTMModel(\n",
       "  (lstm): LSTM(128, 50, batch_first=True)\n",
       "  (fc): Linear(in_features=50, out_features=4, bias=True)\n",
       ")"
      ]
     },
     "execution_count": 822,
     "metadata": {},
     "output_type": "execute_result"
    }
   ],
   "source": [
    "model = LSTMModel(input_size, hidden_size, num_layers, num_classes)\n",
    "to_device(model, device)"
   ]
  },
  {
   "cell_type": "code",
   "execution_count": 823,
   "id": "velvet-cradle",
   "metadata": {},
   "outputs": [],
   "source": [
    "criterion = nn.CrossEntropyLoss()\n",
    "optimizer = torch.optim.Adam(model.parameters(), lr=learning_rate)"
   ]
  },
  {
   "cell_type": "code",
   "execution_count": 824,
   "id": "coordinated-space",
   "metadata": {},
   "outputs": [
    {
     "name": "stdout",
     "output_type": "stream",
     "text": [
      "Epoch [1/8], Step [100/162], Loss: 1.3625\n",
      "Test Accuracy of the model on the test images: 43.75 %\n",
      "Epoch [2/8], Step [100/162], Loss: 1.1619\n",
      "Test Accuracy of the model on the test images: 56.25 %\n",
      "Epoch [3/8], Step [100/162], Loss: 1.0298\n",
      "Test Accuracy of the model on the test images: 62.5 %\n",
      "Epoch [4/8], Step [100/162], Loss: 0.5869\n",
      "Test Accuracy of the model on the test images: 68.75 %\n",
      "Epoch [5/8], Step [100/162], Loss: 0.4083\n",
      "Test Accuracy of the model on the test images: 62.5 %\n",
      "Epoch [6/8], Step [100/162], Loss: 0.2248\n",
      "Test Accuracy of the model on the test images: 75.0 %\n",
      "Epoch [7/8], Step [100/162], Loss: 0.2200\n",
      "Test Accuracy of the model on the test images: 75.0 %\n",
      "Epoch [8/8], Step [100/162], Loss: 0.0936\n",
      "Test Accuracy of the model on the test images: 75.0 %\n"
     ]
    }
   ],
   "source": [
    "# Train the model\n",
    "\n",
    "All_y_pred = []\n",
    "All_y_train = []\n",
    "Accuracy_test = []\n",
    "loss_train = []\n",
    "loss_test = []\n",
    "\n",
    "#model = model.to(torch.long)\n",
    "model = model.to(torch.float)\n",
    "\n",
    "total_step = len(train_loader)\n",
    "for epoch in range(num_epochs):\n",
    "    for i, (images, labels) in enumerate(train_loader):\n",
    "        #print(labels.shape)\n",
    "        labels = labels.T\n",
    "        \n",
    "        # for saving\n",
    "        All_y_train.append(labels.numpy())\n",
    "        \n",
    "        images = images.reshape(-1, sequence_length, input_size).to(device)\n",
    "        labels = labels.to(torch.long)\n",
    "        labels = labels.to(device)\n",
    "        \n",
    "        #labels = labels.to(torch.float)\n",
    "        \n",
    "        # test with random inputs\n",
    "        #target = torch.empty(batch_size, dtype=torch.long).random_(num_classes)\n",
    "        #labels_1 = target\n",
    "        \n",
    "        #images = images.to(torch.long)\n",
    "        images = images.to(torch.float)\n",
    "        \n",
    "        # zero the parameter gradients\n",
    "        #optimizer.zero_grad()\n",
    "        # reset hidden states\n",
    "        #model.hidden = (torch.zeros(1, 1, model.hidden_size), torch.zeros(1, 1, model.hidden_size))\n",
    "        \n",
    "                \n",
    "        # Forward pass\n",
    "        outputs = model(images)\n",
    "        #outputs = outputs.to(torch.long)\n",
    "        outputs = outputs.to(torch.float)\n",
    "        loss = criterion(outputs, labels)\n",
    "        loss_train.append(criterion(outputs, labels))\n",
    "        \n",
    "        # for saving \n",
    "        _, predicted = torch.max(outputs.data, 1)\n",
    "        All_y_pred.append(predicted.cpu().numpy())\n",
    "        \n",
    "        \n",
    "        # Backward pass and optimize\n",
    "        optimizer.zero_grad()\n",
    "        loss.backward()\n",
    "        optimizer.step()\n",
    "        \n",
    "        if (i+1) % 100 == 0:\n",
    "            print ('Epoch [{}/{}], Step [{}/{}], Loss: {:.4f}' .format(epoch+1, num_epochs, i+1, total_step, loss.item()))\n",
    "            \n",
    "    # Evaluate the model\n",
    "    #model.eval()\n",
    "    with torch.no_grad():\n",
    "        right = 0\n",
    "        total = 0\n",
    "        for images, labels in test_loader:\n",
    "            images = images.reshape(-1, sequence_length, input_size).to(device)\n",
    "            labels = labels.T\n",
    "            labels = labels.to(torch.long)\n",
    "            labels = labels.to(device)\n",
    "            images = images.to(torch.float)\n",
    "            outputs = model(images)\n",
    "            loss_test.append(criterion(outputs, labels))\n",
    "            _, predicted = torch.max(outputs.data, 1)\n",
    "            total = labels.size(0)\n",
    "            right = (predicted == labels).sum().item()\n",
    "            Accuracy_test.append(100 * right / total)\n",
    "\n",
    "    print('Test Accuracy of the model on the test images: {} %'.format(100 * right / total))"
   ]
  },
  {
   "cell_type": "code",
   "execution_count": null,
   "id": "circular-corrections",
   "metadata": {},
   "outputs": [],
   "source": [
    "\n"
   ]
  },
  {
   "cell_type": "code",
   "execution_count": 257,
   "id": "confident-sheet",
   "metadata": {},
   "outputs": [
    {
     "data": {
      "text/plain": [
       "torch.Size([22, 300, 128])"
      ]
     },
     "execution_count": 257,
     "metadata": {},
     "output_type": "execute_result"
    }
   ],
   "source": [
    "images.shape\n",
    "\n",
    "\n"
   ]
  },
  {
   "cell_type": "code",
   "execution_count": 258,
   "id": "bulgarian-portable",
   "metadata": {},
   "outputs": [
    {
     "data": {
      "text/plain": [
       "1.0"
      ]
     },
     "execution_count": 258,
     "metadata": {},
     "output_type": "execute_result"
    }
   ],
   "source": [
    "0.0020 + 0.3192 + 0.1581 + 0.5207"
   ]
  },
  {
   "cell_type": "code",
   "execution_count": null,
   "id": "supposed-distributor",
   "metadata": {},
   "outputs": [],
   "source": [
    "\n"
   ]
  },
  {
   "cell_type": "code",
   "execution_count": 245,
   "id": "orange-wales",
   "metadata": {},
   "outputs": [
    {
     "data": {
      "text/plain": [
       "tensor([3, 3, 3, 0, 0, 0, 2, 2, 0, 2, 3, 3, 0, 2, 1, 2, 3, 1, 1, 3, 3, 3, 2, 0,\n",
       "        1, 2, 0, 1, 1, 0, 0, 0, 3, 2, 2, 2, 2, 2, 0, 0, 3, 0, 3, 1, 0, 1, 3, 3,\n",
       "        2, 1, 3, 3, 1, 0, 0, 0, 3, 3, 1, 2, 1, 3, 0, 3])"
      ]
     },
     "execution_count": 245,
     "metadata": {},
     "output_type": "execute_result"
    }
   ],
   "source": [
    "labels-1"
   ]
  },
  {
   "cell_type": "code",
   "execution_count": 244,
   "id": "southwest-inventory",
   "metadata": {},
   "outputs": [
    {
     "data": {
      "text/plain": [
       "tensor([1, 2, 2, 2, 3, 0, 0, 1, 1, 1, 0, 0, 1, 2, 1, 3, 1, 3, 3, 2, 0, 3, 2, 1,\n",
       "        3, 0, 0, 3, 0, 2, 3, 0, 2, 0, 0, 3, 2, 0, 2, 1, 3, 0, 2, 2, 1, 3, 2, 2,\n",
       "        2, 2, 3, 0, 3, 1, 0, 2, 3, 1, 0, 2, 3, 0, 3, 3])"
      ]
     },
     "execution_count": 244,
     "metadata": {},
     "output_type": "execute_result"
    }
   ],
   "source": [
    "labels_1"
   ]
  },
  {
   "cell_type": "code",
   "execution_count": 744,
   "id": "devoted-polyester",
   "metadata": {},
   "outputs": [
    {
     "name": "stdout",
     "output_type": "stream",
     "text": [
      "25600\n",
      "10000\n",
      "200\n",
      "200\n",
      "200\n",
      "4\n"
     ]
    }
   ],
   "source": [
    "# check the number of parameters in layers\n",
    "for p in model.parameters():\n",
    "    print(p.numel())"
   ]
  },
  {
   "cell_type": "code",
   "execution_count": 81,
   "id": "anticipated-context",
   "metadata": {},
   "outputs": [
    {
     "data": {
      "text/plain": [
       "array([3, 3, 3, 3, 3, 3, 3, 3, 3, 3, 3, 3, 3, 3, 3, 3, 3, 3, 3, 3, 3, 3,\n",
       "       3, 3, 3, 3, 3, 3, 3, 3, 3, 3, 3, 3, 3, 3, 3, 3, 3, 3, 3, 3, 3, 3,\n",
       "       3, 3, 3, 3, 3, 3, 3, 3, 3, 3, 3, 3, 3, 3, 3, 3, 3, 3, 3, 3])"
      ]
     },
     "execution_count": 81,
     "metadata": {},
     "output_type": "execute_result"
    }
   ],
   "source": [
    "All_y_pred[0]\n",
    "#All_y_train = []"
   ]
  },
  {
   "cell_type": "code",
   "execution_count": 82,
   "id": "radical-assignment",
   "metadata": {},
   "outputs": [
    {
     "data": {
      "text/plain": [
       "array([2., 2., 3., 2., 2., 1., 0., 1., 2., 0., 1., 1., 2., 1., 3., 2., 3.,\n",
       "       0., 2., 3., 3., 3., 3., 3., 2., 2., 0., 2., 1., 3., 2., 1., 0., 2.,\n",
       "       1., 1., 1., 0., 0., 1., 2., 1., 3., 3., 3., 3., 0., 1., 2., 2., 3.,\n",
       "       0., 3., 3., 1., 3., 3., 2., 2., 3., 0., 1., 3., 3.], dtype=float32)"
      ]
     },
     "execution_count": 82,
     "metadata": {},
     "output_type": "execute_result"
    }
   ],
   "source": [
    "All_y_train[0].T"
   ]
  },
  {
   "cell_type": "code",
   "execution_count": 83,
   "id": "dedicated-cambridge",
   "metadata": {},
   "outputs": [
    {
     "data": {
      "text/plain": [
       "32.8125"
      ]
     },
     "execution_count": 83,
     "metadata": {},
     "output_type": "execute_result"
    }
   ],
   "source": [
    "((All_y_pred[0] == All_y_train[0].T).sum().item())/batch_size*100"
   ]
  },
  {
   "cell_type": "code",
   "execution_count": 825,
   "id": "positive-billion",
   "metadata": {},
   "outputs": [],
   "source": [
    "Accuracies = []\n",
    "for i in range(len(All_y_pred)):\n",
    "    acc = ((All_y_pred[i] == All_y_train[i].T).sum().item())/batch_size*100\n",
    "    Accuracies.append(acc)\n",
    "    \n",
    "    "
   ]
  },
  {
   "cell_type": "code",
   "execution_count": 826,
   "id": "baking-prayer",
   "metadata": {},
   "outputs": [
    {
     "data": {
      "text/plain": [
       "(0, 100)"
      ]
     },
     "execution_count": 826,
     "metadata": {},
     "output_type": "execute_result"
    },
    {
     "data": {
      "image/png": "[encoded data removed]",
      "text/plain": [
       "<Figure size 1080x288 with 1 Axes>"
      ]
     },
     "metadata": {
      "needs_background": "light"
     },
     "output_type": "display_data"
    }
   ],
   "source": [
    "import matplotlib.pyplot as plt\n",
    "%matplotlib inline\n",
    "t_bin = np.arange(0,len(All_y_pred),1)\n",
    "fig = plt.figure(figsize=(15,4))\n",
    "ax = fig.add_axes([.10,.10,0.8,.8])\n",
    "ax.plot(t_bin,Accuracies,'r')\n",
    "ax.set_ylabel('Accuracy; train')\n",
    "ax.set_xlabel('Batch Number')\n",
    "plt.ylim([0, 100])\n",
    "#plt.savefig('LSTM_Classification4_trainAccBroadBand_4target.png',facecolor='w', transparent=False, dpi=300)\n"
   ]
  },
  {
   "cell_type": "code",
   "execution_count": 827,
   "id": "hearing-wellington",
   "metadata": {},
   "outputs": [
    {
     "data": {
      "text/plain": [
       "Text(0.5, 0, 'Batch Number')"
      ]
     },
     "execution_count": 827,
     "metadata": {},
     "output_type": "execute_result"
    },
    {
     "data": {
      "image/png": "[encoded data removed]",
      "text/plain": [
       "<Figure size 1080x288 with 1 Axes>"
      ]
     },
     "metadata": {
      "needs_background": "light"
     },
     "output_type": "display_data"
    }
   ],
   "source": [
    "import matplotlib.pyplot as plt\n",
    "%matplotlib inline\n",
    "t_bin = np.arange(0,len(loss_train),1)\n",
    "fig = plt.figure(figsize=(15,4))\n",
    "ax = fig.add_axes([.10,.10,0.8,.8])\n",
    "ax.plot(t_bin,loss_train,'r')\n",
    "ax.set_ylabel('Loss; train')\n",
    "ax.set_xlabel('Batch Number')\n",
    "#plt.ylim([0, 100])\n",
    "#plt.savefig('LSTM_Classification4_trainLossBroadBand_4target.png',facecolor='w', transparent=False, dpi=300)\n"
   ]
  },
  {
   "cell_type": "code",
   "execution_count": 828,
   "id": "differential-cannon",
   "metadata": {},
   "outputs": [
    {
     "data": {
      "text/plain": [
       "(0, 100)"
      ]
     },
     "execution_count": 828,
     "metadata": {},
     "output_type": "execute_result"
    },
    {
     "data": {
      "image/png": "[encoded data removed]",
      "text/plain": [
       "<Figure size 576x288 with 1 Axes>"
      ]
     },
     "metadata": {
      "needs_background": "light"
     },
     "output_type": "display_data"
    }
   ],
   "source": [
    "import matplotlib.pyplot as plt\n",
    "%matplotlib inline\n",
    "t_bin = np.arange(0,len(Accuracy_test),1)\n",
    "fig = plt.figure(figsize=(8,4))\n",
    "ax = fig.add_axes([.10,.10,0.8,.8])\n",
    "ax.plot(t_bin,Accuracy_test,'r')\n",
    "ax.set_ylabel('Accuracy; test')\n",
    "ax.set_xlabel('Batch Number')\n",
    "plt.ylim([0, 100])\n",
    "#plt.savefig('LSTM_Classification4_testAccBroadBand_4target.png',facecolor='w', transparent=False, dpi=300)\n"
   ]
  },
  {
   "cell_type": "code",
   "execution_count": 829,
   "id": "outer-rochester",
   "metadata": {},
   "outputs": [
    {
     "data": {
      "text/plain": [
       "Text(0.5, 0, 'Batch Number')"
      ]
     },
     "execution_count": 829,
     "metadata": {},
     "output_type": "execute_result"
    },
    {
     "data": {
      "image/png": "[encoded data removed]",
      "text/plain": [
       "<Figure size 1080x288 with 1 Axes>"
      ]
     },
     "metadata": {
      "needs_background": "light"
     },
     "output_type": "display_data"
    }
   ],
   "source": [
    "import matplotlib.pyplot as plt\n",
    "%matplotlib inline\n",
    "t_bin = np.arange(0,len(loss_train),1)\n",
    "fig = plt.figure(figsize=(15,4))\n",
    "ax = fig.add_axes([.10,.10,0.8,.8])\n",
    "ax.plot(t_bin,loss_train,'r')\n",
    "ax.set_ylabel('Loss; test')\n",
    "ax.set_xlabel('Batch Number')\n",
    "#plt.ylim([0, 100])\n",
    "#plt.savefig('LSTM_Classification4_testLossBroadBand_4target.png',facecolor='w', transparent=False, dpi=300)\n"
   ]
  },
  {
   "cell_type": "code",
   "execution_count": 830,
   "id": "discrete-lending",
   "metadata": {},
   "outputs": [
    {
     "name": "stdout",
     "output_type": "stream",
     "text": [
      "Test Accuracy of the model on the test images: 20.0 %\n"
     ]
    }
   ],
   "source": [
    "# Evaluate the model\n",
    "#model.eval()\n",
    "# test on holdout data\n",
    "\n",
    "Accuracy_holdout = []\n",
    "\n",
    "with torch.no_grad():\n",
    "    right = 0\n",
    "    total = 0\n",
    "    for images, labels in holdout_loader:\n",
    "        images = images.reshape(-1, sequence_length, input_size).to(device)\n",
    "        labels = labels.T\n",
    "        #print(labels)\n",
    "        labels = labels.to(torch.long)\n",
    "        labels = labels.to(device)\n",
    "        images = images.to(torch.float)\n",
    "        outputs = model(images)\n",
    "        _, predicted = torch.max(outputs.data, 1)\n",
    "        total = labels.size(0)\n",
    "        right = (predicted == labels).sum().item()\n",
    "        Accuracy_holdout.append(100 * right / total)\n",
    "\n",
    "print('Test Accuracy of the model on the test images: {} %'.format(100 * right / total))"
   ]
  },
  {
   "cell_type": "code",
   "execution_count": 831,
   "id": "cheap-brief",
   "metadata": {},
   "outputs": [
    {
     "data": {
      "text/plain": [
       "54"
      ]
     },
     "execution_count": 831,
     "metadata": {},
     "output_type": "execute_result"
    }
   ],
   "source": [
    "len(holdout_loader)"
   ]
  },
  {
   "cell_type": "code",
   "execution_count": 832,
   "id": "super-brave",
   "metadata": {},
   "outputs": [
    {
     "data": {
      "text/plain": [
       "(0, 100)"
      ]
     },
     "execution_count": 832,
     "metadata": {},
     "output_type": "execute_result"
    },
    {
     "data": {
      "image/png": "[encoded data removed]",
      "text/plain": [
       "<Figure size 576x288 with 1 Axes>"
      ]
     },
     "metadata": {
      "needs_background": "light"
     },
     "output_type": "display_data"
    }
   ],
   "source": [
    "import matplotlib.pyplot as plt\n",
    "%matplotlib inline\n",
    "t_bin = np.arange(0,len(Accuracy_holdout),1)\n",
    "fig = plt.figure(figsize=(8,4))\n",
    "ax = fig.add_axes([.10,.10,0.8,.8])\n",
    "ax.plot(t_bin,Accuracy_holdout,'r')\n",
    "ax.set_ylabel('Accuracy; holdout')\n",
    "ax.set_xlabel('Batch Number')\n",
    "plt.ylim([0, 100])\n",
    "#plt.savefig('LSTM_Classification3_holdout3Features_4target.png',facecolor='w', transparent=False, dpi=300)\n"
   ]
  },
  {
   "cell_type": "code",
   "execution_count": 843,
   "id": "animated-masters",
   "metadata": {},
   "outputs": [],
   "source": [
    "# calculate the accuracy in trial based \n",
    "import statistics\n",
    "\n",
    "def Trial_Based_Accuracy(Trials_Num,Trials_Data_HoldOut,Trials_Sizes,Target,All_Predicted,Trials_Predicted):\n",
    "    \n",
    "\n",
    "    for i in range(Trials_Num):\n",
    "\n",
    "        HoldOutData_Set = []\n",
    "        Trial_Target = Trials_Data_HoldOut[int(sum(Trials_Sizes[0:i+1])):int(sum(Trials_Sizes[0:i+1])+Trials_Sizes[i+1]),:]\n",
    "        HoldOutData_Set = input_data(Trial_Target, Target, sequence_length, HoldOutData_Set)\n",
    "\n",
    "        with torch.no_grad():\n",
    "\n",
    "            for images, labels in HoldOutData_Set:\n",
    "                images = images.reshape(-1, sequence_length, input_size).to(device)\n",
    "                images = images.to(torch.float)\n",
    "                outputs = model(images)\n",
    "                _, predicted = torch.max(outputs.data, 1)\n",
    "                #print((predicted.cpu().numpy().item()))\n",
    "                All_Predicted.append(predicted.cpu().numpy().item())\n",
    "\n",
    "        Counting =[All_Predicted.count(0), All_Predicted.count(1), All_Predicted.count(2), All_Predicted.count(3)] \n",
    "        Trials_Predicted.append(np.argmax(Counting))\n",
    "        \n",
    "    return Trials_Predicted\n",
    "    \n",
    "\n",
    "\n"
   ]
  },
  {
   "cell_type": "code",
   "execution_count": 844,
   "id": "separate-certification",
   "metadata": {},
   "outputs": [
    {
     "ename": "AttributeError",
     "evalue": "'numpy.ndarray' object has no attribute 'to'",
     "output_type": "error",
     "traceback": [
      "\u001b[0;31m---------------------------------------------------------------------------\u001b[0m",
      "\u001b[0;31mAttributeError\u001b[0m                            Traceback (most recent call last)",
      "\u001b[0;32m<ipython-input-844-ef75edb34c99>\u001b[0m in \u001b[0;36m<module>\u001b[0;34m\u001b[0m\n\u001b[1;32m      8\u001b[0m \u001b[0mAll_Predicted\u001b[0m \u001b[0;34m=\u001b[0m \u001b[0;34m[\u001b[0m\u001b[0;34m]\u001b[0m\u001b[0;34m\u001b[0m\u001b[0;34m\u001b[0m\u001b[0m\n\u001b[1;32m      9\u001b[0m \u001b[0mTrials_Predicted\u001b[0m \u001b[0;34m=\u001b[0m \u001b[0;34m[\u001b[0m\u001b[0;34m]\u001b[0m\u001b[0;34m\u001b[0m\u001b[0;34m\u001b[0m\u001b[0m\n\u001b[0;32m---> 10\u001b[0;31m \u001b[0mTrials_Predicted\u001b[0m \u001b[0;34m=\u001b[0m \u001b[0mTrial_Based_Accuracy\u001b[0m\u001b[0;34m(\u001b[0m\u001b[0mTrials_Num\u001b[0m\u001b[0;34m,\u001b[0m\u001b[0mTrials_Data_HoldOut\u001b[0m\u001b[0;34m,\u001b[0m\u001b[0mTrials_Sizes\u001b[0m\u001b[0;34m,\u001b[0m\u001b[0mTarget\u001b[0m\u001b[0;34m,\u001b[0m\u001b[0mAll_Predicted\u001b[0m\u001b[0;34m,\u001b[0m\u001b[0mTrials_Predicted\u001b[0m\u001b[0;34m)\u001b[0m\u001b[0;34m\u001b[0m\u001b[0;34m\u001b[0m\u001b[0m\n\u001b[0m\u001b[1;32m     11\u001b[0m \u001b[0mTrials_Predicted1\u001b[0m \u001b[0;34m=\u001b[0m \u001b[0mTrials_Predicted\u001b[0m\u001b[0;34m\u001b[0m\u001b[0;34m\u001b[0m\u001b[0m\n\u001b[1;32m     12\u001b[0m \u001b[0mTrials_Predicted\u001b[0m\u001b[0;34m.\u001b[0m\u001b[0mcount\u001b[0m\u001b[0;34m(\u001b[0m\u001b[0;36m0\u001b[0m\u001b[0;34m)\u001b[0m\u001b[0;34m/\u001b[0m\u001b[0mlen\u001b[0m\u001b[0;34m(\u001b[0m\u001b[0mTrials_Predicted\u001b[0m\u001b[0;34m)\u001b[0m\u001b[0;34m*\u001b[0m\u001b[0;36m100\u001b[0m\u001b[0;34m\u001b[0m\u001b[0;34m\u001b[0m\u001b[0m\n",
      "\u001b[0;32m<ipython-input-843-bc2d481a7b20>\u001b[0m in \u001b[0;36mTrial_Based_Accuracy\u001b[0;34m(Trials_Num, Trials_Data_HoldOut, Trials_Sizes, Target, All_Predicted, Trials_Predicted)\u001b[0m\n\u001b[1;32m     14\u001b[0m \u001b[0;34m\u001b[0m\u001b[0m\n\u001b[1;32m     15\u001b[0m             \u001b[0;32mfor\u001b[0m \u001b[0mimages\u001b[0m\u001b[0;34m,\u001b[0m \u001b[0mlabels\u001b[0m \u001b[0;32min\u001b[0m \u001b[0mHoldOutData_Set\u001b[0m\u001b[0;34m:\u001b[0m\u001b[0;34m\u001b[0m\u001b[0;34m\u001b[0m\u001b[0m\n\u001b[0;32m---> 16\u001b[0;31m                 \u001b[0mimages\u001b[0m \u001b[0;34m=\u001b[0m \u001b[0mimages\u001b[0m\u001b[0;34m.\u001b[0m\u001b[0mreshape\u001b[0m\u001b[0;34m(\u001b[0m\u001b[0;34m-\u001b[0m\u001b[0;36m1\u001b[0m\u001b[0;34m,\u001b[0m \u001b[0msequence_length\u001b[0m\u001b[0;34m,\u001b[0m \u001b[0minput_size\u001b[0m\u001b[0;34m)\u001b[0m\u001b[0;34m.\u001b[0m\u001b[0mto\u001b[0m\u001b[0;34m(\u001b[0m\u001b[0mdevice\u001b[0m\u001b[0;34m)\u001b[0m\u001b[0;34m\u001b[0m\u001b[0;34m\u001b[0m\u001b[0m\n\u001b[0m\u001b[1;32m     17\u001b[0m                 \u001b[0mimages\u001b[0m \u001b[0;34m=\u001b[0m \u001b[0mimages\u001b[0m\u001b[0;34m.\u001b[0m\u001b[0mto\u001b[0m\u001b[0;34m(\u001b[0m\u001b[0mtorch\u001b[0m\u001b[0;34m.\u001b[0m\u001b[0mfloat\u001b[0m\u001b[0;34m)\u001b[0m\u001b[0;34m\u001b[0m\u001b[0;34m\u001b[0m\u001b[0m\n\u001b[1;32m     18\u001b[0m                 \u001b[0moutputs\u001b[0m \u001b[0;34m=\u001b[0m \u001b[0mmodel\u001b[0m\u001b[0;34m(\u001b[0m\u001b[0mimages\u001b[0m\u001b[0;34m)\u001b[0m\u001b[0;34m\u001b[0m\u001b[0;34m\u001b[0m\u001b[0m\n",
      "\u001b[0;31mAttributeError\u001b[0m: 'numpy.ndarray' object has no attribute 'to'"
     ]
    }
   ],
   "source": [
    "# for target one\n",
    "Trials_Num = len(Trials_Size_T1_HoldOut)\n",
    "Trials_Data_HoldOut = Data_T1_HoldOut_torch\n",
    "#Trials_Sizes = np.concatenate((np.array([0]),Trials_Size_T1_HoldOut))\n",
    "Trials_Sizes = np.concatenate((np.array([0]),Click_BinNum_T1_HoldOut))\n",
    "\n",
    "Target = torch.tensor(0)\n",
    "All_Predicted = []\n",
    "Trials_Predicted = []\n",
    "Trials_Predicted = Trial_Based_Accuracy(Trials_Num,Trials_Data_HoldOut,Trials_Sizes,Target,All_Predicted,Trials_Predicted)\n",
    "Trials_Predicted1 = Trials_Predicted\n",
    "Trials_Predicted.count(0)/len(Trials_Predicted)*100"
   ]
  },
  {
   "cell_type": "code",
   "execution_count": 794,
   "id": "experimental-hardwood",
   "metadata": {},
   "outputs": [
    {
     "data": {
      "text/plain": [
       "55"
      ]
     },
     "execution_count": 794,
     "metadata": {},
     "output_type": "execute_result"
    }
   ],
   "source": []
  },
  {
   "cell_type": "code",
   "execution_count": null,
   "id": "million-scientist",
   "metadata": {},
   "outputs": [],
   "source": []
  },
  {
   "cell_type": "code",
   "execution_count": 837,
   "id": "arranged-wells",
   "metadata": {},
   "outputs": [
    {
     "ename": "AttributeError",
     "evalue": "'numpy.ndarray' object has no attribute 'to'",
     "output_type": "error",
     "traceback": [
      "\u001b[0;31m---------------------------------------------------------------------------\u001b[0m",
      "\u001b[0;31mAttributeError\u001b[0m                            Traceback (most recent call last)",
      "\u001b[0;32m<ipython-input-837-28f0e18b44b8>\u001b[0m in \u001b[0;36m<module>\u001b[0;34m\u001b[0m\n\u001b[1;32m      7\u001b[0m \u001b[0mAll_Predicted\u001b[0m \u001b[0;34m=\u001b[0m \u001b[0;34m[\u001b[0m\u001b[0;34m]\u001b[0m\u001b[0;34m\u001b[0m\u001b[0;34m\u001b[0m\u001b[0m\n\u001b[1;32m      8\u001b[0m \u001b[0mTrials_Predicted\u001b[0m \u001b[0;34m=\u001b[0m \u001b[0;34m[\u001b[0m\u001b[0;34m]\u001b[0m\u001b[0;34m\u001b[0m\u001b[0;34m\u001b[0m\u001b[0m\n\u001b[0;32m----> 9\u001b[0;31m \u001b[0mTrials_Predicted\u001b[0m \u001b[0;34m=\u001b[0m \u001b[0mTrial_Based_Accuracy\u001b[0m\u001b[0;34m(\u001b[0m\u001b[0mTrials_Num\u001b[0m\u001b[0;34m,\u001b[0m\u001b[0mTrials_Data_HoldOut\u001b[0m\u001b[0;34m,\u001b[0m\u001b[0mTrials_Sizes\u001b[0m\u001b[0;34m,\u001b[0m\u001b[0mTarget\u001b[0m\u001b[0;34m,\u001b[0m\u001b[0mAll_Predicted\u001b[0m\u001b[0;34m,\u001b[0m\u001b[0mTrials_Predicted\u001b[0m\u001b[0;34m)\u001b[0m\u001b[0;34m\u001b[0m\u001b[0;34m\u001b[0m\u001b[0m\n\u001b[0m\u001b[1;32m     10\u001b[0m \u001b[0mTrials_Predicted2\u001b[0m \u001b[0;34m=\u001b[0m \u001b[0mTrials_Predicted\u001b[0m\u001b[0;34m\u001b[0m\u001b[0;34m\u001b[0m\u001b[0m\n\u001b[1;32m     11\u001b[0m \u001b[0mTrials_Predicted\u001b[0m\u001b[0;34m.\u001b[0m\u001b[0mcount\u001b[0m\u001b[0;34m(\u001b[0m\u001b[0;36m1\u001b[0m\u001b[0;34m)\u001b[0m\u001b[0;34m/\u001b[0m\u001b[0mlen\u001b[0m\u001b[0;34m(\u001b[0m\u001b[0mTrials_Predicted\u001b[0m\u001b[0;34m)\u001b[0m\u001b[0;34m*\u001b[0m\u001b[0;36m100\u001b[0m\u001b[0;34m\u001b[0m\u001b[0;34m\u001b[0m\u001b[0m\n",
      "\u001b[0;32m<ipython-input-835-bc2d481a7b20>\u001b[0m in \u001b[0;36mTrial_Based_Accuracy\u001b[0;34m(Trials_Num, Trials_Data_HoldOut, Trials_Sizes, Target, All_Predicted, Trials_Predicted)\u001b[0m\n\u001b[1;32m     14\u001b[0m \u001b[0;34m\u001b[0m\u001b[0m\n\u001b[1;32m     15\u001b[0m             \u001b[0;32mfor\u001b[0m \u001b[0mimages\u001b[0m\u001b[0;34m,\u001b[0m \u001b[0mlabels\u001b[0m \u001b[0;32min\u001b[0m \u001b[0mHoldOutData_Set\u001b[0m\u001b[0;34m:\u001b[0m\u001b[0;34m\u001b[0m\u001b[0;34m\u001b[0m\u001b[0m\n\u001b[0;32m---> 16\u001b[0;31m                 \u001b[0mimages\u001b[0m \u001b[0;34m=\u001b[0m \u001b[0mimages\u001b[0m\u001b[0;34m.\u001b[0m\u001b[0mreshape\u001b[0m\u001b[0;34m(\u001b[0m\u001b[0;34m-\u001b[0m\u001b[0;36m1\u001b[0m\u001b[0;34m,\u001b[0m \u001b[0msequence_length\u001b[0m\u001b[0;34m,\u001b[0m \u001b[0minput_size\u001b[0m\u001b[0;34m)\u001b[0m\u001b[0;34m.\u001b[0m\u001b[0mto\u001b[0m\u001b[0;34m(\u001b[0m\u001b[0mdevice\u001b[0m\u001b[0;34m)\u001b[0m\u001b[0;34m\u001b[0m\u001b[0;34m\u001b[0m\u001b[0m\n\u001b[0m\u001b[1;32m     17\u001b[0m                 \u001b[0mimages\u001b[0m \u001b[0;34m=\u001b[0m \u001b[0mimages\u001b[0m\u001b[0;34m.\u001b[0m\u001b[0mto\u001b[0m\u001b[0;34m(\u001b[0m\u001b[0mtorch\u001b[0m\u001b[0;34m.\u001b[0m\u001b[0mfloat\u001b[0m\u001b[0;34m)\u001b[0m\u001b[0;34m\u001b[0m\u001b[0;34m\u001b[0m\u001b[0m\n\u001b[1;32m     18\u001b[0m                 \u001b[0moutputs\u001b[0m \u001b[0;34m=\u001b[0m \u001b[0mmodel\u001b[0m\u001b[0;34m(\u001b[0m\u001b[0mimages\u001b[0m\u001b[0;34m)\u001b[0m\u001b[0;34m\u001b[0m\u001b[0;34m\u001b[0m\u001b[0m\n",
      "\u001b[0;31mAttributeError\u001b[0m: 'numpy.ndarray' object has no attribute 'to'"
     ]
    }
   ],
   "source": [
    "# for target two\n",
    "Trials_Num = len(Trials_Size_T2_HoldOut)\n",
    "Trials_Data_HoldOut = Data_T2_HoldOut_torch\n",
    "#Trials_Sizes = np.concatenate((np.array([0]),Trials_Size_T2_HoldOut))\n",
    "Trials_Sizes = np.concatenate((np.array([0]),Click_BinNum_T2_HoldOut))\n",
    "Target = torch.tensor(1)\n",
    "All_Predicted = []\n",
    "Trials_Predicted = []\n",
    "Trials_Predicted = Trial_Based_Accuracy(Trials_Num,Trials_Data_HoldOut,Trials_Sizes,Target,All_Predicted,Trials_Predicted)\n",
    "Trials_Predicted2 = Trials_Predicted\n",
    "Trials_Predicted.count(1)/len(Trials_Predicted)*100\n",
    "\n"
   ]
  },
  {
   "cell_type": "code",
   "execution_count": 796,
   "id": "adjusted-paraguay",
   "metadata": {},
   "outputs": [
    {
     "data": {
      "text/plain": [
       "51.28205128205128"
      ]
     },
     "execution_count": 796,
     "metadata": {},
     "output_type": "execute_result"
    }
   ],
   "source": [
    "# for target three\n",
    "Trials_Num = len(Trials_Size_T3_HoldOut)\n",
    "Trials_Data_HoldOut = Data_T3_HoldOut_torch\n",
    "#Trials_Sizes = np.concatenate((np.array([0]),Trials_Size_T3_HoldOut))\n",
    "Trials_Sizes = np.concatenate((np.array([0]),Click_BinNum_T3_HoldOut))\n",
    "Target = torch.tensor(2)\n",
    "All_Predicted = []\n",
    "Trials_Predicted = []\n",
    "Trials_Predicted = Trial_Based_Accuracy(Trials_Num,Trials_Data_HoldOut,Trials_Sizes,Target,All_Predicted,Trials_Predicted)\n",
    "Trials_Predicted3 = Trials_Predicted\n",
    "Trials_Predicted.count(2)/len(Trials_Predicted)*100"
   ]
  },
  {
   "cell_type": "code",
   "execution_count": 797,
   "id": "elementary-apache",
   "metadata": {},
   "outputs": [
    {
     "data": {
      "text/plain": [
       "64.70588235294117"
      ]
     },
     "execution_count": 797,
     "metadata": {},
     "output_type": "execute_result"
    }
   ],
   "source": [
    "# for target four\n",
    "Trials_Num = len(Trials_Size_T4_HoldOut)\n",
    "Trials_Data_HoldOut = Data_T4_HoldOut_torch\n",
    "#Trials_Sizes = np.concatenate((np.array([0]),Trials_Size_T4_HoldOut))\n",
    "Trials_Sizes = np.concatenate((np.array([0]),Click_BinNum_T4_HoldOut))\n",
    "Target = torch.tensor(3)\n",
    "All_Predicted = []\n",
    "Trials_Predicted = []\n",
    "Trials_Predicted = Trial_Based_Accuracy(Trials_Num,Trials_Data_HoldOut,Trials_Sizes,Target,All_Predicted,Trials_Predicted)\n",
    "Trials_Predicted4 = Trials_Predicted\n",
    "Trials_Predicted.count(3)/len(Trials_Predicted)*100"
   ]
  },
  {
   "cell_type": "code",
   "execution_count": 798,
   "id": "unnecessary-sheep",
   "metadata": {},
   "outputs": [],
   "source": [
    "y_true = len(Trials_Predicted1)*[0] + len(Trials_Predicted2)*[1] + len(Trials_Predicted3)*[2] + len(Trials_Predicted4)*[3]\n",
    "y_pred = Trials_Predicted1 + Trials_Predicted2 + Trials_Predicted3 + Trials_Predicted4 "
   ]
  },
  {
   "cell_type": "code",
   "execution_count": 799,
   "id": "abstract-python",
   "metadata": {},
   "outputs": [
    {
     "name": "stdout",
     "output_type": "stream",
     "text": [
      "[[32  0 14  0]\n",
      " [ 0 39  0  0]\n",
      " [ 0 19 20  0]\n",
      " [ 0 18  0 33]]\n"
     ]
    }
   ],
   "source": [
    "# confusion matrix\n",
    "from sklearn.metrics import confusion_matrix\n",
    "#from sklearn.metrics import plot_confusion_matrix\n",
    "\n",
    "CM1 = confusion_matrix(y_true, y_pred)\n",
    "print(CM1)\n",
    "CM2 = np.zeros((4,4))\n",
    "for i in range(4):\n",
    "    for j in range(4):\n",
    "        CM2[i][j] = CM1[i][j]/sum(CM1[i,:])*100\n",
    "\n"
   ]
  },
  {
   "cell_type": "code",
   "execution_count": null,
   "id": "delayed-storage",
   "metadata": {},
   "outputs": [],
   "source": []
  },
  {
   "cell_type": "code",
   "execution_count": 800,
   "id": "legislative-narrow",
   "metadata": {},
   "outputs": [
    {
     "data": {
      "image/png": "[encoded data removed]",
      "text/plain": [
       "<Figure size 432x288 with 2 Axes>"
      ]
     },
     "metadata": {
      "needs_background": "light"
     },
     "output_type": "display_data"
    }
   ],
   "source": [
    "import seaborn as sns\n",
    "ax = sns.heatmap(CM2, annot=True)\n",
    "plt.savefig('./CVAcrossDays/3Fe_3bin_TestOn_Day07.png')"
   ]
  },
  {
   "cell_type": "code",
   "execution_count": null,
   "id": "descending-quarterly",
   "metadata": {},
   "outputs": [],
   "source": []
  },
  {
   "cell_type": "code",
   "execution_count": null,
   "id": "sapphire-panel",
   "metadata": {},
   "outputs": [],
   "source": []
  },
  {
   "cell_type": "code",
   "execution_count": null,
   "id": "viral-tsunami",
   "metadata": {},
   "outputs": [],
   "source": []
  }
 ],
 "metadata": {
  "kernelspec": {
   "display_name": "ECoGControl_RNN",
   "language": "python",
   "name": "ecogcontrol_rnn"
  },
  "language_info": {
   "codemirror_mode": {
    "name": "ipython",
    "version": 3
   },
   "file_extension": ".py",
   "mimetype": "text/x-python",
   "name": "python",
   "nbconvert_exporter": "python",
   "pygments_lexer": "ipython3",
   "version": "3.7.3"
  }
 },
 "nbformat": 4,
 "nbformat_minor": 5
}
