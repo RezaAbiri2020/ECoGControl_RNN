{
 "cells": [
  {
   "cell_type": "markdown",
   "metadata": {},
   "source": [
    "# description: running a LSTM model for classification of 4 targets in B1 "
   ]
  },
  {
   "cell_type": "code",
   "execution_count": 5,
   "metadata": {},
   "outputs": [],
   "source": [
    "# loading the library\n",
    "import numpy as np\n",
    "import os\n",
    "import os.path\n",
    "import scipy.io\n",
    "from scipy.io import loadmat\n",
    "import hdf5storage as hdf5s\n",
    "import h5py\n"
   ]
  },
  {
   "cell_type": "code",
   "execution_count": 7,
   "metadata": {},
   "outputs": [
    {
     "name": "stdout",
     "output_type": "stream",
     "text": [
      "Session:134342\n",
      "Trial: 1\n",
      "Trial: 2\n"
     ]
    },
    {
     "name": "stderr",
     "output_type": "stream",
     "text": [
      "/home/reza/anaconda3/envs/ECoGControl_RNN/lib/python3.7/site-packages/ipykernel_launcher.py:194: H5pyDeprecationWarning: The default file mode will change to 'r' (read-only) in h5py 3.0. To suppress this warning, pass the mode you need to h5py.File(), or set the global default h5.get_config().default_file_mode, or set the environment variable H5PY_DEFAULT_READONLY=1. Available modes are: 'r', 'r+', 'w', 'w-'/'x', 'a'. See the docs for details.\n"
     ]
    },
    {
     "name": "stdout",
     "output_type": "stream",
     "text": [
      "Trial: 3\n",
      "Trial: 4\n",
      "Trial: 5\n",
      "Trial: 6\n",
      "Trial: 7\n",
      "Trial: 8\n",
      "Session:134836\n",
      "Trial: 1\n",
      "Trial: 2\n",
      "Trial: 3\n",
      "Trial: 4\n",
      "Trial: 5\n",
      "Trial: 6\n",
      "Trial: 7\n",
      "Trial: 8\n",
      "Trial: 9\n",
      "Trial: 10\n",
      "Trial: 11\n",
      "Trial: 12\n",
      "Trial: 13\n",
      "Trial: 14\n",
      "Trial: 15\n",
      "Trial: 16\n",
      "Trial: 17\n",
      "Trial: 18\n",
      "Trial: 19\n",
      "Trial: 20\n",
      "Trial: 21\n",
      "Trial: 22\n",
      "Trial: 23\n",
      "Trial: 24\n",
      "Trial: 25\n",
      "Trial: 26\n",
      "Trial: 27\n",
      "Trial: 28\n",
      "Trial: 29\n",
      "Trial: 30\n",
      "Session:135450\n",
      "Trial: 1\n",
      "Trial: 2\n",
      "Trial: 3\n",
      "Trial: 4\n",
      "Trial: 5\n",
      "Trial: 6\n",
      "Trial: 7\n",
      "Trial: 8\n",
      "Trial: 9\n",
      "Trial: 10\n",
      "Trial: 11\n",
      "Trial: 12\n",
      "Trial: 13\n",
      "Trial: 14\n",
      "Trial: 15\n",
      "Trial: 16\n",
      "Trial: 17\n",
      "Trial: 18\n",
      "Trial: 19\n",
      "Trial: 20\n",
      "Trial: 21\n",
      "Trial: 22\n",
      "Trial: 23\n",
      "Trial: 24\n",
      "Trial: 25\n",
      "Trial: 26\n",
      "Trial: 27\n",
      "Trial: 28\n",
      "Trial: 29\n",
      "Trial: 30\n",
      "Session:135947\n",
      "Trial: 1\n",
      "Trial: 2\n",
      "Trial: 3\n",
      "Trial: 4\n",
      "Trial: 5\n",
      "Trial: 6\n",
      "Trial: 7\n",
      "Trial: 8\n",
      "Trial: 9\n",
      "Trial: 10\n",
      "Trial: 11\n",
      "Trial: 12\n",
      "Trial: 13\n",
      "Trial: 14\n",
      "Trial: 15\n",
      "Trial: 16\n",
      "Trial: 17\n",
      "Trial: 18\n",
      "Trial: 19\n",
      "Trial: 20\n",
      "Trial: 21\n",
      "Trial: 22\n",
      "Trial: 23\n",
      "Trial: 24\n",
      "Trial: 25\n",
      "Trial: 26\n",
      "Trial: 27\n",
      "Trial: 28\n",
      "End of Running Section\n"
     ]
    }
   ],
   "source": [
    "\n",
    "# Experiment info \n",
    "# loading the imagined data\n",
    "\n",
    "# initilize the values\n",
    "class structtype():\n",
    "    pass\n",
    "\n",
    "ExptDays = list(['20201002','20201009','20201016','20201030','20201113','20201117','20201118','20201125','20201211'])\n",
    "NumDay = len(ExptDays);\n",
    "SessionDay = [ structtype() for i in range(NumDay)]\n",
    "SessionDay[0].hhmmss = list(['145058','145910','150443','151528','152108'])\n",
    "SessionDay[1].hhmmss = list(['134342','134836','135450','135947'])\n",
    "SessionDay[2].hhmmss = list(['142924','144138','144924'])\n",
    "SessionDay[3].hhmmss = list(['133902','134541','134838','141625','142426'])\n",
    "SessionDay[4].hhmmss = list(['134350','135330','135938','140554'])\n",
    "SessionDay[5].hhmmss = list(['111747','112508','113040','141009'])\n",
    "SessionDay[6].hhmmss = list(['140255','140540'])\n",
    "SessionDay[7].hhmmss = list(['105228','111217','112507','112711','113526','114108','143218','143824'])\n",
    "SessionDay[8].hhmmss = list(['114458','114725'])\n",
    "\n",
    "# for reading mat file from matlab\n",
    "# it is easier to use class for further extracting necessary params or data\n",
    "class MatFileAnalyzer():\n",
    "    \n",
    "    # first mandatory method; constructor\n",
    "    def __init__(self,Mat_data):\n",
    "        self.Fs = Mat_data['TrialData']['Params']['Fs'][0][0]\n",
    "        self.UpdateRate = Mat_data['TrialData']['Params']['UpdateRate'][0][0]\n",
    "        self.TargetID = Mat_data['TrialData']['TargetID'][0][0]\n",
    "        self.SelectedTargetID = Mat_data['TrialData']['SelectedTargetID'][0][0]\n",
    "        self.MaxReachTime = Mat_data['TrialData']['Params']['MaxReachTime'][0][0]\n",
    "        self.Click_BinNum = Mat_data['TrialData']['Params']['ClickCounter'][0][0]\n",
    "        \n",
    "    def ECoG_Raw(self):\n",
    "\n",
    "        Signals = Mat_data['TrialData']['BroadbandData']\n",
    "        BinNum = Signals.shape[0]\n",
    "        ECoGData = np.empty((0,128), dtype=float)\n",
    "        for i in range(BinNum):\n",
    "            Bin = Mat_data['TrialData']['BroadbandData'][i][0]\n",
    "            BinName = h5py.h5r.get_name(Bin, Mat_data.id)\n",
    "            BinInfo = Mat_data[BinName] \n",
    "            BinData = BinInfo[:,:]\n",
    "            ECoGData = np.concatenate((ECoGData, BinData.T), axis=0)\n",
    "\n",
    "        return ECoGData\n",
    "    \n",
    "    \n",
    "    def ECoG_Raw_Trial(self):\n",
    "        \n",
    "        Signals = Mat_data['TrialData']['BroadbandData']\n",
    "        BinNum = Signals.shape[0]\n",
    "        ECoGData_Trial = np.empty((0,128), dtype=float)\n",
    "        \n",
    "        if ExptDays[Day] == '20201002':\n",
    "        \n",
    "            for i in range(BinNum-int(self.Click_BinNum),BinNum,1):\n",
    "                Bin = Mat_data['TrialData']['BroadbandData'][i][0]\n",
    "                BinName = h5py.h5r.get_name(Bin, Mat_data.id)\n",
    "                BinInfo = Mat_data[BinName] \n",
    "                BinData = BinInfo[:,:]\n",
    "                ECoGData_Trial = np.concatenate((ECoGData_Trial, BinData.T), axis=0)\n",
    "\n",
    "            return ECoGData_Trial\n",
    "        \n",
    "        else:\n",
    "                        \n",
    "            BinControl = [] \n",
    "            for i in range(BinNum):\n",
    "                if Mat_data['TrialData']['TaskState'][i][0] == 3:\n",
    "                    BinControl.append(i)\n",
    "             \n",
    "            for j in BinControl[-int(TrialData.Click_BinNum):]:\n",
    "                if ExptDays[Day] == '20201009':\n",
    "                    j=j-1\n",
    "                    \n",
    "                Bin = Mat_data['TrialData']['BroadbandData'][j][0]\n",
    "                BinName = h5py.h5r.get_name(Bin, Mat_data.id)\n",
    "                BinInfo = Mat_data[BinName] \n",
    "                BinData = BinInfo[:,:]\n",
    "                ECoGData_Trial = np.concatenate((ECoGData_Trial, BinData.T), axis=0)\n",
    "                \n",
    "            return ECoGData_Trial\n",
    "        \n",
    "    \n",
    "    def Features_All(self):\n",
    "        \n",
    "        Features = Mat_data['TrialData']['NeuralFeatures']\n",
    "        BinNum = Features.shape[0]\n",
    "        NeuralFeatures = np.empty((0,896), dtype=float)\n",
    "        \n",
    "        if ExptDays[Day] == '20201002':\n",
    "            \n",
    "            for i in range(BinNum-int(self.Click_BinNum),BinNum,1):\n",
    "                Bin = Mat_data['TrialData']['NeuralFeatures'][i][0]\n",
    "                BinName = h5py.h5r.get_name(Bin, Mat_data.id)\n",
    "                BinInfo = Mat_data[BinName] \n",
    "                BinData = BinInfo[:,:]\n",
    "                NeuralFeatures = np.concatenate((NeuralFeatures, BinData), axis=0)\n",
    "                \n",
    "            return NeuralFeatures\n",
    "        \n",
    "        else:\n",
    "                        \n",
    "            BinControl = [] \n",
    "            for i in range(BinNum):\n",
    "                if Mat_data['TrialData']['TaskState'][i][0] == 3:\n",
    "                    BinControl.append(i)\n",
    "             \n",
    "            for j in BinControl[-int(TrialData.Click_BinNum):]:\n",
    "                if ExptDays[Day] == '20201009':\n",
    "                    j=j-1\n",
    "                    \n",
    "                Bin = Mat_data['TrialData']['NeuralFeatures'][j][0]\n",
    "                BinName = h5py.h5r.get_name(Bin, Mat_data.id)\n",
    "                BinInfo = Mat_data[BinName] \n",
    "                BinData = BinInfo[:,:]\n",
    "                NeuralFeatures = np.concatenate((NeuralFeatures, BinData), axis=0)\n",
    "                \n",
    "            return NeuralFeatures\n",
    "        \n",
    "    def SmoothedFeatures_All(self):\n",
    "        \n",
    "        Features = Mat_data['TrialData']['SmoothedNeuralFeatures']\n",
    "        BinNum = Features.shape[0]\n",
    "        SmoothedNeuralFeatures = np.empty((0,896), dtype=float)\n",
    "                  \n",
    "        BinControl = [] \n",
    "        for i in range(BinNum):\n",
    "            if Mat_data['TrialData']['TaskState'][i][0] == 3:\n",
    "                BinControl.append(i)\n",
    "\n",
    "        for j in BinControl[-int(TrialData.Click_BinNum):]:\n",
    "            if ExptDays[Day] == '20201009':\n",
    "                j=j-1\n",
    "\n",
    "            Bin = Mat_data['TrialData']['SmoothedNeuralFeatures'][j][0]\n",
    "            BinName = h5py.h5r.get_name(Bin, Mat_data.id)\n",
    "            BinInfo = Mat_data[BinName] \n",
    "            BinData = BinInfo[:,:]\n",
    "            SmoothedNeuralFeatures = np.concatenate((SmoothedNeuralFeatures, BinData), axis=0)\n",
    "\n",
    "        return SmoothedNeuralFeatures   \n",
    "\n",
    "\n",
    "Trials_T1 = np.empty((0,896), dtype=float)\n",
    "Trials_T2 = np.empty((0,896), dtype=float)\n",
    "Trials_T3 = np.empty((0,896), dtype=float)\n",
    "Trials_T4 = np.empty((0,896), dtype=float)\n",
    "\n",
    "Trials_Raw_T1 = np.empty((0,128), dtype=float)\n",
    "Trials_Raw_T2 = np.empty((0,128), dtype=float)\n",
    "Trials_Raw_T3 = np.empty((0,128), dtype=float)\n",
    "Trials_Raw_T4 = np.empty((0,128), dtype=float)\n",
    "\n",
    "\n",
    "# numnber of censequative bins for making correct selections\n",
    "Click_BinNum_T1 = []\n",
    "Click_BinNum_T2 = []\n",
    "Click_BinNum_T3 = []\n",
    "Click_BinNum_T4 = []\n",
    "\n",
    "Day_NumTrial_T1 = []\n",
    "Day_NumTrial_T2 = []\n",
    "Day_NumTrial_T3 = []\n",
    "Day_NumTrial_T4 = []\n",
    "\n",
    "\n",
    "# loading the day/block/session data from the location\n",
    "# day 0 does not have SmoothedNeuralFeatures\n",
    "# day 6 the performance was not good\n",
    "for Day in [1]:#in [ 1, 2, 3, 4, 5, 6, 7, 8]:\n",
    "    ID1 = 0;\n",
    "    ID2 = 0;\n",
    "    ID3 = 0;\n",
    "    ID4 = 0;\n",
    "\n",
    "    for Se in range (len(SessionDay[Day].hhmmss)):\n",
    "\n",
    "        print('Session:'+ SessionDay[Day].hhmmss[Se])\n",
    "        # in windows\n",
    "        if ExptDays[Day] in ['20201002','20201009']:\n",
    "            DataPath =os.path.join('/media/reza/WindowsDrive/BRAVO1','CursorPlatform','Data',ExptDays[Day],'GangulyServer',ExptDays[Day],'RadialTask',SessionDay[Day].hhmmss[Se],'BCI_Fixed')\n",
    "        \n",
    "        else:\n",
    "            DataPath =os.path.join('/media/reza/WindowsDrive/BRAVO1','CursorPlatform','Data',ExptDays[Day],'GangulyServer',ExptDays[Day],'DiscreteArrow',SessionDay[Day].hhmmss[Se],'BCI_Fixed')\n",
    "        \n",
    "        datadir = os.listdir(DataPath)\n",
    "\n",
    "        # loading the trials\n",
    "        for k in range(len(datadir)):\n",
    "\n",
    "            print('Trial:',k+1)\n",
    "            Mat_data = h5py.File(DataPath+'/'+datadir[k])\n",
    "            TrialData = MatFileAnalyzer(Mat_data)\n",
    "            ECoG1 = TrialData.ECoG_Raw()\n",
    "            Fs = TrialData.Fs\n",
    "            LenSignal = ECoG1.shape[0]\n",
    "            MaxReachTime = TrialData.MaxReachTime\n",
    "\n",
    "            # to find successful trials\n",
    "            if ExptDays[Day] == '20201002' and ((LenSignal/Fs) < (MaxReachTime)):\n",
    "                #print(True)\n",
    "                NeuralFeatures = TrialData.Features_All()\n",
    "                ECoGData_Trial = TrialData.ECoG_Raw_Trial()\n",
    "\n",
    "                if TrialData.TargetID == 1:\n",
    "                    ID1 = ID1+1                   \n",
    "                    Trials_T1 = np.append(Trials_T1, NeuralFeatures, axis=0)\n",
    "                    Trials_Raw_T1 = np.append(Trials_Raw_T1, ECoGData_Trial, axis=0) \n",
    "\n",
    "                elif TrialData.TargetID == 2:\n",
    "                    ID2 = ID2+1\n",
    "                    Trials_T2 = np.append(Trials_T2,NeuralFeatures, axis=0)\n",
    "                    Trials_Raw_T2 = np.append(Trials_Raw_T2, ECoGData_Trial, axis=0) \n",
    "\n",
    "                elif TrialData.TargetID == 3:\n",
    "                    ID3 = ID3+1\n",
    "                    Trials_T3 = np.append(Trials_T3, NeuralFeatures, axis=0)\n",
    "                    Trials_Raw_T3 = np.append(Trials_Raw_T3, ECoGData_Trial, axis=0) \n",
    "\n",
    "                elif TrialData.TargetID == 4:\n",
    "                    ID4 = ID4+1\n",
    "                    Trials_T4 = np.append(Trials_T4, NeuralFeatures, axis=0)\n",
    "                    Trials_Raw_T4 = np.append(Trials_Raw_T4, ECoGData_Trial, axis=0) \n",
    "\n",
    "            elif ExptDays[Day] != '20201002' and TrialData.SelectedTargetID == TrialData.TargetID:\n",
    "                #print(True)\n",
    "                NeuralFeatures = TrialData.Features_All()\n",
    "                SmoothedNeuralFeatures = TrialData.SmoothedFeatures_All()\n",
    "                ECoGData_Trial = TrialData.ECoG_Raw_Trial()\n",
    "                \n",
    "                if TrialData.TargetID == 1:\n",
    "                    ID1 = ID1+1                   \n",
    "                    Trials_T1 = np.append(Trials_T1, SmoothedNeuralFeatures, axis=0)\n",
    "                    Click_BinNum_T1.append(TrialData.Click_BinNum)\n",
    "                    Trials_Raw_T1 = np.append(Trials_Raw_T1, ECoGData_Trial, axis=0) \n",
    "\n",
    "                elif TrialData.TargetID == 2:\n",
    "                    ID2 = ID2+1\n",
    "                    Trials_T2 = np.append(Trials_T2, SmoothedNeuralFeatures, axis=0)\n",
    "                    Click_BinNum_T2.append(TrialData.Click_BinNum)\n",
    "                    Trials_Raw_T2 = np.append(Trials_Raw_T2, ECoGData_Trial, axis=0) \n",
    "\n",
    "                elif TrialData.TargetID == 3:\n",
    "                    ID3 = ID3+1\n",
    "                    Trials_T3 = np.append(Trials_T3, SmoothedNeuralFeatures, axis=0)\n",
    "                    Click_BinNum_T3.append(TrialData.Click_BinNum)\n",
    "                    Trials_Raw_T3 = np.append(Trials_Raw_T3, ECoGData_Trial, axis=0) \n",
    "\n",
    "                elif TrialData.TargetID == 4:\n",
    "                    ID4 = ID4+1\n",
    "                    Trials_T4 = np.append(Trials_T4, SmoothedNeuralFeatures, axis=0)\n",
    "                    Click_BinNum_T4.append(TrialData.Click_BinNum)\n",
    "                    Trials_Raw_T4 = np.append(Trials_Raw_T4, ECoGData_Trial, axis=0) \n",
    "                    \n",
    "    Day_NumTrial_T1.append(ID1)\n",
    "    Day_NumTrial_T2.append(ID2)\n",
    "    Day_NumTrial_T3.append(ID3)\n",
    "    Day_NumTrial_T4.append(ID4)\n",
    "    \n",
    "\n",
    "print('End of Running Section')  \n",
    "\n",
    "             "
   ]
  },
  {
   "cell_type": "code",
   "execution_count": 8,
   "metadata": {},
   "outputs": [
    {
     "data": {
      "text/plain": [
       "(112, 896)"
      ]
     },
     "execution_count": 8,
     "metadata": {},
     "output_type": "execute_result"
    }
   ],
   "source": [
    "Trials_T4.shape"
   ]
  },
  {
   "cell_type": "code",
   "execution_count": 9,
   "metadata": {},
   "outputs": [
    {
     "data": {
      "text/plain": [
       "[28]"
      ]
     },
     "execution_count": 9,
     "metadata": {},
     "output_type": "execute_result"
    }
   ],
   "source": [
    "Day_NumTrial_T4"
   ]
  },
  {
   "cell_type": "code",
   "execution_count": 10,
   "metadata": {},
   "outputs": [
    {
     "data": {
      "text/plain": [
       "(21553, 128)"
      ]
     },
     "execution_count": 10,
     "metadata": {},
     "output_type": "execute_result"
    }
   ],
   "source": [
    " Trials_Raw_T3.shape"
   ]
  },
  {
   "cell_type": "code",
   "execution_count": 11,
   "metadata": {},
   "outputs": [
    {
     "data": {
      "text/plain": [
       "numpy.ndarray"
      ]
     },
     "execution_count": 11,
     "metadata": {},
     "output_type": "execute_result"
    }
   ],
   "source": [
    "type(Trials_Raw_T4)"
   ]
  },
  {
   "cell_type": "code",
   "execution_count": 12,
   "metadata": {},
   "outputs": [],
   "source": [
    "import torch"
   ]
  },
  {
   "cell_type": "code",
   "execution_count": 13,
   "metadata": {},
   "outputs": [
    {
     "data": {
      "text/plain": [
       "True"
      ]
     },
     "execution_count": 13,
     "metadata": {},
     "output_type": "execute_result"
    }
   ],
   "source": [
    "torch.cuda.is_available()"
   ]
  },
  {
   "cell_type": "code",
   "execution_count": 14,
   "metadata": {},
   "outputs": [
    {
     "data": {
      "text/plain": [
       "'GeForce GTX 1080'"
      ]
     },
     "execution_count": 14,
     "metadata": {},
     "output_type": "execute_result"
    }
   ],
   "source": [
    "torch.cuda.get_device_name(0)"
   ]
  },
  {
   "cell_type": "code",
   "execution_count": 15,
   "metadata": {},
   "outputs": [
    {
     "data": {
      "text/plain": [
       "1"
      ]
     },
     "execution_count": 15,
     "metadata": {},
     "output_type": "execute_result"
    }
   ],
   "source": [
    "torch.cuda.device_count()"
   ]
  },
  {
   "cell_type": "markdown",
   "metadata": {},
   "source": [
    "# extracting the HG-LFO for each data point in each trial as feature for later analysis"
   ]
  },
  {
   "cell_type": "code",
   "execution_count": 16,
   "metadata": {},
   "outputs": [
    {
     "data": {
      "text/plain": [
       "[<matplotlib.lines.Line2D at 0x7fdcc4722240>]"
      ]
     },
     "execution_count": 16,
     "metadata": {},
     "output_type": "execute_result"
    },
    {
     "data": {
      "image/png": "[encoded data removed]",
      "text/plain": [
       "<Figure size 864x288 with 1 Axes>"
      ]
     },
     "metadata": {
      "needs_background": "light"
     },
     "output_type": "display_data"
    }
   ],
   "source": [
    "# plot an example of broadband ECoG\n",
    "import matplotlib.pyplot as plt\n",
    "%matplotlib inline\n",
    "t = np.arange(1,500+1,1)\n",
    "fig = plt.figure(figsize=(12,4))\n",
    "ax = fig.add_axes([0,0,1,1])\n",
    "ax.plot(t,Trials_Raw_T4[0:500,0],'b')\n"
   ]
  },
  {
   "cell_type": "markdown",
   "metadata": {},
   "source": [
    "# Filtering the signal"
   ]
  },
  {
   "cell_type": "code",
   "execution_count": 17,
   "metadata": {},
   "outputs": [
    {
     "name": "stdout",
     "output_type": "stream",
     "text": [
      "Target: 0\n",
      "Target: 1\n",
      "Target: 2\n",
      "Target: 3\n",
      "End of Running Section\n"
     ]
    }
   ],
   "source": [
    "from scipy.signal import butter, filtfilt, hilbert\n",
    "import matplotlib.pyplot as plt\n",
    "\n",
    "All_Signal = [Trials_Raw_T1, Trials_Raw_T2, Trials_Raw_T3, Trials_Raw_T4];\n",
    "\n",
    "# initilize the values\n",
    "class structtype():\n",
    "    pass\n",
    "\n",
    "HilbertTarget = [ structtype() for i in range(4)]\n",
    "HilbertTarget[0].feature = [ structtype() for i in range(6)]\n",
    "HilbertTarget[1].feature = [ structtype() for i in range(6)]\n",
    "HilbertTarget[2].feature = [ structtype() for i in range(6)]\n",
    "HilbertTarget[3].feature = [ structtype() for i in range(6)]\n",
    "\n",
    "for target in range(4):\n",
    "    print('Target:',target)\n",
    "    Raw_Signals = All_Signal[target]\n",
    "    \n",
    "    # for delta band\n",
    "    nyq = 0.5 * Fs\n",
    "    low = 0.5/nyq\n",
    "    high = 4/nyq\n",
    "    b, a = butter(3, [low, high], btype='band')\n",
    "    Filtered = filtfilt(b,a,Raw_Signals,axis=0)\n",
    "    Hil = np.abs(hilbert(Filtered,axis=0))\n",
    "    HilbertTarget[target].feature[0] = Hil\n",
    "    \n",
    "    # for theta band\n",
    "    nyq = 0.5 * Fs\n",
    "    low = 4/nyq\n",
    "    high = 8/nyq\n",
    "    b, a = butter(3, [low, high], btype='band')\n",
    "    Filtered = filtfilt(b,a,Raw_Signals,axis=0)\n",
    "    Hil = np.abs(hilbert(Filtered,axis=0))\n",
    "    HilbertTarget[target].feature[1] = Hil\n",
    "    \n",
    "    # for alpha band\n",
    "    nyq = 0.5 * Fs\n",
    "    low = 8/nyq\n",
    "    high = 13/nyq\n",
    "    b, a = butter(3, [low, high], btype='band')\n",
    "    Filtered = filtfilt(b,a,Raw_Signals,axis=0)\n",
    "    Hil = np.abs(hilbert(Filtered,axis=0))\n",
    "    HilbertTarget[target].feature[2] = Hil\n",
    "    \n",
    "    # for beta band\n",
    "    nyq = 0.5 * Fs\n",
    "    low = 13/nyq\n",
    "    high = 30/nyq\n",
    "    b, a = butter(3, [low, high], btype='band')\n",
    "    Filtered = filtfilt(b,a,Raw_Signals,axis=0)\n",
    "    Hil = np.abs(hilbert(Filtered,axis=0))\n",
    "    HilbertTarget[target].feature[3] = Hil\n",
    "    \n",
    "    # for gamma1 band\n",
    "    nyq = 0.5 * Fs\n",
    "    low = 30/nyq\n",
    "    high = 50/nyq\n",
    "    b, a = butter(3, [low, high], btype='band')\n",
    "    Filtered = filtfilt(b,a,Raw_Signals,axis=0)\n",
    "    Hil = np.abs(hilbert(Filtered,axis=0))\n",
    "    HilbertTarget[target].feature[4] = Hil\n",
    "    \n",
    "    # for hg-lfo band\n",
    "    nyq = 0.5 * Fs\n",
    "    low = 70/nyq\n",
    "    high = 150/nyq\n",
    "    b, a = butter(3, [low, high], btype='band')\n",
    "    Filtered = filtfilt(b,a,Raw_Signals,axis=0)\n",
    "    Hil1 = np.abs(hilbert(Filtered,axis=0))\n",
    "    nyq = 0.5 * Fs\n",
    "    low = 0.5/nyq\n",
    "    high = 4/nyq\n",
    "    b, a = butter(3, [low, high], btype='band')\n",
    "    Filtered2 = filtfilt(b,a,Hil1,axis=0)\n",
    "    Hil2 = Filtered2 + Hil1.mean(0)\n",
    "    HilbertTarget[target].feature[5] = Hil2\n",
    "    \n",
    "print('End of Running Section')  \n"
   ]
  },
  {
   "cell_type": "code",
   "execution_count": 18,
   "metadata": {},
   "outputs": [
    {
     "data": {
      "text/plain": [
       "(29093, 128)"
      ]
     },
     "execution_count": 18,
     "metadata": {},
     "output_type": "execute_result"
    },
    {
     "data": {
      "image/png": "[encoded data removed]",
      "text/plain": [
       "<Figure size 864x288 with 1 Axes>"
      ]
     },
     "metadata": {
      "needs_background": "light"
     },
     "output_type": "display_data"
    }
   ],
   "source": [
    "# test the process of filtering signal for hg-lfo\n",
    "#a, b = Raw_Signals.shape\n",
    "#t = np.arange(1,a+1,1)\n",
    "t = np.arange(1,500+1,1)\n",
    "fig = plt.figure(figsize=(12,4))\n",
    "ax = fig.add_axes([0,0,1,1])\n",
    "ax.plot(t,Raw_Signals[0:500,0],'b')\n",
    "ax.plot(t,Filtered[0:500,0],'r')\n",
    "ax.plot(t,Hil1[0:500,0],'k')\n",
    "Forplot = HilbertTarget[3].feature[5]\n",
    "ax.plot(t,Forplot[0:500,0],'g')\n",
    "ax.set_xlim([0,500])\n",
    "#ax.set_ylim([0,2])\n",
    "Raw_Signals.shape"
   ]
  },
  {
   "cell_type": "markdown",
   "metadata": {},
   "source": [
    "# decide the inputs to LSTM"
   ]
  },
  {
   "cell_type": "code",
   "execution_count": 19,
   "metadata": {},
   "outputs": [],
   "source": [
    "# choosing the broadband ECoG for trials\n",
    "'''\n",
    "Data_T1 = Trials_Raw_T1\n",
    "Data_T2 = Trials_Raw_T2\n",
    "Data_T3 = Trials_Raw_T3\n",
    "Data_T4 = Trials_Raw_T4\n",
    "'''\n",
    "\n",
    "# or choose the feature hg-lfo\n",
    "\n",
    "Data_T1 = HilbertTarget[0].feature[5]\n",
    "Data_T2 = HilbertTarget[1].feature[5]\n",
    "Data_T3 = HilbertTarget[2].feature[5]\n",
    "Data_T4 = HilbertTarget[3].feature[5]\n",
    "\n",
    "\n",
    "# choose only bin based data...\n",
    "\n",
    "\n",
    "\n",
    "\n"
   ]
  },
  {
   "cell_type": "code",
   "execution_count": null,
   "metadata": {},
   "outputs": [],
   "source": []
  },
  {
   "cell_type": "code",
   "execution_count": null,
   "metadata": {},
   "outputs": [],
   "source": []
  },
  {
   "cell_type": "markdown",
   "metadata": {},
   "source": [
    "# Bring the data to torch space / peform LSTM"
   ]
  },
  {
   "cell_type": "code",
   "execution_count": 20,
   "metadata": {},
   "outputs": [],
   "source": [
    "import torch\n",
    "import torch.nn as nn\n",
    "import pandas as pd \n",
    "import matplotlib.pyplot as plt\n",
    "%matplotlib inline\n",
    "from torch.utils.data import DataLoader"
   ]
  },
  {
   "cell_type": "code",
   "execution_count": 21,
   "metadata": {},
   "outputs": [],
   "source": [
    "# Hyper parameters\n",
    "learning_rate = 0.001\n",
    "sequence_length = 200\n",
    "hidden_size = 50\n",
    "num_classes = 4\n",
    "batch_size = 64\n",
    "input_size = 128\n",
    "num_layers = 1\n",
    "num_epochs = 3\n"
   ]
  },
  {
   "cell_type": "code",
   "execution_count": 22,
   "metadata": {},
   "outputs": [],
   "source": [
    "# generate the train_data for LSTM\n",
    "# use neural feature as input or the broad band\n",
    "\n",
    "Data_T1_torch = torch.from_numpy(Data_T1)\n",
    "Data_T2_torch = torch.from_numpy(Data_T2)\n",
    "Data_T3_torch = torch.from_numpy(Data_T3)\n",
    "Data_T4_torch = torch.from_numpy(Data_T4)"
   ]
  },
  {
   "cell_type": "code",
   "execution_count": 23,
   "metadata": {},
   "outputs": [
    {
     "data": {
      "text/plain": [
       "tensor([[0.1232, 0.1328, 0.2044,  ..., 0.1538, 0.1475, 0.1670],\n",
       "        [0.1231, 0.1348, 0.2083,  ..., 0.1557, 0.1492, 0.1691],\n",
       "        [0.1230, 0.1369, 0.2123,  ..., 0.1575, 0.1510, 0.1711],\n",
       "        ...,\n",
       "        [0.1218, 0.1524, 0.1904,  ..., 0.1599, 0.1447, 0.1667],\n",
       "        [0.1218, 0.1524, 0.1904,  ..., 0.1599, 0.1447, 0.1667],\n",
       "        [0.1218, 0.1524, 0.1904,  ..., 0.1599, 0.1447, 0.1667]],\n",
       "       dtype=torch.float64)"
      ]
     },
     "execution_count": 23,
     "metadata": {},
     "output_type": "execute_result"
    }
   ],
   "source": [
    "Data_T1_torch"
   ]
  },
  {
   "cell_type": "code",
   "execution_count": 24,
   "metadata": {},
   "outputs": [
    {
     "name": "stdout",
     "output_type": "stream",
     "text": [
      "Shape of tensor: torch.Size([24406, 128])\n",
      "Datatype of tensor: torch.float64\n",
      "Device tensor is stored on: cpu\n"
     ]
    }
   ],
   "source": [
    "print(f\"Shape of tensor: {Data_T1_torch.shape}\")\n",
    "print(f\"Datatype of tensor: {Data_T1_torch.dtype}\")\n",
    "print(f\"Device tensor is stored on: {Data_T1_torch.device}\")"
   ]
  },
  {
   "cell_type": "code",
   "execution_count": null,
   "metadata": {},
   "outputs": [],
   "source": []
  },
  {
   "cell_type": "code",
   "execution_count": 25,
   "metadata": {},
   "outputs": [
    {
     "data": {
      "text/plain": [
       "[<matplotlib.lines.Line2D at 0x7fdc9b8d0ba8>]"
      ]
     },
     "execution_count": 25,
     "metadata": {},
     "output_type": "execute_result"
    },
    {
     "data": {
      "image/png": "[encoded data removed]",
      "text/plain": [
       "<Figure size 864x288 with 1 Axes>"
      ]
     },
     "metadata": {
      "needs_background": "light"
     },
     "output_type": "display_data"
    }
   ],
   "source": [
    "# ploting the first sample data for T1\n",
    "DataPlot = Data_T1_torch.numpy()\n",
    "plt.figure(figsize=(12,4))\n",
    "plt.plot(np.arange(128), DataPlot[0][:])"
   ]
  },
  {
   "cell_type": "code",
   "execution_count": 26,
   "metadata": {},
   "outputs": [],
   "source": [
    "# generating the labels for data\n",
    "Y_T1_torch = 1 * torch.ones(Data_T1_torch.shape[0],1)\n",
    "Y_T2_torch = 2 * torch.ones(Data_T2_torch.shape[0],1)\n",
    "Y_T3_torch = 3 * torch.ones(Data_T3_torch.shape[0],1)\n",
    "Y_T4_torch = 4 * torch.ones(Data_T4_torch.shape[0],1)\n",
    "\n",
    "#Y_T1_torch = torch.zeros(window_size, 4)\n",
    "#Y_T2_torch = torch.zeros(window_size, 4)\n",
    "#Y_T3_torch = torch.zeros(window_size, 4)\n",
    "#Y_T4_torch = torch.zeros(window_size, 4)\n",
    "\n",
    "\n",
    "#Y_T1_torch[:,0] = 1 \n",
    "#Y_T2_torch[:,1] = 1 \n",
    "#Y_T3_torch[:,2] = 1 \n",
    "#Y_T4_torch[:,3] = 1 "
   ]
  },
  {
   "cell_type": "code",
   "execution_count": 27,
   "metadata": {},
   "outputs": [
    {
     "data": {
      "text/plain": [
       "tensor([[1.],\n",
       "        [1.],\n",
       "        [1.],\n",
       "        ...,\n",
       "        [1.],\n",
       "        [1.],\n",
       "        [1.]])"
      ]
     },
     "execution_count": 27,
     "metadata": {},
     "output_type": "execute_result"
    }
   ],
   "source": [
    "Y_T1_torch"
   ]
  },
  {
   "cell_type": "code",
   "execution_count": 28,
   "metadata": {},
   "outputs": [
    {
     "data": {
      "text/plain": [
       "tensor([1.])"
      ]
     },
     "execution_count": 28,
     "metadata": {},
     "output_type": "execute_result"
    }
   ],
   "source": [
    "Y_T1_torch[0]"
   ]
  },
  {
   "cell_type": "code",
   "execution_count": null,
   "metadata": {},
   "outputs": [],
   "source": []
  },
  {
   "cell_type": "code",
   "execution_count": 29,
   "metadata": {},
   "outputs": [],
   "source": [
    "# preparing a batch \n",
    "\n",
    "def input_data(data, label, sequence_length, train_set):\n",
    "    \n",
    "   # creat this batch\n",
    "    L = data.shape[0]\n",
    "    \n",
    "    for i in range(L-sequence_length):\n",
    "        window = data[i:i+sequence_length][:]\n",
    "        #label = label[i+ws:i+ws+1]\n",
    "        train_set.append((window, label))\n",
    "\n",
    "    return train_set\n",
    "    \n",
    "    "
   ]
  },
  {
   "cell_type": "code",
   "execution_count": 30,
   "metadata": {},
   "outputs": [],
   "source": [
    "# by considering batch creation\n",
    "# determining the temporal dynamics of ECoG \n",
    "# feed the data for creating the batches\n",
    "# append all the targets\n",
    "train_set = []    \n",
    "Train_batch_1 = input_data(Data_T1_torch,Y_T1_torch[0], sequence_length, train_set)\n",
    "Train_batch_2 = input_data(Data_T2_torch,Y_T2_torch[0], sequence_length, Train_batch_1)\n",
    "Train_batch_3 = input_data(Data_T3_torch,Y_T3_torch[0], sequence_length, Train_batch_2)\n",
    "Train_batch_4 = input_data(Data_T4_torch,Y_T4_torch[0], sequence_length, Train_batch_3)"
   ]
  },
  {
   "cell_type": "code",
   "execution_count": 31,
   "metadata": {},
   "outputs": [],
   "source": [
    "train_set = Train_batch_4"
   ]
  },
  {
   "cell_type": "code",
   "execution_count": 32,
   "metadata": {},
   "outputs": [
    {
     "data": {
      "text/plain": [
       "99632"
      ]
     },
     "execution_count": 32,
     "metadata": {},
     "output_type": "execute_result"
    }
   ],
   "source": [
    "len(train_set)"
   ]
  },
  {
   "cell_type": "code",
   "execution_count": 33,
   "metadata": {},
   "outputs": [
    {
     "data": {
      "text/plain": [
       "(tensor([[0.1232, 0.1328, 0.2044,  ..., 0.1538, 0.1475, 0.1670],\n",
       "         [0.1231, 0.1348, 0.2083,  ..., 0.1557, 0.1492, 0.1691],\n",
       "         [0.1230, 0.1369, 0.2123,  ..., 0.1575, 0.1510, 0.1711],\n",
       "         ...,\n",
       "         [0.1329, 0.2684, 0.3928,  ..., 0.2325, 0.2103, 0.2651],\n",
       "         [0.1329, 0.2678, 0.3918,  ..., 0.2325, 0.2100, 0.2662],\n",
       "         [0.1330, 0.2672, 0.3909,  ..., 0.2325, 0.2097, 0.2672]],\n",
       "        dtype=torch.float64),\n",
       " tensor([1.]))"
      ]
     },
     "execution_count": 33,
     "metadata": {},
     "output_type": "execute_result"
    }
   ],
   "source": [
    "train_set[0]"
   ]
  },
  {
   "cell_type": "code",
   "execution_count": 34,
   "metadata": {},
   "outputs": [],
   "source": [
    "# consider only training set and shuffle all\n",
    "train_loader = DataLoader(train_set, batch_size, shuffle=True)"
   ]
  },
  {
   "cell_type": "code",
   "execution_count": null,
   "metadata": {},
   "outputs": [],
   "source": []
  },
  {
   "cell_type": "code",
   "execution_count": 35,
   "metadata": {},
   "outputs": [],
   "source": [
    "def get_default_device():\n",
    "    \"\"\"Pick GPU if available, else CPU\"\"\"\n",
    "    if torch.cuda.is_available():\n",
    "        return torch.device('cuda')\n",
    "    else:\n",
    "        return torch.device('cpu')\n",
    "    \n",
    "def to_device(data, device):\n",
    "    \"\"\"Move tensor(s) to chosen device\"\"\"\n",
    "    if isinstance(data, (list,tuple)):\n",
    "        return [to_device(x, device) for x in data]\n",
    "    return data.to(device, non_blocking=True)\n",
    "\n",
    "class DeviceDataLoader():\n",
    "    \"\"\"Wrap a dataloader to move data to a device\"\"\"\n",
    "    def __init__(self, dl, device):\n",
    "        self.dl = dl\n",
    "        self.device = device\n",
    "        \n",
    "    def __iter__(self):\n",
    "        \"\"\"Yield a batch of data after moving it to device\"\"\"\n",
    "        for b in self.dl: \n",
    "            yield to_device(b, self.device)\n",
    "            \n",
    "def __len__(self):\n",
    "    \"\"\"Number of batches\"\"\"\n",
    "    return len(self.dl)"
   ]
  },
  {
   "cell_type": "code",
   "execution_count": 36,
   "metadata": {},
   "outputs": [
    {
     "data": {
      "text/plain": [
       "device(type='cuda')"
      ]
     },
     "execution_count": 36,
     "metadata": {},
     "output_type": "execute_result"
    }
   ],
   "source": [
    "device = get_default_device()\n",
    "device"
   ]
  },
  {
   "cell_type": "code",
   "execution_count": 86,
   "metadata": {},
   "outputs": [],
   "source": [
    "# create the LSTM model\n",
    "class LSTMModel(nn.Module):\n",
    "    def __init__(self, input_size, hidden_size, num_layers, num_classes):\n",
    "        super(LSTMModel, self).__init__()\n",
    "        self.hidden_size = hidden_size\n",
    "        self.num_layers = num_layers\n",
    "        self.lstm = nn.LSTM(input_size, hidden_size, num_layers, batch_first=True)\n",
    "        self.fc = nn.Linear(hidden_size, num_classes)\n",
    "        \n",
    "        # additional layer for classification problem\n",
    "        #self.SoftAct = nn.Softmax()\n",
    "    \n",
    "    def forward(self, x):\n",
    "        h = torch.zeros(self.num_layers, x.size(0), self.hidden_size).to(device) \n",
    "        c = torch.zeros(self.num_layers, x.size(0), self.hidden_size).to(device)\n",
    "        \n",
    "        out, _ = self.lstm(x, (h, c))  \n",
    "        \n",
    "        out = self.fc(out[:, -1, :])\n",
    "        \n",
    "        # additional layer for classification problem\n",
    "        # out = self.SoftAct(out)\n",
    "        \n",
    "        return out\n",
    "    "
   ]
  },
  {
   "cell_type": "code",
   "execution_count": 87,
   "metadata": {},
   "outputs": [
    {
     "data": {
      "text/plain": [
       "LSTMModel(\n",
       "  (lstm): LSTM(128, 50, batch_first=True)\n",
       "  (fc): Linear(in_features=50, out_features=4, bias=True)\n",
       ")"
      ]
     },
     "execution_count": 87,
     "metadata": {},
     "output_type": "execute_result"
    }
   ],
   "source": [
    "model = LSTMModel(input_size, hidden_size, num_layers, num_classes)\n",
    "to_device(model, device)"
   ]
  },
  {
   "cell_type": "code",
   "execution_count": 88,
   "metadata": {},
   "outputs": [],
   "source": [
    "criterion = nn.CrossEntropyLoss()\n",
    "optimizer = torch.optim.Adam(model.parameters(), lr=learning_rate)"
   ]
  },
  {
   "cell_type": "code",
   "execution_count": 92,
   "metadata": {},
   "outputs": [
    {
     "name": "stdout",
     "output_type": "stream",
     "text": [
      "Epoch [1/3], Step [100/1557], Loss: 1.3638\n",
      "Epoch [1/3], Step [200/1557], Loss: 1.2908\n",
      "Epoch [1/3], Step [300/1557], Loss: 1.2562\n",
      "Epoch [1/3], Step [400/1557], Loss: 1.2629\n",
      "Epoch [1/3], Step [500/1557], Loss: 1.0065\n",
      "Epoch [1/3], Step [600/1557], Loss: 0.7798\n",
      "Epoch [1/3], Step [700/1557], Loss: 0.8321\n",
      "Epoch [1/3], Step [800/1557], Loss: 1.1209\n",
      "Epoch [1/3], Step [900/1557], Loss: 1.1823\n",
      "Epoch [1/3], Step [1000/1557], Loss: 0.9157\n",
      "Epoch [1/3], Step [1100/1557], Loss: 1.4117\n",
      "Epoch [1/3], Step [1200/1557], Loss: 1.3511\n",
      "Epoch [1/3], Step [1300/1557], Loss: 1.2990\n",
      "Epoch [1/3], Step [1400/1557], Loss: 1.2857\n",
      "Epoch [1/3], Step [1500/1557], Loss: 0.9818\n",
      "Epoch [2/3], Step [100/1557], Loss: 1.0563\n",
      "Epoch [2/3], Step [200/1557], Loss: 0.9396\n",
      "Epoch [2/3], Step [300/1557], Loss: 1.0885\n",
      "Epoch [2/3], Step [400/1557], Loss: 0.9904\n",
      "Epoch [2/3], Step [500/1557], Loss: 0.9882\n",
      "Epoch [2/3], Step [600/1557], Loss: 1.1246\n",
      "Epoch [2/3], Step [700/1557], Loss: 0.8871\n",
      "Epoch [2/3], Step [800/1557], Loss: 0.8346\n",
      "Epoch [2/3], Step [900/1557], Loss: 0.9290\n",
      "Epoch [2/3], Step [1000/1557], Loss: 1.2846\n",
      "Epoch [2/3], Step [1100/1557], Loss: 1.3383\n",
      "Epoch [2/3], Step [1200/1557], Loss: 0.9678\n",
      "Epoch [2/3], Step [1300/1557], Loss: 0.9735\n",
      "Epoch [2/3], Step [1400/1557], Loss: 1.0286\n",
      "Epoch [2/3], Step [1500/1557], Loss: 0.7423\n",
      "Epoch [3/3], Step [100/1557], Loss: 1.3866\n",
      "Epoch [3/3], Step [200/1557], Loss: 1.3793\n",
      "Epoch [3/3], Step [300/1557], Loss: 1.3599\n",
      "Epoch [3/3], Step [400/1557], Loss: 1.3567\n",
      "Epoch [3/3], Step [500/1557], Loss: 1.3514\n",
      "Epoch [3/3], Step [600/1557], Loss: 1.1353\n",
      "Epoch [3/3], Step [700/1557], Loss: 1.2652\n",
      "Epoch [3/3], Step [800/1557], Loss: 1.3107\n",
      "Epoch [3/3], Step [900/1557], Loss: 1.1376\n",
      "Epoch [3/3], Step [1000/1557], Loss: 1.0361\n",
      "Epoch [3/3], Step [1100/1557], Loss: 1.0602\n",
      "Epoch [3/3], Step [1200/1557], Loss: 1.0069\n",
      "Epoch [3/3], Step [1300/1557], Loss: 0.9786\n",
      "Epoch [3/3], Step [1400/1557], Loss: 0.9165\n",
      "Epoch [3/3], Step [1500/1557], Loss: 0.8429\n"
     ]
    }
   ],
   "source": [
    "# Train the model\n",
    "\n",
    "All_y_pred = []\n",
    "All_y_train = []\n",
    "\n",
    "#model = model.to(torch.long)\n",
    "model = model.to(torch.float)\n",
    "\n",
    "total_step = len(train_loader)\n",
    "for epoch in range(num_epochs):\n",
    "    for i, (images, labels) in enumerate(train_loader):\n",
    "        #print(labels.shape)\n",
    "        labels = labels.T[0,:]\n",
    "        labels = labels-1\n",
    "        \n",
    "        # for saving\n",
    "        All_y_train.append(labels.numpy())\n",
    "        \n",
    "        images = images.reshape(-1, sequence_length, input_size).to(device)\n",
    "        labels = labels.to(torch.long)\n",
    "        labels = labels.to(device)\n",
    "        \n",
    "        #labels = labels.to(torch.float)\n",
    "        \n",
    "        # test with random inputs\n",
    "        #target = torch.empty(batch_size, dtype=torch.long).random_(num_classes)\n",
    "        #labels_1 = target\n",
    "        \n",
    "        #images = images.to(torch.long)\n",
    "        images = images.to(torch.float)\n",
    "        \n",
    "        # zero the parameter gradients\n",
    "        optimizer.zero_grad()\n",
    "        # reset hidden states\n",
    "        model.hidden = (torch.zeros(1, 1, model.hidden_size), torch.zeros(1, 1, model.hidden_size))\n",
    "        \n",
    "                \n",
    "        # Forward pass\n",
    "        outputs = model(images)\n",
    "        #outputs = outputs.to(torch.long)\n",
    "        outputs = outputs.to(torch.float)\n",
    "        loss = criterion(outputs, labels)\n",
    "        \n",
    "        # for saving \n",
    "        _, predicted = torch.max(outputs.data, 1)\n",
    "        All_y_pred.append(predicted.cpu().numpy())\n",
    "        \n",
    "        \n",
    "        # Backward pass and optimize\n",
    "        #optimizer.zero_grad()\n",
    "        loss.backward()\n",
    "        optimizer.step()\n",
    "        \n",
    "        if (i+1) % 100 == 0:\n",
    "            print ('Epoch [{}/{}], Step [{}/{}], Loss: {:.4f}' .format(epoch+1, num_epochs, i+1, total_step, loss.item()))"
   ]
  },
  {
   "cell_type": "code",
   "execution_count": 79,
   "metadata": {},
   "outputs": [
    {
     "name": "stdout",
     "output_type": "stream",
     "text": [
      "tensor([[ 2.8093, -1.5914,  0.8895, -2.7676],\n",
      "        [-2.7573,  1.6030,  0.5100,  1.6146],\n",
      "        [-0.7209,  0.5325,  1.2888, -0.4308],\n",
      "        [-3.2454,  1.7928,  0.1192,  2.2770],\n",
      "        [-1.1850,  0.8517,  1.1657, -0.0647],\n",
      "        [-2.0929,  1.2934,  0.9259,  0.7984],\n",
      "        [ 2.7830, -1.6090,  0.8400, -2.4966],\n",
      "        [-0.8654,  0.4298,  0.6936,  0.4464],\n",
      "        [ 2.9839, -1.7119,  0.7455, -2.7227],\n",
      "        [-2.3651,  1.4295,  0.6259,  1.2163],\n",
      "        [-1.0296,  0.7406,  1.2778, -0.2239],\n",
      "        [ 3.3584, -1.9864,  0.6037, -2.7353],\n",
      "        [ 0.4740, -0.1889,  1.2251, -1.1986],\n",
      "        [ 3.6620, -2.1196,  0.4645, -2.8679],\n",
      "        [-2.7602,  1.5999,  0.4737,  1.6470],\n",
      "        [-2.6351,  1.5664,  0.6440,  1.4176],\n",
      "        [ 1.2188, -0.6983,  1.0081, -1.3860],\n",
      "        [-2.2925,  1.4044,  0.7983,  1.0440],\n",
      "        [ 3.2860, -1.9340,  0.5612, -2.6622],\n",
      "        [-2.3921,  1.4478,  0.7234,  1.1828],\n",
      "        [-1.4479,  0.9936,  1.1509,  0.1405],\n",
      "        [-2.4006,  1.4615,  0.7095,  1.1426],\n",
      "        [ 3.3556, -1.9723,  0.6521, -2.7470],\n",
      "        [-0.5225,  0.4320,  1.3661, -0.6587],\n",
      "        [-2.7553,  1.5956,  0.4898,  1.6158],\n",
      "        [ 0.9977, -0.5199,  1.1185, -1.4473],\n",
      "        [-1.4270,  0.9398,  1.1515,  0.1799],\n",
      "        [-2.6904,  1.5676,  0.6201,  1.4960],\n",
      "        [-2.1823,  1.2926,  0.6997,  1.1230],\n",
      "        [-1.7563,  1.1063,  0.9662,  0.5842],\n",
      "        [ 3.7042, -2.1363,  0.4191, -2.8485],\n",
      "        [ 3.3032, -1.9400,  0.5995, -2.7294],\n",
      "        [-2.2897,  1.3923,  0.7468,  1.1062],\n",
      "        [-1.2726,  0.8600,  1.1126,  0.0928],\n",
      "        [-2.0094,  1.1839,  0.5457,  1.1801],\n",
      "        [-1.9528,  1.2196,  0.9058,  0.7236],\n",
      "        [ 3.4095, -1.9994,  0.6664, -2.8173],\n",
      "        [ 3.7589, -2.1774,  0.4466, -2.8941],\n",
      "        [-2.7457,  1.6019,  0.4589,  1.5989],\n",
      "        [ 0.3975, -0.2101,  1.0129, -0.9381],\n",
      "        [-2.9874,  1.7238,  0.3763,  1.8517],\n",
      "        [-2.3659,  1.4094,  0.7110,  1.2015],\n",
      "        [-2.7553,  1.5881,  0.3810,  1.7266],\n",
      "        [-1.6167,  1.0786,  1.0952,  0.3036],\n",
      "        [-2.1483,  1.3392,  0.8066,  0.9068],\n",
      "        [-0.7910,  0.5906,  1.1944, -0.3478],\n",
      "        [-2.6787,  1.5647,  0.4425,  1.6107],\n",
      "        [-2.7359,  1.6139,  0.5382,  1.5188]], device='cuda:0')\n",
      "torch.return_types.max(\n",
      "values=tensor([2.8093, 1.6146, 1.2888, 2.2770, 1.1657, 1.2934, 2.7830, 0.6936, 2.9839,\n",
      "        1.4295, 1.2778, 3.3584, 1.2251, 3.6620, 1.6470, 1.5664, 1.2188, 1.4044,\n",
      "        3.2860, 1.4478, 1.1509, 1.4615, 3.3556, 1.3661, 1.6158, 1.1185, 1.1515,\n",
      "        1.5676, 1.2926, 1.1063, 3.7042, 3.3032, 1.3923, 1.1126, 1.1839, 1.2196,\n",
      "        3.4095, 3.7589, 1.6019, 1.0129, 1.8517, 1.4094, 1.7266, 1.0952, 1.3392,\n",
      "        1.1944, 1.6107, 1.6139], device='cuda:0'),\n",
      "indices=tensor([0, 3, 2, 3, 2, 1, 0, 2, 0, 1, 2, 0, 2, 0, 3, 1, 0, 1, 0, 1, 2, 1, 0, 2,\n",
      "        3, 2, 2, 1, 1, 1, 0, 0, 1, 2, 1, 1, 0, 0, 1, 2, 3, 1, 3, 2, 1, 2, 3, 1],\n",
      "       device='cuda:0'))\n"
     ]
    }
   ],
   "source": [
    "qw = outputs.data\n",
    "print(qw)\n",
    "print(torch.max(outputs.data, 1))"
   ]
  },
  {
   "cell_type": "code",
   "execution_count": 60,
   "metadata": {},
   "outputs": [
    {
     "data": {
      "text/plain": [
       "torch.Size([48, 200, 128])"
      ]
     },
     "execution_count": 60,
     "metadata": {},
     "output_type": "execute_result"
    }
   ],
   "source": [
    "images.shape\n",
    "\n",
    "\n"
   ]
  },
  {
   "cell_type": "code",
   "execution_count": 74,
   "metadata": {},
   "outputs": [
    {
     "data": {
      "text/plain": [
       "1.0"
      ]
     },
     "execution_count": 74,
     "metadata": {},
     "output_type": "execute_result"
    }
   ],
   "source": [
    "0.0020 + 0.3192 + 0.1581 + 0.5207"
   ]
  },
  {
   "cell_type": "code",
   "execution_count": 215,
   "metadata": {},
   "outputs": [
    {
     "data": {
      "text/plain": [
       "torch.Size([64])"
      ]
     },
     "execution_count": 215,
     "metadata": {},
     "output_type": "execute_result"
    }
   ],
   "source": [
    "target.shape\n"
   ]
  },
  {
   "cell_type": "code",
   "execution_count": 245,
   "metadata": {},
   "outputs": [
    {
     "data": {
      "text/plain": [
       "tensor([3, 3, 3, 0, 0, 0, 2, 2, 0, 2, 3, 3, 0, 2, 1, 2, 3, 1, 1, 3, 3, 3, 2, 0,\n",
       "        1, 2, 0, 1, 1, 0, 0, 0, 3, 2, 2, 2, 2, 2, 0, 0, 3, 0, 3, 1, 0, 1, 3, 3,\n",
       "        2, 1, 3, 3, 1, 0, 0, 0, 3, 3, 1, 2, 1, 3, 0, 3])"
      ]
     },
     "execution_count": 245,
     "metadata": {},
     "output_type": "execute_result"
    }
   ],
   "source": [
    "labels-1"
   ]
  },
  {
   "cell_type": "code",
   "execution_count": 244,
   "metadata": {},
   "outputs": [
    {
     "data": {
      "text/plain": [
       "tensor([1, 2, 2, 2, 3, 0, 0, 1, 1, 1, 0, 0, 1, 2, 1, 3, 1, 3, 3, 2, 0, 3, 2, 1,\n",
       "        3, 0, 0, 3, 0, 2, 3, 0, 2, 0, 0, 3, 2, 0, 2, 1, 3, 0, 2, 2, 1, 3, 2, 2,\n",
       "        2, 2, 3, 0, 3, 1, 0, 2, 3, 1, 0, 2, 3, 0, 3, 3])"
      ]
     },
     "execution_count": 244,
     "metadata": {},
     "output_type": "execute_result"
    }
   ],
   "source": [
    "labels_1"
   ]
  },
  {
   "cell_type": "code",
   "execution_count": 80,
   "metadata": {},
   "outputs": [
    {
     "name": "stdout",
     "output_type": "stream",
     "text": [
      "25600\n",
      "10000\n",
      "200\n",
      "200\n",
      "200\n",
      "4\n"
     ]
    }
   ],
   "source": [
    "# check the number of parameters in layers\n",
    "for p in model.parameters():\n",
    "    print(p.numel())"
   ]
  },
  {
   "cell_type": "code",
   "execution_count": 81,
   "metadata": {},
   "outputs": [
    {
     "data": {
      "text/plain": [
       "array([3, 3, 3, 3, 3, 3, 3, 3, 3, 3, 3, 3, 3, 3, 3, 3, 3, 3, 3, 3, 3, 3,\n",
       "       3, 3, 3, 3, 3, 3, 3, 3, 3, 3, 3, 3, 3, 3, 3, 3, 3, 3, 3, 3, 3, 3,\n",
       "       3, 3, 3, 3, 3, 3, 3, 3, 3, 3, 3, 3, 3, 3, 3, 3, 3, 3, 3, 3])"
      ]
     },
     "execution_count": 81,
     "metadata": {},
     "output_type": "execute_result"
    }
   ],
   "source": [
    "All_y_pred[0]\n",
    "#All_y_train = []"
   ]
  },
  {
   "cell_type": "code",
   "execution_count": 82,
   "metadata": {},
   "outputs": [
    {
     "data": {
      "text/plain": [
       "array([2., 2., 3., 2., 2., 1., 0., 1., 2., 0., 1., 1., 2., 1., 3., 2., 3.,\n",
       "       0., 2., 3., 3., 3., 3., 3., 2., 2., 0., 2., 1., 3., 2., 1., 0., 2.,\n",
       "       1., 1., 1., 0., 0., 1., 2., 1., 3., 3., 3., 3., 0., 1., 2., 2., 3.,\n",
       "       0., 3., 3., 1., 3., 3., 2., 2., 3., 0., 1., 3., 3.], dtype=float32)"
      ]
     },
     "execution_count": 82,
     "metadata": {},
     "output_type": "execute_result"
    }
   ],
   "source": [
    "All_y_train[0].T"
   ]
  },
  {
   "cell_type": "code",
   "execution_count": 83,
   "metadata": {},
   "outputs": [
    {
     "data": {
      "text/plain": [
       "32.8125"
      ]
     },
     "execution_count": 83,
     "metadata": {},
     "output_type": "execute_result"
    }
   ],
   "source": [
    "((All_y_pred[0] == All_y_train[0].T).sum().item())/batch_size*100"
   ]
  },
  {
   "cell_type": "code",
   "execution_count": 93,
   "metadata": {},
   "outputs": [],
   "source": [
    "Accuracies = []\n",
    "for i in range(len(All_y_pred)):\n",
    "    acc = ((All_y_pred[i] == All_y_train[i].T).sum().item())/batch_size*100\n",
    "    Accuracies.append(acc)\n",
    "    \n",
    "    "
   ]
  },
  {
   "cell_type": "code",
   "execution_count": 94,
   "metadata": {},
   "outputs": [
    {
     "data": {
      "text/plain": [
       "Text(0.5, 0, 'Batch Number')"
      ]
     },
     "execution_count": 94,
     "metadata": {},
     "output_type": "execute_result"
    },
    {
     "data": {
      "image/png": "[encoded data removed]",
      "text/plain": [
       "<Figure size 1080x288 with 1 Axes>"
      ]
     },
     "metadata": {
      "needs_background": "light"
     },
     "output_type": "display_data"
    }
   ],
   "source": [
    "import matplotlib.pyplot as plt\n",
    "%matplotlib inline\n",
    "t_bin = np.arange(0,len(All_y_pred),1)\n",
    "fig = plt.figure(figsize=(15,4))\n",
    "ax = fig.add_axes([.10,.10,0.9,.9])\n",
    "ax.plot(t_bin,Accuracies,'r')\n",
    "ax.set_ylabel('Accuracy')\n",
    "ax.set_xlabel('Batch Number')\n",
    "#plt.savefig('Classification1_4target.png',facecolor='w', transparent=False, dpi=300)\n"
   ]
  },
  {
   "cell_type": "code",
   "execution_count": null,
   "metadata": {},
   "outputs": [],
   "source": [
    "# Evaluate the model\n",
    "model.eval()\n",
    "with torch.no_grad():\n",
    "    right = 0\n",
    "    total = 0\n",
    "    for images, labels in test_loader:\n",
    "        images = images.reshape(-1, sequence_length, \n",
    "                 input_size).to(device)\n",
    "        labels = labels.to(device)\n",
    "        outputs = model(images)\n",
    "        _, predicted = torch.max(outputs.data, 1)\n",
    "        total += labels.size(0)\n",
    "        right += (predicted == labels).sum().item()\n",
    "        \n",
    "print('Test Accuracy of the model on the 10000 test images: {} %'.format(100 * right / total))"
   ]
  },
  {
   "cell_type": "code",
   "execution_count": null,
   "metadata": {},
   "outputs": [],
   "source": []
  },
  {
   "cell_type": "code",
   "execution_count": null,
   "metadata": {},
   "outputs": [],
   "source": [
    "\n"
   ]
  },
  {
   "cell_type": "code",
   "execution_count": null,
   "metadata": {},
   "outputs": [],
   "source": []
  },
  {
   "cell_type": "code",
   "execution_count": null,
   "metadata": {},
   "outputs": [],
   "source": [
    "\n"
   ]
  },
  {
   "cell_type": "code",
   "execution_count": null,
   "metadata": {},
   "outputs": [],
   "source": []
  },
  {
   "cell_type": "code",
   "execution_count": null,
   "metadata": {},
   "outputs": [],
   "source": []
  },
  {
   "cell_type": "code",
   "execution_count": null,
   "metadata": {},
   "outputs": [],
   "source": [
    "\n"
   ]
  },
  {
   "cell_type": "code",
   "execution_count": null,
   "metadata": {},
   "outputs": [],
   "source": []
  },
  {
   "cell_type": "code",
   "execution_count": null,
   "metadata": {},
   "outputs": [],
   "source": []
  },
  {
   "cell_type": "code",
   "execution_count": null,
   "metadata": {},
   "outputs": [],
   "source": []
  },
  {
   "cell_type": "code",
   "execution_count": null,
   "metadata": {},
   "outputs": [],
   "source": [
    "\n"
   ]
  },
  {
   "cell_type": "code",
   "execution_count": null,
   "metadata": {},
   "outputs": [],
   "source": []
  },
  {
   "cell_type": "code",
   "execution_count": null,
   "metadata": {},
   "outputs": [],
   "source": []
  },
  {
   "cell_type": "code",
   "execution_count": null,
   "metadata": {},
   "outputs": [],
   "source": []
  }
 ],
 "metadata": {
  "kernelspec": {
   "display_name": "ECoGControl_RNN",
   "language": "python",
   "name": "ecogcontrol_rnn"
  },
  "language_info": {
   "codemirror_mode": {
    "name": "ipython",
    "version": 3
   },
   "file_extension": ".py",
   "mimetype": "text/x-python",
   "name": "python",
   "nbconvert_exporter": "python",
   "pygments_lexer": "ipython3",
   "version": "3.7.3"
  }
 },
 "nbformat": 4,
 "nbformat_minor": 5
}
